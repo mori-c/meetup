{
 "cells": [
  {
   "cell_type": "code",
   "execution_count": null,
   "metadata": {},
   "outputs": [],
   "source": [
    "# pusheen_gif origin\n",
    "# into dogs_pizza_gif\n",
    "\n",
    "\n",
    "from bs4 import BeautifulSoup\n",
    "import random \n",
    "import urllib.request\n",
    "\n",
    "def getDogsPizza(pageNum, x):\n",
    "    class AppURLopener(urllib.request.FancyURLopener):\n",
    "        version = 'Mozilla/5.0'\n",
    "    opener = AppURLopener()\n",
    "    url = \n",
    " "
   ]
  }
 ],
 "metadata": {
  "kernelspec": {
   "display_name": "Python 3",
   "language": "python",
   "name": "python3"
  },
  "language_info": {
   "codemirror_mode": {
    "name": "ipython",
    "version": 3
   },
   "file_extension": ".py",
   "mimetype": "text/x-python",
   "name": "python",
   "nbconvert_exporter": "python",
   "pygments_lexer": "ipython3",
   "version": "3.7.3"
  }
 },
 "nbformat": 4,
 "nbformat_minor": 2
}
