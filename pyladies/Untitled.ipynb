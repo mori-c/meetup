{
 "cells": [
  {
   "cell_type": "code",
   "execution_count": null,
   "metadata": {},
   "outputs": [],
   "source": [
    "# cat_ipsum origin\n",
    "\n",
    "\n",
    "import pause\n",
    "from selenium import webdriver\n",
    "from selenium.webdriver.support.ui import WebDriverWait\n",
    "from selenium.webdriver.support\n",
    "\n",
    "browser = webdriver.Chrome\n",
    "(executable_path = r'https://github.com/mori-c/meetups/blob/master/pyladies/helper/workshop/chromedriver'\n",
    " \n",
    "browser.get('https://giphy.com/search/dogs-pizza')\n",
    "pause.seconds(1)\n",
    " \n",
    "paraNum = browser.find_element_by_name('par_count')\n",
    "paraNum.clear()\n",
    "paraNum.send_keys('1')\n",
    "browser.find_element_by_id('add_title').click()\n",
    "browser.find_element_by_name('Generate').click()\n",
    " \n",
    "wait = WebDriverWait(browser, 10)\n",
    "title = wait.until(ec.visibility_of_element_located((By.XPATH, '//*[@id=\"selectable\"]/div')))\n",
    "print(title.text)\n",
    "\n",
    "browser.find_element_by_xpath('//select/option[@value=\"phrase\"]').click()\n",
    "browser.find_element_by_name('Generate').click()\n",
    "\n",
    "ipsum = wait.until(ec.visibility_of_element_located((By.XPATH, '//*[@id=\"selectable\"]/div')))\n",
    "for x in range (1, 4):\n",
    " print(browser.find_element_by_xpath('//*[@id=\"selectable\"]/span[' + str(x) + ']').text)\n",
    " \n",
    "browser.close()\n",
    "browser.quit()\n",
    " \n",
    " \n",
    " "
   ]
  }
 ],
 "metadata": {
  "kernelspec": {
   "display_name": "Python 3",
   "language": "python",
   "name": "python3"
  },
  "language_info": {
   "codemirror_mode": {
    "name": "ipython",
    "version": 3
   },
   "file_extension": ".py",
   "mimetype": "text/x-python",
   "name": "python",
   "nbconvert_exporter": "python",
   "pygments_lexer": "ipython3",
   "version": "3.7.3"
  }
 },
 "nbformat": 4,
 "nbformat_minor": 2
}
