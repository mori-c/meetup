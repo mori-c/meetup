{
 "cells": [
  {
   "cell_type": "code",
   "execution_count": null,
   "metadata": {},
   "outputs": [],
   "source": [
    "from bs4 import BeautifulSoup\n",
    "import requests, regex\n",
    "\n",
    "def getHeading(sites, topic):\n",
    "    headings = []\n",
    "    def getTopThree(site):\n",
    "        x = 0\n",
    "        reponse = requests.get(site)\n",
    "        response.raise_for_status()\n",
    "        content = BeautifulSoup(response.content, 'html.parser')\n",
    "        \n",
    "        hs = content.find_all(regex.compile('^h[1-2]'))\n",
    "        for h in hs:\n",
    "            if h.a is not None:\n",
    "                h1 = h.a.text.strip()\n",
    "                if topic in h1.lower():\n",
    "                    x += 1\n",
    "                    headings.append(h1)\n",
    "                    if x == 10:\n",
    "                        return headings\n",
    "        for site in sites:\n",
    "            getTopThree\n",
    "            return headings\n",
    "        \n",
    "    def test(site, topic):\n",
    "        reponse = requests.get(site)\n",
    "        content = BeautifulSoup(response.content, 'html.parser')\n",
    "        hs = content.find_all('h1')\n",
    "        return hs\n",
    "    \n",
    "    topic = input ('Please enter search topic: ').lower()\n",
    "    \n",
    "    rd = 'https://www.reddit.com/r/'+topic\n",
    "    sites = [rd]\n",
    "    \n",
    "    headings = getHeading(site, topic)\n",
    "    for h in headings:\n",
    "        print(h)"
   ]
  }
 ],
 "metadata": {
  "kernelspec": {
   "display_name": "Python 3",
   "language": "python",
   "name": "python3"
  },
  "language_info": {
   "codemirror_mode": {
    "name": "ipython",
    "version": 3
   },
   "file_extension": ".py",
   "mimetype": "text/x-python",
   "name": "python",
   "nbconvert_exporter": "python",
   "pygments_lexer": "ipython3",
   "version": "3.7.3"
  }
 },
 "nbformat": 4,
 "nbformat_minor": 2
}
