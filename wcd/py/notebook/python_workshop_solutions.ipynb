{
  "nbformat": 4,
  "nbformat_minor": 0,
  "metadata": {
    "colab": {
      "name": "python-workshop-solutions.ipynb",
      "version": "0.3.2",
      "provenance": []
    },
    "kernelspec": {
      "display_name": "Python 3",
      "language": "python",
      "name": "python3"
    }
  },
  "cells": [
    {
      "metadata": {
        "id": "RZdSdZI92q-A",
        "colab_type": "text"
      },
      "cell_type": "markdown",
      "source": [
        "<center>\n",
        "    <img src=\"https://s3.amazonaws.com/weclouddata/images/logos/wcd_logo.png\" width=\"50%\">\n",
        "</center>\n",
        "\n",
        "----------\n",
        "\n",
        "<h1 align=\"center\"> Python for Data Science </h1>\n",
        "<br>\n",
        "<center align=\"left\"> <font size='4'>  Developed by: </font><font size='4' color='#33AAFBD'>WeCloudData Academy </font></center>\n",
        "<br>\n",
        "<center align=\"left\"> <font size='4' color='#FF5713'> Accelerating your data science career! </font></center>\n",
        "<br>\n",
        "\n",
        "----------"
      ]
    },
    {
      "metadata": {
        "slideshow": {
          "slide_type": "slide"
        },
        "id": "rh8xBnbKm-Yz",
        "colab_type": "text"
      },
      "cell_type": "markdown",
      "source": [
        "<h1><center>Why Python?</center></h1>\n",
        "<center>\n",
        "    <img src=\"https://imgs.xkcd.com/comics/python.png\" width=\"40%\">\n",
        "</center>\n",
        "\n",
        "-----"
      ]
    },
    {
      "metadata": {
        "slideshow": {
          "slide_type": "-"
        },
        "id": "-DAqCdWCm-ZE",
        "colab_type": "text"
      },
      "cell_type": "markdown",
      "source": [
        "# $\\Omega$ Pandas\n",
        "\n",
        "<img src=\"https://upload.wikimedia.org/wikipedia/commons/c/cd/Panda_Cub_from_Wolong%2C_Sichuan%2C_China.JPG\" width=\"30%\">\n",
        "\n",
        "> `pandas` is a Python package providing fast, flexible, and expressive data structures designed to make working with “relational” or “labeled” data both easy and intuitive. It aims to be the fundamental high-level building block for doing practical, real world data analysis in Python. Additionally, it has the broader goal of becoming the most powerful and flexible open source data analysis / manipulation tool available in any language. It is already well on its way toward this goal.\n",
        "\n",
        "> `pandas` is well suited for many different kinds of data:\n",
        "\n",
        "> * Tabular data with heterogeneously-typed columns, as in an SQL table or Excel spreadsheet\n",
        "* Ordered and unordered (not necessarily fixed-frequency) time series data.\n",
        "* Arbitrary matrix data (homogeneously typed or heterogeneous) with row and column labels\n",
        "* Any other form of observational / statistical data sets. The data actually need not be labeled at all to be placed into a pandas data structure\n",
        "\n",
        "For more tutorials, visit: https://pandas.pydata.org/pandas-docs/stable/tutorials.html\n",
        "\n",
        "-----"
      ]
    },
    {
      "metadata": {
        "id": "y3qAMEc9m-ZI",
        "colab_type": "text"
      },
      "cell_type": "markdown",
      "source": [
        "### Imports"
      ]
    },
    {
      "metadata": {
        "id": "19Ym9-43m-ZL",
        "colab_type": "code",
        "colab": {}
      },
      "cell_type": "code",
      "source": [
        "import pandas as pd\n",
        "import matplotlib.pyplot as plt\n",
        "%matplotlib inline"
      ],
      "execution_count": 0,
      "outputs": []
    },
    {
      "metadata": {
        "id": "IY1QV5F0m-ZW",
        "colab_type": "text"
      },
      "cell_type": "markdown",
      "source": [
        "### Read data"
      ]
    },
    {
      "metadata": {
        "id": "VhvpbLOnm-ZZ",
        "colab_type": "code",
        "colab": {}
      },
      "cell_type": "code",
      "source": [
        "titanic = pd.read_csv('https://raw.githubusercontent.com/vinnywcd/datasets/master/titanic.csv')"
      ],
      "execution_count": 0,
      "outputs": []
    },
    {
      "metadata": {
        "id": "sf07gEycm-Z4",
        "colab_type": "text"
      },
      "cell_type": "markdown",
      "source": [
        "### Help"
      ]
    },
    {
      "metadata": {
        "id": "v-3_v9BAm-Z6",
        "colab_type": "code",
        "colab": {}
      },
      "cell_type": "code",
      "source": [
        "# pd.read_csv?"
      ],
      "execution_count": 0,
      "outputs": []
    },
    {
      "metadata": {
        "id": "fR2UBclfm-aE",
        "colab_type": "text"
      },
      "cell_type": "markdown",
      "source": [
        "### Get first n rows"
      ]
    },
    {
      "metadata": {
        "scrolled": true,
        "id": "aH_h7CyCm-aI",
        "colab_type": "code",
        "colab": {
          "base_uri": "https://localhost:8080/",
          "height": 272
        },
        "outputId": "2e400628-8a76-4c51-decb-91916ed9eaab"
      },
      "cell_type": "code",
      "source": [
        "titanic.head()"
      ],
      "execution_count": 4,
      "outputs": [
        {
          "output_type": "execute_result",
          "data": {
            "text/html": [
              "<div>\n",
              "<style scoped>\n",
              "    .dataframe tbody tr th:only-of-type {\n",
              "        vertical-align: middle;\n",
              "    }\n",
              "\n",
              "    .dataframe tbody tr th {\n",
              "        vertical-align: top;\n",
              "    }\n",
              "\n",
              "    .dataframe thead th {\n",
              "        text-align: right;\n",
              "    }\n",
              "</style>\n",
              "<table border=\"1\" class=\"dataframe\">\n",
              "  <thead>\n",
              "    <tr style=\"text-align: right;\">\n",
              "      <th></th>\n",
              "      <th>pclass</th>\n",
              "      <th>survived</th>\n",
              "      <th>name</th>\n",
              "      <th>sex</th>\n",
              "      <th>age</th>\n",
              "      <th>sibsp</th>\n",
              "      <th>parch</th>\n",
              "      <th>ticket</th>\n",
              "      <th>fare</th>\n",
              "      <th>cabin</th>\n",
              "      <th>embarked</th>\n",
              "      <th>boat</th>\n",
              "      <th>body</th>\n",
              "      <th>home.dest</th>\n",
              "    </tr>\n",
              "  </thead>\n",
              "  <tbody>\n",
              "    <tr>\n",
              "      <th>0</th>\n",
              "      <td>1</td>\n",
              "      <td>1</td>\n",
              "      <td>Allen, Miss. Elisabeth Walton</td>\n",
              "      <td>female</td>\n",
              "      <td>29.0000</td>\n",
              "      <td>0</td>\n",
              "      <td>0</td>\n",
              "      <td>24160</td>\n",
              "      <td>211.3375</td>\n",
              "      <td>B5</td>\n",
              "      <td>S</td>\n",
              "      <td>2</td>\n",
              "      <td>NaN</td>\n",
              "      <td>St Louis, MO</td>\n",
              "    </tr>\n",
              "    <tr>\n",
              "      <th>1</th>\n",
              "      <td>1</td>\n",
              "      <td>1</td>\n",
              "      <td>Allison, Master. Hudson Trevor</td>\n",
              "      <td>male</td>\n",
              "      <td>0.9167</td>\n",
              "      <td>1</td>\n",
              "      <td>2</td>\n",
              "      <td>113781</td>\n",
              "      <td>151.5500</td>\n",
              "      <td>C22 C26</td>\n",
              "      <td>S</td>\n",
              "      <td>11</td>\n",
              "      <td>NaN</td>\n",
              "      <td>Montreal, PQ / Chesterville, ON</td>\n",
              "    </tr>\n",
              "    <tr>\n",
              "      <th>2</th>\n",
              "      <td>1</td>\n",
              "      <td>0</td>\n",
              "      <td>Allison, Miss. Helen Loraine</td>\n",
              "      <td>female</td>\n",
              "      <td>2.0000</td>\n",
              "      <td>1</td>\n",
              "      <td>2</td>\n",
              "      <td>113781</td>\n",
              "      <td>151.5500</td>\n",
              "      <td>C22 C26</td>\n",
              "      <td>S</td>\n",
              "      <td>NaN</td>\n",
              "      <td>NaN</td>\n",
              "      <td>Montreal, PQ / Chesterville, ON</td>\n",
              "    </tr>\n",
              "    <tr>\n",
              "      <th>3</th>\n",
              "      <td>1</td>\n",
              "      <td>0</td>\n",
              "      <td>Allison, Mr. Hudson Joshua Creighton</td>\n",
              "      <td>male</td>\n",
              "      <td>30.0000</td>\n",
              "      <td>1</td>\n",
              "      <td>2</td>\n",
              "      <td>113781</td>\n",
              "      <td>151.5500</td>\n",
              "      <td>C22 C26</td>\n",
              "      <td>S</td>\n",
              "      <td>NaN</td>\n",
              "      <td>135.0</td>\n",
              "      <td>Montreal, PQ / Chesterville, ON</td>\n",
              "    </tr>\n",
              "    <tr>\n",
              "      <th>4</th>\n",
              "      <td>1</td>\n",
              "      <td>0</td>\n",
              "      <td>Allison, Mrs. Hudson J C (Bessie Waldo Daniels)</td>\n",
              "      <td>female</td>\n",
              "      <td>25.0000</td>\n",
              "      <td>1</td>\n",
              "      <td>2</td>\n",
              "      <td>113781</td>\n",
              "      <td>151.5500</td>\n",
              "      <td>C22 C26</td>\n",
              "      <td>S</td>\n",
              "      <td>NaN</td>\n",
              "      <td>NaN</td>\n",
              "      <td>Montreal, PQ / Chesterville, ON</td>\n",
              "    </tr>\n",
              "  </tbody>\n",
              "</table>\n",
              "</div>"
            ],
            "text/plain": [
              "   pclass  survived                                             name     sex  \\\n",
              "0       1         1                    Allen, Miss. Elisabeth Walton  female   \n",
              "1       1         1                   Allison, Master. Hudson Trevor    male   \n",
              "2       1         0                     Allison, Miss. Helen Loraine  female   \n",
              "3       1         0             Allison, Mr. Hudson Joshua Creighton    male   \n",
              "4       1         0  Allison, Mrs. Hudson J C (Bessie Waldo Daniels)  female   \n",
              "\n",
              "       age  sibsp  parch  ticket      fare    cabin embarked boat   body  \\\n",
              "0  29.0000      0      0   24160  211.3375       B5        S    2    NaN   \n",
              "1   0.9167      1      2  113781  151.5500  C22 C26        S   11    NaN   \n",
              "2   2.0000      1      2  113781  151.5500  C22 C26        S  NaN    NaN   \n",
              "3  30.0000      1      2  113781  151.5500  C22 C26        S  NaN  135.0   \n",
              "4  25.0000      1      2  113781  151.5500  C22 C26        S  NaN    NaN   \n",
              "\n",
              "                         home.dest  \n",
              "0                     St Louis, MO  \n",
              "1  Montreal, PQ / Chesterville, ON  \n",
              "2  Montreal, PQ / Chesterville, ON  \n",
              "3  Montreal, PQ / Chesterville, ON  \n",
              "4  Montreal, PQ / Chesterville, ON  "
            ]
          },
          "metadata": {
            "tags": []
          },
          "execution_count": 4
        }
      ]
    },
    {
      "metadata": {
        "id": "4y42peG5m-aV",
        "colab_type": "text"
      },
      "cell_type": "markdown",
      "source": [
        "### Dataframe dimensions"
      ]
    },
    {
      "metadata": {
        "id": "nM051oKOm-aZ",
        "colab_type": "code",
        "colab": {
          "base_uri": "https://localhost:8080/",
          "height": 34
        },
        "outputId": "b0d91b81-f58a-4ca2-874b-35730104a949"
      },
      "cell_type": "code",
      "source": [
        "titanic.shape"
      ],
      "execution_count": 5,
      "outputs": [
        {
          "output_type": "execute_result",
          "data": {
            "text/plain": [
              "(1308, 14)"
            ]
          },
          "metadata": {
            "tags": []
          },
          "execution_count": 5
        }
      ]
    },
    {
      "metadata": {
        "id": "DCAY6fAQm-am",
        "colab_type": "text"
      },
      "cell_type": "markdown",
      "source": [
        "### Index"
      ]
    },
    {
      "metadata": {
        "id": "LgsTKY2Dm-ap",
        "colab_type": "code",
        "colab": {
          "base_uri": "https://localhost:8080/",
          "height": 34
        },
        "outputId": "add21f8a-bcaa-42c0-ebef-eba4add5ff51"
      },
      "cell_type": "code",
      "source": [
        "titanic.index"
      ],
      "execution_count": 6,
      "outputs": [
        {
          "output_type": "execute_result",
          "data": {
            "text/plain": [
              "RangeIndex(start=0, stop=1308, step=1)"
            ]
          },
          "metadata": {
            "tags": []
          },
          "execution_count": 6
        }
      ]
    },
    {
      "metadata": {
        "id": "Lt0UJuKtm-a2",
        "colab_type": "text"
      },
      "cell_type": "markdown",
      "source": [
        "### Columns"
      ]
    },
    {
      "metadata": {
        "id": "yy1jn8Zgm-a7",
        "colab_type": "code",
        "colab": {
          "base_uri": "https://localhost:8080/",
          "height": 68
        },
        "outputId": "30525212-6d2f-4dfe-c074-7453da37444b"
      },
      "cell_type": "code",
      "source": [
        "titanic.columns"
      ],
      "execution_count": 7,
      "outputs": [
        {
          "output_type": "execute_result",
          "data": {
            "text/plain": [
              "Index(['pclass', 'survived', 'name', 'sex', 'age', 'sibsp', 'parch', 'ticket',\n",
              "       'fare', 'cabin', 'embarked', 'boat', 'body', 'home.dest'],\n",
              "      dtype='object')"
            ]
          },
          "metadata": {
            "tags": []
          },
          "execution_count": 7
        }
      ]
    },
    {
      "metadata": {
        "id": "CnvWHIYIm-bK",
        "colab_type": "text"
      },
      "cell_type": "markdown",
      "source": [
        "### Dataframe information"
      ]
    },
    {
      "metadata": {
        "id": "YzczUc17m-bN",
        "colab_type": "code",
        "colab": {
          "base_uri": "https://localhost:8080/",
          "height": 340
        },
        "outputId": "ab4864e0-11e0-4ea6-d7dc-886ea3d520e0"
      },
      "cell_type": "code",
      "source": [
        "titanic.info()"
      ],
      "execution_count": 8,
      "outputs": [
        {
          "output_type": "stream",
          "text": [
            "<class 'pandas.core.frame.DataFrame'>\n",
            "RangeIndex: 1308 entries, 0 to 1307\n",
            "Data columns (total 14 columns):\n",
            "pclass       1308 non-null int64\n",
            "survived     1308 non-null int64\n",
            "name         1308 non-null object\n",
            "sex          1308 non-null object\n",
            "age          1045 non-null float64\n",
            "sibsp        1308 non-null int64\n",
            "parch        1308 non-null int64\n",
            "ticket       1308 non-null object\n",
            "fare         1308 non-null float64\n",
            "cabin        295 non-null object\n",
            "embarked     1306 non-null object\n",
            "boat         486 non-null object\n",
            "body         120 non-null float64\n",
            "home.dest    745 non-null object\n",
            "dtypes: float64(3), int64(4), object(7)\n",
            "memory usage: 143.1+ KB\n"
          ],
          "name": "stdout"
        }
      ]
    },
    {
      "metadata": {
        "id": "dpuH8iSfm-bb",
        "colab_type": "text"
      },
      "cell_type": "markdown",
      "source": [
        "### Summary statistics for numeric columns"
      ]
    },
    {
      "metadata": {
        "scrolled": true,
        "id": "Dk2gl5YCm-bf",
        "colab_type": "code",
        "colab": {
          "base_uri": "https://localhost:8080/",
          "height": 297
        },
        "outputId": "9aedd9f8-54db-40ba-dacf-45b088c77670"
      },
      "cell_type": "code",
      "source": [
        "titanic.describe()"
      ],
      "execution_count": 9,
      "outputs": [
        {
          "output_type": "execute_result",
          "data": {
            "text/html": [
              "<div>\n",
              "<style scoped>\n",
              "    .dataframe tbody tr th:only-of-type {\n",
              "        vertical-align: middle;\n",
              "    }\n",
              "\n",
              "    .dataframe tbody tr th {\n",
              "        vertical-align: top;\n",
              "    }\n",
              "\n",
              "    .dataframe thead th {\n",
              "        text-align: right;\n",
              "    }\n",
              "</style>\n",
              "<table border=\"1\" class=\"dataframe\">\n",
              "  <thead>\n",
              "    <tr style=\"text-align: right;\">\n",
              "      <th></th>\n",
              "      <th>pclass</th>\n",
              "      <th>survived</th>\n",
              "      <th>age</th>\n",
              "      <th>sibsp</th>\n",
              "      <th>parch</th>\n",
              "      <th>fare</th>\n",
              "      <th>body</th>\n",
              "    </tr>\n",
              "  </thead>\n",
              "  <tbody>\n",
              "    <tr>\n",
              "      <th>count</th>\n",
              "      <td>1308.000000</td>\n",
              "      <td>1308.000000</td>\n",
              "      <td>1045.000000</td>\n",
              "      <td>1308.000000</td>\n",
              "      <td>1308.000000</td>\n",
              "      <td>1308.000000</td>\n",
              "      <td>120.000000</td>\n",
              "    </tr>\n",
              "    <tr>\n",
              "      <th>mean</th>\n",
              "      <td>2.294343</td>\n",
              "      <td>0.382263</td>\n",
              "      <td>29.851834</td>\n",
              "      <td>0.499235</td>\n",
              "      <td>0.385321</td>\n",
              "      <td>33.295479</td>\n",
              "      <td>159.975000</td>\n",
              "    </tr>\n",
              "    <tr>\n",
              "      <th>std</th>\n",
              "      <td>0.837929</td>\n",
              "      <td>0.486126</td>\n",
              "      <td>14.389201</td>\n",
              "      <td>1.041965</td>\n",
              "      <td>0.865826</td>\n",
              "      <td>51.758668</td>\n",
              "      <td>97.672103</td>\n",
              "    </tr>\n",
              "    <tr>\n",
              "      <th>min</th>\n",
              "      <td>1.000000</td>\n",
              "      <td>0.000000</td>\n",
              "      <td>0.166700</td>\n",
              "      <td>0.000000</td>\n",
              "      <td>0.000000</td>\n",
              "      <td>0.000000</td>\n",
              "      <td>1.000000</td>\n",
              "    </tr>\n",
              "    <tr>\n",
              "      <th>25%</th>\n",
              "      <td>2.000000</td>\n",
              "      <td>0.000000</td>\n",
              "      <td>21.000000</td>\n",
              "      <td>0.000000</td>\n",
              "      <td>0.000000</td>\n",
              "      <td>7.895800</td>\n",
              "      <td>71.500000</td>\n",
              "    </tr>\n",
              "    <tr>\n",
              "      <th>50%</th>\n",
              "      <td>3.000000</td>\n",
              "      <td>0.000000</td>\n",
              "      <td>28.000000</td>\n",
              "      <td>0.000000</td>\n",
              "      <td>0.000000</td>\n",
              "      <td>14.454200</td>\n",
              "      <td>154.000000</td>\n",
              "    </tr>\n",
              "    <tr>\n",
              "      <th>75%</th>\n",
              "      <td>3.000000</td>\n",
              "      <td>1.000000</td>\n",
              "      <td>39.000000</td>\n",
              "      <td>1.000000</td>\n",
              "      <td>0.000000</td>\n",
              "      <td>31.275000</td>\n",
              "      <td>255.250000</td>\n",
              "    </tr>\n",
              "    <tr>\n",
              "      <th>max</th>\n",
              "      <td>3.000000</td>\n",
              "      <td>1.000000</td>\n",
              "      <td>80.000000</td>\n",
              "      <td>8.000000</td>\n",
              "      <td>9.000000</td>\n",
              "      <td>512.329200</td>\n",
              "      <td>328.000000</td>\n",
              "    </tr>\n",
              "  </tbody>\n",
              "</table>\n",
              "</div>"
            ],
            "text/plain": [
              "            pclass     survived          age        sibsp        parch  \\\n",
              "count  1308.000000  1308.000000  1045.000000  1308.000000  1308.000000   \n",
              "mean      2.294343     0.382263    29.851834     0.499235     0.385321   \n",
              "std       0.837929     0.486126    14.389201     1.041965     0.865826   \n",
              "min       1.000000     0.000000     0.166700     0.000000     0.000000   \n",
              "25%       2.000000     0.000000    21.000000     0.000000     0.000000   \n",
              "50%       3.000000     0.000000    28.000000     0.000000     0.000000   \n",
              "75%       3.000000     1.000000    39.000000     1.000000     0.000000   \n",
              "max       3.000000     1.000000    80.000000     8.000000     9.000000   \n",
              "\n",
              "              fare        body  \n",
              "count  1308.000000  120.000000  \n",
              "mean     33.295479  159.975000  \n",
              "std      51.758668   97.672103  \n",
              "min       0.000000    1.000000  \n",
              "25%       7.895800   71.500000  \n",
              "50%      14.454200  154.000000  \n",
              "75%      31.275000  255.250000  \n",
              "max     512.329200  328.000000  "
            ]
          },
          "metadata": {
            "tags": []
          },
          "execution_count": 9
        }
      ]
    },
    {
      "metadata": {
        "id": "1qUbv3Q8m-by",
        "colab_type": "text"
      },
      "cell_type": "markdown",
      "source": [
        "# $\\Omega$ Selecting Data"
      ]
    },
    {
      "metadata": {
        "id": "_bSZCZlMm-b3",
        "colab_type": "text"
      },
      "cell_type": "markdown",
      "source": [
        "### Select column"
      ]
    },
    {
      "metadata": {
        "scrolled": true,
        "id": "0fznAEQam-b8",
        "colab_type": "code",
        "colab": {
          "base_uri": "https://localhost:8080/",
          "height": 1071
        },
        "outputId": "35fef673-a66e-4471-a92b-5daffdb794cf"
      },
      "cell_type": "code",
      "source": [
        "titanic['name']"
      ],
      "execution_count": 10,
      "outputs": [
        {
          "output_type": "execute_result",
          "data": {
            "text/plain": [
              "0                           Allen, Miss. Elisabeth Walton\n",
              "1                          Allison, Master. Hudson Trevor\n",
              "2                            Allison, Miss. Helen Loraine\n",
              "3                    Allison, Mr. Hudson Joshua Creighton\n",
              "4         Allison, Mrs. Hudson J C (Bessie Waldo Daniels)\n",
              "5                                     Anderson, Mr. Harry\n",
              "6                       Andrews, Miss. Kornelia Theodosia\n",
              "7                                  Andrews, Mr. Thomas Jr\n",
              "8           Appleton, Mrs. Edward Dale (Charlotte Lamson)\n",
              "9                                 Artagaveytia, Mr. Ramon\n",
              "10                                 Astor, Col. John Jacob\n",
              "11      Astor, Mrs. John Jacob (Madeleine Talmadge Force)\n",
              "12                          Aubart, Mme. Leontine Pauline\n",
              "13                           Barber, Miss. Ellen \"Nellie\"\n",
              "14                   Barkworth, Mr. Algernon Henry Wilson\n",
              "15                                    Baumann, Mr. John D\n",
              "16                               Baxter, Mr. Quigg Edmond\n",
              "17        Baxter, Mrs. James (Helene DeLaudeniere Chaput)\n",
              "18                                  Bazzani, Miss. Albina\n",
              "19                                   Beattie, Mr. Thomson\n",
              "20                          Beckwith, Mr. Richard Leonard\n",
              "21       Beckwith, Mrs. Richard Leonard (Sallie Monypeny)\n",
              "22                                  Behr, Mr. Karl Howell\n",
              "23                                  Bidois, Miss. Rosalie\n",
              "24                                      Bird, Miss. Ellen\n",
              "25                                    Birnbaum, Mr. Jakob\n",
              "26                                Bishop, Mr. Dickinson H\n",
              "27                Bishop, Mrs. Dickinson H (Helen Walton)\n",
              "28                                 Bissette, Miss. Amelia\n",
              "29              Bjornstrom-Steffansson, Mr. Mauritz Hakan\n",
              "                              ...                        \n",
              "1278                 Vestrom, Miss. Hulda Amanda Adolfina\n",
              "1279                                      Vovk, Mr. Janko\n",
              "1280                                 Waelens, Mr. Achille\n",
              "1281                                  Ware, Mr. Frederick\n",
              "1282                          Warren, Mr. Charles William\n",
              "1283                                    Webber, Mr. James\n",
              "1284                                  Wenzel, Mr. Linhart\n",
              "1285      Whabee, Mrs. George Joseph (Shawneene Abi-Saab)\n",
              "1286                     Widegren, Mr. Carl/Charles Peter\n",
              "1287                            Wiklund, Mr. Jakob Alfred\n",
              "1288                              Wiklund, Mr. Karl Johan\n",
              "1289                     Wilkes, Mrs. James (Ellen Needs)\n",
              "1290                     Willer, Mr. Aaron (\"Abi Weller\")\n",
              "1291                                   Willey, Mr. Edward\n",
              "1292                    Williams, Mr. Howard Hugh \"Harry\"\n",
              "1293                                 Williams, Mr. Leslie\n",
              "1294                                  Windelov, Mr. Einar\n",
              "1295                                     Wirz, Mr. Albert\n",
              "1296                               Wiseman, Mr. Phillippe\n",
              "1297                            Wittevrongel, Mr. Camille\n",
              "1298                                  Yasbeck, Mr. Antoni\n",
              "1299              Yasbeck, Mrs. Antoni (Selini Alexander)\n",
              "1300                                 Youseff, Mr. Gerious\n",
              "1301                                    Yousif, Mr. Wazli\n",
              "1302                                Yousseff, Mr. Gerious\n",
              "1303                                 Zabour, Miss. Hileni\n",
              "1304                                Zabour, Miss. Thamine\n",
              "1305                            Zakarian, Mr. Mapriededer\n",
              "1306                                  Zakarian, Mr. Ortin\n",
              "1307                                   Zimmerman, Mr. Leo\n",
              "Name: name, Length: 1308, dtype: object"
            ]
          },
          "metadata": {
            "tags": []
          },
          "execution_count": 10
        }
      ]
    },
    {
      "metadata": {
        "id": "cRBDzpuAm-cN",
        "colab_type": "text"
      },
      "cell_type": "markdown",
      "source": [
        "### Select multiple columns"
      ]
    },
    {
      "metadata": {
        "scrolled": true,
        "id": "f7ZRfZVym-cR",
        "colab_type": "code",
        "colab": {
          "base_uri": "https://localhost:8080/",
          "height": 1969
        },
        "outputId": "1aa81c70-ed1a-4203-d88b-cd88da76f9c1"
      },
      "cell_type": "code",
      "source": [
        "titanic[['name', 'fare']]"
      ],
      "execution_count": 11,
      "outputs": [
        {
          "output_type": "execute_result",
          "data": {
            "text/html": [
              "<div>\n",
              "<style scoped>\n",
              "    .dataframe tbody tr th:only-of-type {\n",
              "        vertical-align: middle;\n",
              "    }\n",
              "\n",
              "    .dataframe tbody tr th {\n",
              "        vertical-align: top;\n",
              "    }\n",
              "\n",
              "    .dataframe thead th {\n",
              "        text-align: right;\n",
              "    }\n",
              "</style>\n",
              "<table border=\"1\" class=\"dataframe\">\n",
              "  <thead>\n",
              "    <tr style=\"text-align: right;\">\n",
              "      <th></th>\n",
              "      <th>name</th>\n",
              "      <th>fare</th>\n",
              "    </tr>\n",
              "  </thead>\n",
              "  <tbody>\n",
              "    <tr>\n",
              "      <th>0</th>\n",
              "      <td>Allen, Miss. Elisabeth Walton</td>\n",
              "      <td>211.3375</td>\n",
              "    </tr>\n",
              "    <tr>\n",
              "      <th>1</th>\n",
              "      <td>Allison, Master. Hudson Trevor</td>\n",
              "      <td>151.5500</td>\n",
              "    </tr>\n",
              "    <tr>\n",
              "      <th>2</th>\n",
              "      <td>Allison, Miss. Helen Loraine</td>\n",
              "      <td>151.5500</td>\n",
              "    </tr>\n",
              "    <tr>\n",
              "      <th>3</th>\n",
              "      <td>Allison, Mr. Hudson Joshua Creighton</td>\n",
              "      <td>151.5500</td>\n",
              "    </tr>\n",
              "    <tr>\n",
              "      <th>4</th>\n",
              "      <td>Allison, Mrs. Hudson J C (Bessie Waldo Daniels)</td>\n",
              "      <td>151.5500</td>\n",
              "    </tr>\n",
              "    <tr>\n",
              "      <th>5</th>\n",
              "      <td>Anderson, Mr. Harry</td>\n",
              "      <td>26.5500</td>\n",
              "    </tr>\n",
              "    <tr>\n",
              "      <th>6</th>\n",
              "      <td>Andrews, Miss. Kornelia Theodosia</td>\n",
              "      <td>77.9583</td>\n",
              "    </tr>\n",
              "    <tr>\n",
              "      <th>7</th>\n",
              "      <td>Andrews, Mr. Thomas Jr</td>\n",
              "      <td>0.0000</td>\n",
              "    </tr>\n",
              "    <tr>\n",
              "      <th>8</th>\n",
              "      <td>Appleton, Mrs. Edward Dale (Charlotte Lamson)</td>\n",
              "      <td>51.4792</td>\n",
              "    </tr>\n",
              "    <tr>\n",
              "      <th>9</th>\n",
              "      <td>Artagaveytia, Mr. Ramon</td>\n",
              "      <td>49.5042</td>\n",
              "    </tr>\n",
              "    <tr>\n",
              "      <th>10</th>\n",
              "      <td>Astor, Col. John Jacob</td>\n",
              "      <td>227.5250</td>\n",
              "    </tr>\n",
              "    <tr>\n",
              "      <th>11</th>\n",
              "      <td>Astor, Mrs. John Jacob (Madeleine Talmadge Force)</td>\n",
              "      <td>227.5250</td>\n",
              "    </tr>\n",
              "    <tr>\n",
              "      <th>12</th>\n",
              "      <td>Aubart, Mme. Leontine Pauline</td>\n",
              "      <td>69.3000</td>\n",
              "    </tr>\n",
              "    <tr>\n",
              "      <th>13</th>\n",
              "      <td>Barber, Miss. Ellen \"Nellie\"</td>\n",
              "      <td>78.8500</td>\n",
              "    </tr>\n",
              "    <tr>\n",
              "      <th>14</th>\n",
              "      <td>Barkworth, Mr. Algernon Henry Wilson</td>\n",
              "      <td>30.0000</td>\n",
              "    </tr>\n",
              "    <tr>\n",
              "      <th>15</th>\n",
              "      <td>Baumann, Mr. John D</td>\n",
              "      <td>25.9250</td>\n",
              "    </tr>\n",
              "    <tr>\n",
              "      <th>16</th>\n",
              "      <td>Baxter, Mr. Quigg Edmond</td>\n",
              "      <td>247.5208</td>\n",
              "    </tr>\n",
              "    <tr>\n",
              "      <th>17</th>\n",
              "      <td>Baxter, Mrs. James (Helene DeLaudeniere Chaput)</td>\n",
              "      <td>247.5208</td>\n",
              "    </tr>\n",
              "    <tr>\n",
              "      <th>18</th>\n",
              "      <td>Bazzani, Miss. Albina</td>\n",
              "      <td>76.2917</td>\n",
              "    </tr>\n",
              "    <tr>\n",
              "      <th>19</th>\n",
              "      <td>Beattie, Mr. Thomson</td>\n",
              "      <td>75.2417</td>\n",
              "    </tr>\n",
              "    <tr>\n",
              "      <th>20</th>\n",
              "      <td>Beckwith, Mr. Richard Leonard</td>\n",
              "      <td>52.5542</td>\n",
              "    </tr>\n",
              "    <tr>\n",
              "      <th>21</th>\n",
              "      <td>Beckwith, Mrs. Richard Leonard (Sallie Monypeny)</td>\n",
              "      <td>52.5542</td>\n",
              "    </tr>\n",
              "    <tr>\n",
              "      <th>22</th>\n",
              "      <td>Behr, Mr. Karl Howell</td>\n",
              "      <td>30.0000</td>\n",
              "    </tr>\n",
              "    <tr>\n",
              "      <th>23</th>\n",
              "      <td>Bidois, Miss. Rosalie</td>\n",
              "      <td>227.5250</td>\n",
              "    </tr>\n",
              "    <tr>\n",
              "      <th>24</th>\n",
              "      <td>Bird, Miss. Ellen</td>\n",
              "      <td>221.7792</td>\n",
              "    </tr>\n",
              "    <tr>\n",
              "      <th>25</th>\n",
              "      <td>Birnbaum, Mr. Jakob</td>\n",
              "      <td>26.0000</td>\n",
              "    </tr>\n",
              "    <tr>\n",
              "      <th>26</th>\n",
              "      <td>Bishop, Mr. Dickinson H</td>\n",
              "      <td>91.0792</td>\n",
              "    </tr>\n",
              "    <tr>\n",
              "      <th>27</th>\n",
              "      <td>Bishop, Mrs. Dickinson H (Helen Walton)</td>\n",
              "      <td>91.0792</td>\n",
              "    </tr>\n",
              "    <tr>\n",
              "      <th>28</th>\n",
              "      <td>Bissette, Miss. Amelia</td>\n",
              "      <td>135.6333</td>\n",
              "    </tr>\n",
              "    <tr>\n",
              "      <th>29</th>\n",
              "      <td>Bjornstrom-Steffansson, Mr. Mauritz Hakan</td>\n",
              "      <td>26.5500</td>\n",
              "    </tr>\n",
              "    <tr>\n",
              "      <th>...</th>\n",
              "      <td>...</td>\n",
              "      <td>...</td>\n",
              "    </tr>\n",
              "    <tr>\n",
              "      <th>1278</th>\n",
              "      <td>Vestrom, Miss. Hulda Amanda Adolfina</td>\n",
              "      <td>7.8542</td>\n",
              "    </tr>\n",
              "    <tr>\n",
              "      <th>1279</th>\n",
              "      <td>Vovk, Mr. Janko</td>\n",
              "      <td>7.8958</td>\n",
              "    </tr>\n",
              "    <tr>\n",
              "      <th>1280</th>\n",
              "      <td>Waelens, Mr. Achille</td>\n",
              "      <td>9.0000</td>\n",
              "    </tr>\n",
              "    <tr>\n",
              "      <th>1281</th>\n",
              "      <td>Ware, Mr. Frederick</td>\n",
              "      <td>8.0500</td>\n",
              "    </tr>\n",
              "    <tr>\n",
              "      <th>1282</th>\n",
              "      <td>Warren, Mr. Charles William</td>\n",
              "      <td>7.5500</td>\n",
              "    </tr>\n",
              "    <tr>\n",
              "      <th>1283</th>\n",
              "      <td>Webber, Mr. James</td>\n",
              "      <td>8.0500</td>\n",
              "    </tr>\n",
              "    <tr>\n",
              "      <th>1284</th>\n",
              "      <td>Wenzel, Mr. Linhart</td>\n",
              "      <td>9.5000</td>\n",
              "    </tr>\n",
              "    <tr>\n",
              "      <th>1285</th>\n",
              "      <td>Whabee, Mrs. George Joseph (Shawneene Abi-Saab)</td>\n",
              "      <td>7.2292</td>\n",
              "    </tr>\n",
              "    <tr>\n",
              "      <th>1286</th>\n",
              "      <td>Widegren, Mr. Carl/Charles Peter</td>\n",
              "      <td>7.7500</td>\n",
              "    </tr>\n",
              "    <tr>\n",
              "      <th>1287</th>\n",
              "      <td>Wiklund, Mr. Jakob Alfred</td>\n",
              "      <td>6.4958</td>\n",
              "    </tr>\n",
              "    <tr>\n",
              "      <th>1288</th>\n",
              "      <td>Wiklund, Mr. Karl Johan</td>\n",
              "      <td>6.4958</td>\n",
              "    </tr>\n",
              "    <tr>\n",
              "      <th>1289</th>\n",
              "      <td>Wilkes, Mrs. James (Ellen Needs)</td>\n",
              "      <td>7.0000</td>\n",
              "    </tr>\n",
              "    <tr>\n",
              "      <th>1290</th>\n",
              "      <td>Willer, Mr. Aaron (\"Abi Weller\")</td>\n",
              "      <td>8.7125</td>\n",
              "    </tr>\n",
              "    <tr>\n",
              "      <th>1291</th>\n",
              "      <td>Willey, Mr. Edward</td>\n",
              "      <td>7.5500</td>\n",
              "    </tr>\n",
              "    <tr>\n",
              "      <th>1292</th>\n",
              "      <td>Williams, Mr. Howard Hugh \"Harry\"</td>\n",
              "      <td>8.0500</td>\n",
              "    </tr>\n",
              "    <tr>\n",
              "      <th>1293</th>\n",
              "      <td>Williams, Mr. Leslie</td>\n",
              "      <td>16.1000</td>\n",
              "    </tr>\n",
              "    <tr>\n",
              "      <th>1294</th>\n",
              "      <td>Windelov, Mr. Einar</td>\n",
              "      <td>7.2500</td>\n",
              "    </tr>\n",
              "    <tr>\n",
              "      <th>1295</th>\n",
              "      <td>Wirz, Mr. Albert</td>\n",
              "      <td>8.6625</td>\n",
              "    </tr>\n",
              "    <tr>\n",
              "      <th>1296</th>\n",
              "      <td>Wiseman, Mr. Phillippe</td>\n",
              "      <td>7.2500</td>\n",
              "    </tr>\n",
              "    <tr>\n",
              "      <th>1297</th>\n",
              "      <td>Wittevrongel, Mr. Camille</td>\n",
              "      <td>9.5000</td>\n",
              "    </tr>\n",
              "    <tr>\n",
              "      <th>1298</th>\n",
              "      <td>Yasbeck, Mr. Antoni</td>\n",
              "      <td>14.4542</td>\n",
              "    </tr>\n",
              "    <tr>\n",
              "      <th>1299</th>\n",
              "      <td>Yasbeck, Mrs. Antoni (Selini Alexander)</td>\n",
              "      <td>14.4542</td>\n",
              "    </tr>\n",
              "    <tr>\n",
              "      <th>1300</th>\n",
              "      <td>Youseff, Mr. Gerious</td>\n",
              "      <td>7.2250</td>\n",
              "    </tr>\n",
              "    <tr>\n",
              "      <th>1301</th>\n",
              "      <td>Yousif, Mr. Wazli</td>\n",
              "      <td>7.2250</td>\n",
              "    </tr>\n",
              "    <tr>\n",
              "      <th>1302</th>\n",
              "      <td>Yousseff, Mr. Gerious</td>\n",
              "      <td>14.4583</td>\n",
              "    </tr>\n",
              "    <tr>\n",
              "      <th>1303</th>\n",
              "      <td>Zabour, Miss. Hileni</td>\n",
              "      <td>14.4542</td>\n",
              "    </tr>\n",
              "    <tr>\n",
              "      <th>1304</th>\n",
              "      <td>Zabour, Miss. Thamine</td>\n",
              "      <td>14.4542</td>\n",
              "    </tr>\n",
              "    <tr>\n",
              "      <th>1305</th>\n",
              "      <td>Zakarian, Mr. Mapriededer</td>\n",
              "      <td>7.2250</td>\n",
              "    </tr>\n",
              "    <tr>\n",
              "      <th>1306</th>\n",
              "      <td>Zakarian, Mr. Ortin</td>\n",
              "      <td>7.2250</td>\n",
              "    </tr>\n",
              "    <tr>\n",
              "      <th>1307</th>\n",
              "      <td>Zimmerman, Mr. Leo</td>\n",
              "      <td>7.8750</td>\n",
              "    </tr>\n",
              "  </tbody>\n",
              "</table>\n",
              "<p>1308 rows × 2 columns</p>\n",
              "</div>"
            ],
            "text/plain": [
              "                                                   name      fare\n",
              "0                         Allen, Miss. Elisabeth Walton  211.3375\n",
              "1                        Allison, Master. Hudson Trevor  151.5500\n",
              "2                          Allison, Miss. Helen Loraine  151.5500\n",
              "3                  Allison, Mr. Hudson Joshua Creighton  151.5500\n",
              "4       Allison, Mrs. Hudson J C (Bessie Waldo Daniels)  151.5500\n",
              "5                                   Anderson, Mr. Harry   26.5500\n",
              "6                     Andrews, Miss. Kornelia Theodosia   77.9583\n",
              "7                                Andrews, Mr. Thomas Jr    0.0000\n",
              "8         Appleton, Mrs. Edward Dale (Charlotte Lamson)   51.4792\n",
              "9                               Artagaveytia, Mr. Ramon   49.5042\n",
              "10                               Astor, Col. John Jacob  227.5250\n",
              "11    Astor, Mrs. John Jacob (Madeleine Talmadge Force)  227.5250\n",
              "12                        Aubart, Mme. Leontine Pauline   69.3000\n",
              "13                         Barber, Miss. Ellen \"Nellie\"   78.8500\n",
              "14                 Barkworth, Mr. Algernon Henry Wilson   30.0000\n",
              "15                                  Baumann, Mr. John D   25.9250\n",
              "16                             Baxter, Mr. Quigg Edmond  247.5208\n",
              "17      Baxter, Mrs. James (Helene DeLaudeniere Chaput)  247.5208\n",
              "18                                Bazzani, Miss. Albina   76.2917\n",
              "19                                 Beattie, Mr. Thomson   75.2417\n",
              "20                        Beckwith, Mr. Richard Leonard   52.5542\n",
              "21     Beckwith, Mrs. Richard Leonard (Sallie Monypeny)   52.5542\n",
              "22                                Behr, Mr. Karl Howell   30.0000\n",
              "23                                Bidois, Miss. Rosalie  227.5250\n",
              "24                                    Bird, Miss. Ellen  221.7792\n",
              "25                                  Birnbaum, Mr. Jakob   26.0000\n",
              "26                              Bishop, Mr. Dickinson H   91.0792\n",
              "27              Bishop, Mrs. Dickinson H (Helen Walton)   91.0792\n",
              "28                               Bissette, Miss. Amelia  135.6333\n",
              "29            Bjornstrom-Steffansson, Mr. Mauritz Hakan   26.5500\n",
              "...                                                 ...       ...\n",
              "1278               Vestrom, Miss. Hulda Amanda Adolfina    7.8542\n",
              "1279                                    Vovk, Mr. Janko    7.8958\n",
              "1280                               Waelens, Mr. Achille    9.0000\n",
              "1281                                Ware, Mr. Frederick    8.0500\n",
              "1282                        Warren, Mr. Charles William    7.5500\n",
              "1283                                  Webber, Mr. James    8.0500\n",
              "1284                                Wenzel, Mr. Linhart    9.5000\n",
              "1285    Whabee, Mrs. George Joseph (Shawneene Abi-Saab)    7.2292\n",
              "1286                   Widegren, Mr. Carl/Charles Peter    7.7500\n",
              "1287                          Wiklund, Mr. Jakob Alfred    6.4958\n",
              "1288                            Wiklund, Mr. Karl Johan    6.4958\n",
              "1289                   Wilkes, Mrs. James (Ellen Needs)    7.0000\n",
              "1290                   Willer, Mr. Aaron (\"Abi Weller\")    8.7125\n",
              "1291                                 Willey, Mr. Edward    7.5500\n",
              "1292                  Williams, Mr. Howard Hugh \"Harry\"    8.0500\n",
              "1293                               Williams, Mr. Leslie   16.1000\n",
              "1294                                Windelov, Mr. Einar    7.2500\n",
              "1295                                   Wirz, Mr. Albert    8.6625\n",
              "1296                             Wiseman, Mr. Phillippe    7.2500\n",
              "1297                          Wittevrongel, Mr. Camille    9.5000\n",
              "1298                                Yasbeck, Mr. Antoni   14.4542\n",
              "1299            Yasbeck, Mrs. Antoni (Selini Alexander)   14.4542\n",
              "1300                               Youseff, Mr. Gerious    7.2250\n",
              "1301                                  Yousif, Mr. Wazli    7.2250\n",
              "1302                              Yousseff, Mr. Gerious   14.4583\n",
              "1303                               Zabour, Miss. Hileni   14.4542\n",
              "1304                              Zabour, Miss. Thamine   14.4542\n",
              "1305                          Zakarian, Mr. Mapriededer    7.2250\n",
              "1306                                Zakarian, Mr. Ortin    7.2250\n",
              "1307                                 Zimmerman, Mr. Leo    7.8750\n",
              "\n",
              "[1308 rows x 2 columns]"
            ]
          },
          "metadata": {
            "tags": []
          },
          "execution_count": 11
        }
      ]
    },
    {
      "metadata": {
        "id": "IUvDMjYvm-ce",
        "colab_type": "text"
      },
      "cell_type": "markdown",
      "source": [
        "### Select rows and columns by name"
      ]
    },
    {
      "metadata": {
        "scrolled": false,
        "id": "sWk9AEK6m-cg",
        "colab_type": "code",
        "colab": {
          "base_uri": "https://localhost:8080/",
          "height": 390
        },
        "outputId": "bd4bfdbf-3326-4d3f-e844-3f9300d09146"
      },
      "cell_type": "code",
      "source": [
        "titanic.loc[10:20, ['name', 'fare']]"
      ],
      "execution_count": 12,
      "outputs": [
        {
          "output_type": "execute_result",
          "data": {
            "text/html": [
              "<div>\n",
              "<style scoped>\n",
              "    .dataframe tbody tr th:only-of-type {\n",
              "        vertical-align: middle;\n",
              "    }\n",
              "\n",
              "    .dataframe tbody tr th {\n",
              "        vertical-align: top;\n",
              "    }\n",
              "\n",
              "    .dataframe thead th {\n",
              "        text-align: right;\n",
              "    }\n",
              "</style>\n",
              "<table border=\"1\" class=\"dataframe\">\n",
              "  <thead>\n",
              "    <tr style=\"text-align: right;\">\n",
              "      <th></th>\n",
              "      <th>name</th>\n",
              "      <th>fare</th>\n",
              "    </tr>\n",
              "  </thead>\n",
              "  <tbody>\n",
              "    <tr>\n",
              "      <th>10</th>\n",
              "      <td>Astor, Col. John Jacob</td>\n",
              "      <td>227.5250</td>\n",
              "    </tr>\n",
              "    <tr>\n",
              "      <th>11</th>\n",
              "      <td>Astor, Mrs. John Jacob (Madeleine Talmadge Force)</td>\n",
              "      <td>227.5250</td>\n",
              "    </tr>\n",
              "    <tr>\n",
              "      <th>12</th>\n",
              "      <td>Aubart, Mme. Leontine Pauline</td>\n",
              "      <td>69.3000</td>\n",
              "    </tr>\n",
              "    <tr>\n",
              "      <th>13</th>\n",
              "      <td>Barber, Miss. Ellen \"Nellie\"</td>\n",
              "      <td>78.8500</td>\n",
              "    </tr>\n",
              "    <tr>\n",
              "      <th>14</th>\n",
              "      <td>Barkworth, Mr. Algernon Henry Wilson</td>\n",
              "      <td>30.0000</td>\n",
              "    </tr>\n",
              "    <tr>\n",
              "      <th>15</th>\n",
              "      <td>Baumann, Mr. John D</td>\n",
              "      <td>25.9250</td>\n",
              "    </tr>\n",
              "    <tr>\n",
              "      <th>16</th>\n",
              "      <td>Baxter, Mr. Quigg Edmond</td>\n",
              "      <td>247.5208</td>\n",
              "    </tr>\n",
              "    <tr>\n",
              "      <th>17</th>\n",
              "      <td>Baxter, Mrs. James (Helene DeLaudeniere Chaput)</td>\n",
              "      <td>247.5208</td>\n",
              "    </tr>\n",
              "    <tr>\n",
              "      <th>18</th>\n",
              "      <td>Bazzani, Miss. Albina</td>\n",
              "      <td>76.2917</td>\n",
              "    </tr>\n",
              "    <tr>\n",
              "      <th>19</th>\n",
              "      <td>Beattie, Mr. Thomson</td>\n",
              "      <td>75.2417</td>\n",
              "    </tr>\n",
              "    <tr>\n",
              "      <th>20</th>\n",
              "      <td>Beckwith, Mr. Richard Leonard</td>\n",
              "      <td>52.5542</td>\n",
              "    </tr>\n",
              "  </tbody>\n",
              "</table>\n",
              "</div>"
            ],
            "text/plain": [
              "                                                 name      fare\n",
              "10                             Astor, Col. John Jacob  227.5250\n",
              "11  Astor, Mrs. John Jacob (Madeleine Talmadge Force)  227.5250\n",
              "12                      Aubart, Mme. Leontine Pauline   69.3000\n",
              "13                       Barber, Miss. Ellen \"Nellie\"   78.8500\n",
              "14               Barkworth, Mr. Algernon Henry Wilson   30.0000\n",
              "15                                Baumann, Mr. John D   25.9250\n",
              "16                           Baxter, Mr. Quigg Edmond  247.5208\n",
              "17    Baxter, Mrs. James (Helene DeLaudeniere Chaput)  247.5208\n",
              "18                              Bazzani, Miss. Albina   76.2917\n",
              "19                               Beattie, Mr. Thomson   75.2417\n",
              "20                      Beckwith, Mr. Richard Leonard   52.5542"
            ]
          },
          "metadata": {
            "tags": []
          },
          "execution_count": 12
        }
      ]
    },
    {
      "metadata": {
        "id": "5aYVqDwim-ct",
        "colab_type": "text"
      },
      "cell_type": "markdown",
      "source": [
        "### Select rows and columns by range of indices"
      ]
    },
    {
      "metadata": {
        "scrolled": true,
        "id": "qCFnK_qKm-cw",
        "colab_type": "code",
        "colab": {
          "base_uri": "https://localhost:8080/",
          "height": 359
        },
        "outputId": "83435ae0-5ac1-4f67-d2c1-847d11d35c54"
      },
      "cell_type": "code",
      "source": [
        "titanic.iloc[10:20, 0:3]"
      ],
      "execution_count": 13,
      "outputs": [
        {
          "output_type": "execute_result",
          "data": {
            "text/html": [
              "<div>\n",
              "<style scoped>\n",
              "    .dataframe tbody tr th:only-of-type {\n",
              "        vertical-align: middle;\n",
              "    }\n",
              "\n",
              "    .dataframe tbody tr th {\n",
              "        vertical-align: top;\n",
              "    }\n",
              "\n",
              "    .dataframe thead th {\n",
              "        text-align: right;\n",
              "    }\n",
              "</style>\n",
              "<table border=\"1\" class=\"dataframe\">\n",
              "  <thead>\n",
              "    <tr style=\"text-align: right;\">\n",
              "      <th></th>\n",
              "      <th>pclass</th>\n",
              "      <th>survived</th>\n",
              "      <th>name</th>\n",
              "    </tr>\n",
              "  </thead>\n",
              "  <tbody>\n",
              "    <tr>\n",
              "      <th>10</th>\n",
              "      <td>1</td>\n",
              "      <td>0</td>\n",
              "      <td>Astor, Col. John Jacob</td>\n",
              "    </tr>\n",
              "    <tr>\n",
              "      <th>11</th>\n",
              "      <td>1</td>\n",
              "      <td>1</td>\n",
              "      <td>Astor, Mrs. John Jacob (Madeleine Talmadge Force)</td>\n",
              "    </tr>\n",
              "    <tr>\n",
              "      <th>12</th>\n",
              "      <td>1</td>\n",
              "      <td>1</td>\n",
              "      <td>Aubart, Mme. Leontine Pauline</td>\n",
              "    </tr>\n",
              "    <tr>\n",
              "      <th>13</th>\n",
              "      <td>1</td>\n",
              "      <td>1</td>\n",
              "      <td>Barber, Miss. Ellen \"Nellie\"</td>\n",
              "    </tr>\n",
              "    <tr>\n",
              "      <th>14</th>\n",
              "      <td>1</td>\n",
              "      <td>1</td>\n",
              "      <td>Barkworth, Mr. Algernon Henry Wilson</td>\n",
              "    </tr>\n",
              "    <tr>\n",
              "      <th>15</th>\n",
              "      <td>1</td>\n",
              "      <td>0</td>\n",
              "      <td>Baumann, Mr. John D</td>\n",
              "    </tr>\n",
              "    <tr>\n",
              "      <th>16</th>\n",
              "      <td>1</td>\n",
              "      <td>0</td>\n",
              "      <td>Baxter, Mr. Quigg Edmond</td>\n",
              "    </tr>\n",
              "    <tr>\n",
              "      <th>17</th>\n",
              "      <td>1</td>\n",
              "      <td>1</td>\n",
              "      <td>Baxter, Mrs. James (Helene DeLaudeniere Chaput)</td>\n",
              "    </tr>\n",
              "    <tr>\n",
              "      <th>18</th>\n",
              "      <td>1</td>\n",
              "      <td>1</td>\n",
              "      <td>Bazzani, Miss. Albina</td>\n",
              "    </tr>\n",
              "    <tr>\n",
              "      <th>19</th>\n",
              "      <td>1</td>\n",
              "      <td>0</td>\n",
              "      <td>Beattie, Mr. Thomson</td>\n",
              "    </tr>\n",
              "  </tbody>\n",
              "</table>\n",
              "</div>"
            ],
            "text/plain": [
              "    pclass  survived                                               name\n",
              "10       1         0                             Astor, Col. John Jacob\n",
              "11       1         1  Astor, Mrs. John Jacob (Madeleine Talmadge Force)\n",
              "12       1         1                      Aubart, Mme. Leontine Pauline\n",
              "13       1         1                       Barber, Miss. Ellen \"Nellie\"\n",
              "14       1         1               Barkworth, Mr. Algernon Henry Wilson\n",
              "15       1         0                                Baumann, Mr. John D\n",
              "16       1         0                           Baxter, Mr. Quigg Edmond\n",
              "17       1         1    Baxter, Mrs. James (Helene DeLaudeniere Chaput)\n",
              "18       1         1                              Bazzani, Miss. Albina\n",
              "19       1         0                               Beattie, Mr. Thomson"
            ]
          },
          "metadata": {
            "tags": []
          },
          "execution_count": 13
        }
      ]
    },
    {
      "metadata": {
        "id": "jAyCBSPYm-c9",
        "colab_type": "text"
      },
      "cell_type": "markdown",
      "source": [
        "### Select rows based on condition (filter)"
      ]
    },
    {
      "metadata": {
        "id": "oUbzTaZIm-dA",
        "colab_type": "code",
        "colab": {
          "base_uri": "https://localhost:8080/",
          "height": 2683
        },
        "outputId": "44b86d36-78a8-4ec3-b8dc-f696a3e0e69e"
      },
      "cell_type": "code",
      "source": [
        "titanic[titanic['fare'] > 100]"
      ],
      "execution_count": 14,
      "outputs": [
        {
          "output_type": "execute_result",
          "data": {
            "text/html": [
              "<div>\n",
              "<style scoped>\n",
              "    .dataframe tbody tr th:only-of-type {\n",
              "        vertical-align: middle;\n",
              "    }\n",
              "\n",
              "    .dataframe tbody tr th {\n",
              "        vertical-align: top;\n",
              "    }\n",
              "\n",
              "    .dataframe thead th {\n",
              "        text-align: right;\n",
              "    }\n",
              "</style>\n",
              "<table border=\"1\" class=\"dataframe\">\n",
              "  <thead>\n",
              "    <tr style=\"text-align: right;\">\n",
              "      <th></th>\n",
              "      <th>pclass</th>\n",
              "      <th>survived</th>\n",
              "      <th>name</th>\n",
              "      <th>sex</th>\n",
              "      <th>age</th>\n",
              "      <th>sibsp</th>\n",
              "      <th>parch</th>\n",
              "      <th>ticket</th>\n",
              "      <th>fare</th>\n",
              "      <th>cabin</th>\n",
              "      <th>embarked</th>\n",
              "      <th>boat</th>\n",
              "      <th>body</th>\n",
              "      <th>home.dest</th>\n",
              "    </tr>\n",
              "  </thead>\n",
              "  <tbody>\n",
              "    <tr>\n",
              "      <th>0</th>\n",
              "      <td>1</td>\n",
              "      <td>1</td>\n",
              "      <td>Allen, Miss. Elisabeth Walton</td>\n",
              "      <td>female</td>\n",
              "      <td>29.0000</td>\n",
              "      <td>0</td>\n",
              "      <td>0</td>\n",
              "      <td>24160</td>\n",
              "      <td>211.3375</td>\n",
              "      <td>B5</td>\n",
              "      <td>S</td>\n",
              "      <td>2</td>\n",
              "      <td>NaN</td>\n",
              "      <td>St Louis, MO</td>\n",
              "    </tr>\n",
              "    <tr>\n",
              "      <th>1</th>\n",
              "      <td>1</td>\n",
              "      <td>1</td>\n",
              "      <td>Allison, Master. Hudson Trevor</td>\n",
              "      <td>male</td>\n",
              "      <td>0.9167</td>\n",
              "      <td>1</td>\n",
              "      <td>2</td>\n",
              "      <td>113781</td>\n",
              "      <td>151.5500</td>\n",
              "      <td>C22 C26</td>\n",
              "      <td>S</td>\n",
              "      <td>11</td>\n",
              "      <td>NaN</td>\n",
              "      <td>Montreal, PQ / Chesterville, ON</td>\n",
              "    </tr>\n",
              "    <tr>\n",
              "      <th>2</th>\n",
              "      <td>1</td>\n",
              "      <td>0</td>\n",
              "      <td>Allison, Miss. Helen Loraine</td>\n",
              "      <td>female</td>\n",
              "      <td>2.0000</td>\n",
              "      <td>1</td>\n",
              "      <td>2</td>\n",
              "      <td>113781</td>\n",
              "      <td>151.5500</td>\n",
              "      <td>C22 C26</td>\n",
              "      <td>S</td>\n",
              "      <td>NaN</td>\n",
              "      <td>NaN</td>\n",
              "      <td>Montreal, PQ / Chesterville, ON</td>\n",
              "    </tr>\n",
              "    <tr>\n",
              "      <th>3</th>\n",
              "      <td>1</td>\n",
              "      <td>0</td>\n",
              "      <td>Allison, Mr. Hudson Joshua Creighton</td>\n",
              "      <td>male</td>\n",
              "      <td>30.0000</td>\n",
              "      <td>1</td>\n",
              "      <td>2</td>\n",
              "      <td>113781</td>\n",
              "      <td>151.5500</td>\n",
              "      <td>C22 C26</td>\n",
              "      <td>S</td>\n",
              "      <td>NaN</td>\n",
              "      <td>135.0</td>\n",
              "      <td>Montreal, PQ / Chesterville, ON</td>\n",
              "    </tr>\n",
              "    <tr>\n",
              "      <th>4</th>\n",
              "      <td>1</td>\n",
              "      <td>0</td>\n",
              "      <td>Allison, Mrs. Hudson J C (Bessie Waldo Daniels)</td>\n",
              "      <td>female</td>\n",
              "      <td>25.0000</td>\n",
              "      <td>1</td>\n",
              "      <td>2</td>\n",
              "      <td>113781</td>\n",
              "      <td>151.5500</td>\n",
              "      <td>C22 C26</td>\n",
              "      <td>S</td>\n",
              "      <td>NaN</td>\n",
              "      <td>NaN</td>\n",
              "      <td>Montreal, PQ / Chesterville, ON</td>\n",
              "    </tr>\n",
              "    <tr>\n",
              "      <th>10</th>\n",
              "      <td>1</td>\n",
              "      <td>0</td>\n",
              "      <td>Astor, Col. John Jacob</td>\n",
              "      <td>male</td>\n",
              "      <td>47.0000</td>\n",
              "      <td>1</td>\n",
              "      <td>0</td>\n",
              "      <td>PC 17757</td>\n",
              "      <td>227.5250</td>\n",
              "      <td>C62 C64</td>\n",
              "      <td>C</td>\n",
              "      <td>NaN</td>\n",
              "      <td>124.0</td>\n",
              "      <td>New York, NY</td>\n",
              "    </tr>\n",
              "    <tr>\n",
              "      <th>11</th>\n",
              "      <td>1</td>\n",
              "      <td>1</td>\n",
              "      <td>Astor, Mrs. John Jacob (Madeleine Talmadge Force)</td>\n",
              "      <td>female</td>\n",
              "      <td>18.0000</td>\n",
              "      <td>1</td>\n",
              "      <td>0</td>\n",
              "      <td>PC 17757</td>\n",
              "      <td>227.5250</td>\n",
              "      <td>C62 C64</td>\n",
              "      <td>C</td>\n",
              "      <td>4</td>\n",
              "      <td>NaN</td>\n",
              "      <td>New York, NY</td>\n",
              "    </tr>\n",
              "    <tr>\n",
              "      <th>16</th>\n",
              "      <td>1</td>\n",
              "      <td>0</td>\n",
              "      <td>Baxter, Mr. Quigg Edmond</td>\n",
              "      <td>male</td>\n",
              "      <td>24.0000</td>\n",
              "      <td>0</td>\n",
              "      <td>1</td>\n",
              "      <td>PC 17558</td>\n",
              "      <td>247.5208</td>\n",
              "      <td>B58 B60</td>\n",
              "      <td>C</td>\n",
              "      <td>NaN</td>\n",
              "      <td>NaN</td>\n",
              "      <td>Montreal, PQ</td>\n",
              "    </tr>\n",
              "    <tr>\n",
              "      <th>17</th>\n",
              "      <td>1</td>\n",
              "      <td>1</td>\n",
              "      <td>Baxter, Mrs. James (Helene DeLaudeniere Chaput)</td>\n",
              "      <td>female</td>\n",
              "      <td>50.0000</td>\n",
              "      <td>0</td>\n",
              "      <td>1</td>\n",
              "      <td>PC 17558</td>\n",
              "      <td>247.5208</td>\n",
              "      <td>B58 B60</td>\n",
              "      <td>C</td>\n",
              "      <td>6</td>\n",
              "      <td>NaN</td>\n",
              "      <td>Montreal, PQ</td>\n",
              "    </tr>\n",
              "    <tr>\n",
              "      <th>23</th>\n",
              "      <td>1</td>\n",
              "      <td>1</td>\n",
              "      <td>Bidois, Miss. Rosalie</td>\n",
              "      <td>female</td>\n",
              "      <td>42.0000</td>\n",
              "      <td>0</td>\n",
              "      <td>0</td>\n",
              "      <td>PC 17757</td>\n",
              "      <td>227.5250</td>\n",
              "      <td>NaN</td>\n",
              "      <td>C</td>\n",
              "      <td>4</td>\n",
              "      <td>NaN</td>\n",
              "      <td>NaN</td>\n",
              "    </tr>\n",
              "    <tr>\n",
              "      <th>24</th>\n",
              "      <td>1</td>\n",
              "      <td>1</td>\n",
              "      <td>Bird, Miss. Ellen</td>\n",
              "      <td>female</td>\n",
              "      <td>29.0000</td>\n",
              "      <td>0</td>\n",
              "      <td>0</td>\n",
              "      <td>PC 17483</td>\n",
              "      <td>221.7792</td>\n",
              "      <td>C97</td>\n",
              "      <td>S</td>\n",
              "      <td>8</td>\n",
              "      <td>NaN</td>\n",
              "      <td>NaN</td>\n",
              "    </tr>\n",
              "    <tr>\n",
              "      <th>28</th>\n",
              "      <td>1</td>\n",
              "      <td>1</td>\n",
              "      <td>Bissette, Miss. Amelia</td>\n",
              "      <td>female</td>\n",
              "      <td>35.0000</td>\n",
              "      <td>0</td>\n",
              "      <td>0</td>\n",
              "      <td>PC 17760</td>\n",
              "      <td>135.6333</td>\n",
              "      <td>C99</td>\n",
              "      <td>S</td>\n",
              "      <td>8</td>\n",
              "      <td>NaN</td>\n",
              "      <td>NaN</td>\n",
              "    </tr>\n",
              "    <tr>\n",
              "      <th>32</th>\n",
              "      <td>1</td>\n",
              "      <td>1</td>\n",
              "      <td>Bonnell, Miss. Caroline</td>\n",
              "      <td>female</td>\n",
              "      <td>30.0000</td>\n",
              "      <td>0</td>\n",
              "      <td>0</td>\n",
              "      <td>36928</td>\n",
              "      <td>164.8667</td>\n",
              "      <td>C7</td>\n",
              "      <td>S</td>\n",
              "      <td>8</td>\n",
              "      <td>NaN</td>\n",
              "      <td>Youngstown, OH</td>\n",
              "    </tr>\n",
              "    <tr>\n",
              "      <th>35</th>\n",
              "      <td>1</td>\n",
              "      <td>1</td>\n",
              "      <td>Bowen, Miss. Grace Scott</td>\n",
              "      <td>female</td>\n",
              "      <td>45.0000</td>\n",
              "      <td>0</td>\n",
              "      <td>0</td>\n",
              "      <td>PC 17608</td>\n",
              "      <td>262.3750</td>\n",
              "      <td>NaN</td>\n",
              "      <td>C</td>\n",
              "      <td>4</td>\n",
              "      <td>NaN</td>\n",
              "      <td>Cooperstown, NY</td>\n",
              "    </tr>\n",
              "    <tr>\n",
              "      <th>44</th>\n",
              "      <td>1</td>\n",
              "      <td>1</td>\n",
              "      <td>Burns, Miss. Elizabeth Margaret</td>\n",
              "      <td>female</td>\n",
              "      <td>41.0000</td>\n",
              "      <td>0</td>\n",
              "      <td>0</td>\n",
              "      <td>16966</td>\n",
              "      <td>134.5000</td>\n",
              "      <td>E40</td>\n",
              "      <td>C</td>\n",
              "      <td>3</td>\n",
              "      <td>NaN</td>\n",
              "      <td>NaN</td>\n",
              "    </tr>\n",
              "    <tr>\n",
              "      <th>49</th>\n",
              "      <td>1</td>\n",
              "      <td>1</td>\n",
              "      <td>Cardeza, Mr. Thomas Drake Martinez</td>\n",
              "      <td>male</td>\n",
              "      <td>36.0000</td>\n",
              "      <td>0</td>\n",
              "      <td>1</td>\n",
              "      <td>PC 17755</td>\n",
              "      <td>512.3292</td>\n",
              "      <td>B51 B53 B55</td>\n",
              "      <td>C</td>\n",
              "      <td>3</td>\n",
              "      <td>NaN</td>\n",
              "      <td>Austria-Hungary / Germantown, Philadelphia, PA</td>\n",
              "    </tr>\n",
              "    <tr>\n",
              "      <th>50</th>\n",
              "      <td>1</td>\n",
              "      <td>1</td>\n",
              "      <td>Cardeza, Mrs. James Warburton Martinez (Charlo...</td>\n",
              "      <td>female</td>\n",
              "      <td>58.0000</td>\n",
              "      <td>0</td>\n",
              "      <td>1</td>\n",
              "      <td>PC 17755</td>\n",
              "      <td>512.3292</td>\n",
              "      <td>B51 B53 B55</td>\n",
              "      <td>C</td>\n",
              "      <td>3</td>\n",
              "      <td>NaN</td>\n",
              "      <td>Germantown, Philadelphia, PA</td>\n",
              "    </tr>\n",
              "    <tr>\n",
              "      <th>54</th>\n",
              "      <td>1</td>\n",
              "      <td>1</td>\n",
              "      <td>Carter, Master. William Thornton II</td>\n",
              "      <td>male</td>\n",
              "      <td>11.0000</td>\n",
              "      <td>1</td>\n",
              "      <td>2</td>\n",
              "      <td>113760</td>\n",
              "      <td>120.0000</td>\n",
              "      <td>B96 B98</td>\n",
              "      <td>S</td>\n",
              "      <td>4</td>\n",
              "      <td>NaN</td>\n",
              "      <td>Bryn Mawr, PA</td>\n",
              "    </tr>\n",
              "    <tr>\n",
              "      <th>55</th>\n",
              "      <td>1</td>\n",
              "      <td>1</td>\n",
              "      <td>Carter, Miss. Lucile Polk</td>\n",
              "      <td>female</td>\n",
              "      <td>14.0000</td>\n",
              "      <td>1</td>\n",
              "      <td>2</td>\n",
              "      <td>113760</td>\n",
              "      <td>120.0000</td>\n",
              "      <td>B96 B98</td>\n",
              "      <td>S</td>\n",
              "      <td>4</td>\n",
              "      <td>NaN</td>\n",
              "      <td>Bryn Mawr, PA</td>\n",
              "    </tr>\n",
              "    <tr>\n",
              "      <th>56</th>\n",
              "      <td>1</td>\n",
              "      <td>1</td>\n",
              "      <td>Carter, Mr. William Ernest</td>\n",
              "      <td>male</td>\n",
              "      <td>36.0000</td>\n",
              "      <td>1</td>\n",
              "      <td>2</td>\n",
              "      <td>113760</td>\n",
              "      <td>120.0000</td>\n",
              "      <td>B96 B98</td>\n",
              "      <td>S</td>\n",
              "      <td>C</td>\n",
              "      <td>NaN</td>\n",
              "      <td>Bryn Mawr, PA</td>\n",
              "    </tr>\n",
              "    <tr>\n",
              "      <th>57</th>\n",
              "      <td>1</td>\n",
              "      <td>1</td>\n",
              "      <td>Carter, Mrs. William Ernest (Lucile Polk)</td>\n",
              "      <td>female</td>\n",
              "      <td>36.0000</td>\n",
              "      <td>1</td>\n",
              "      <td>2</td>\n",
              "      <td>113760</td>\n",
              "      <td>120.0000</td>\n",
              "      <td>B96 B98</td>\n",
              "      <td>S</td>\n",
              "      <td>4</td>\n",
              "      <td>NaN</td>\n",
              "      <td>Bryn Mawr, PA</td>\n",
              "    </tr>\n",
              "    <tr>\n",
              "      <th>66</th>\n",
              "      <td>1</td>\n",
              "      <td>1</td>\n",
              "      <td>Chaudanson, Miss. Victorine</td>\n",
              "      <td>female</td>\n",
              "      <td>36.0000</td>\n",
              "      <td>0</td>\n",
              "      <td>0</td>\n",
              "      <td>PC 17608</td>\n",
              "      <td>262.3750</td>\n",
              "      <td>B61</td>\n",
              "      <td>C</td>\n",
              "      <td>4</td>\n",
              "      <td>NaN</td>\n",
              "      <td>NaN</td>\n",
              "    </tr>\n",
              "    <tr>\n",
              "      <th>71</th>\n",
              "      <td>1</td>\n",
              "      <td>0</td>\n",
              "      <td>Clark, Mr. Walter Miller</td>\n",
              "      <td>male</td>\n",
              "      <td>27.0000</td>\n",
              "      <td>1</td>\n",
              "      <td>0</td>\n",
              "      <td>13508</td>\n",
              "      <td>136.7792</td>\n",
              "      <td>C89</td>\n",
              "      <td>C</td>\n",
              "      <td>NaN</td>\n",
              "      <td>NaN</td>\n",
              "      <td>Los Angeles, CA</td>\n",
              "    </tr>\n",
              "    <tr>\n",
              "      <th>72</th>\n",
              "      <td>1</td>\n",
              "      <td>1</td>\n",
              "      <td>Clark, Mrs. Walter Miller (Virginia McDowell)</td>\n",
              "      <td>female</td>\n",
              "      <td>26.0000</td>\n",
              "      <td>1</td>\n",
              "      <td>0</td>\n",
              "      <td>13508</td>\n",
              "      <td>136.7792</td>\n",
              "      <td>C89</td>\n",
              "      <td>C</td>\n",
              "      <td>4</td>\n",
              "      <td>NaN</td>\n",
              "      <td>Los Angeles, CA</td>\n",
              "    </tr>\n",
              "    <tr>\n",
              "      <th>73</th>\n",
              "      <td>1</td>\n",
              "      <td>1</td>\n",
              "      <td>Cleaver, Miss. Alice</td>\n",
              "      <td>female</td>\n",
              "      <td>22.0000</td>\n",
              "      <td>0</td>\n",
              "      <td>0</td>\n",
              "      <td>113781</td>\n",
              "      <td>151.5500</td>\n",
              "      <td>NaN</td>\n",
              "      <td>S</td>\n",
              "      <td>11</td>\n",
              "      <td>NaN</td>\n",
              "      <td>NaN</td>\n",
              "    </tr>\n",
              "    <tr>\n",
              "      <th>88</th>\n",
              "      <td>1</td>\n",
              "      <td>1</td>\n",
              "      <td>Daniels, Miss. Sarah</td>\n",
              "      <td>female</td>\n",
              "      <td>33.0000</td>\n",
              "      <td>0</td>\n",
              "      <td>0</td>\n",
              "      <td>113781</td>\n",
              "      <td>151.5500</td>\n",
              "      <td>NaN</td>\n",
              "      <td>S</td>\n",
              "      <td>8</td>\n",
              "      <td>NaN</td>\n",
              "      <td>NaN</td>\n",
              "    </tr>\n",
              "    <tr>\n",
              "      <th>96</th>\n",
              "      <td>1</td>\n",
              "      <td>0</td>\n",
              "      <td>Douglas, Mr. Walter Donald</td>\n",
              "      <td>male</td>\n",
              "      <td>50.0000</td>\n",
              "      <td>1</td>\n",
              "      <td>0</td>\n",
              "      <td>PC 17761</td>\n",
              "      <td>106.4250</td>\n",
              "      <td>C86</td>\n",
              "      <td>C</td>\n",
              "      <td>NaN</td>\n",
              "      <td>62.0</td>\n",
              "      <td>Deephaven, MN / Cedar Rapids, IA</td>\n",
              "    </tr>\n",
              "    <tr>\n",
              "      <th>97</th>\n",
              "      <td>1</td>\n",
              "      <td>1</td>\n",
              "      <td>Douglas, Mrs. Frederick Charles (Mary Helene B...</td>\n",
              "      <td>female</td>\n",
              "      <td>27.0000</td>\n",
              "      <td>1</td>\n",
              "      <td>1</td>\n",
              "      <td>PC 17558</td>\n",
              "      <td>247.5208</td>\n",
              "      <td>B58 B60</td>\n",
              "      <td>C</td>\n",
              "      <td>6</td>\n",
              "      <td>NaN</td>\n",
              "      <td>Montreal, PQ</td>\n",
              "    </tr>\n",
              "    <tr>\n",
              "      <th>98</th>\n",
              "      <td>1</td>\n",
              "      <td>1</td>\n",
              "      <td>Douglas, Mrs. Walter Donald (Mahala Dutton)</td>\n",
              "      <td>female</td>\n",
              "      <td>48.0000</td>\n",
              "      <td>1</td>\n",
              "      <td>0</td>\n",
              "      <td>PC 17761</td>\n",
              "      <td>106.4250</td>\n",
              "      <td>C86</td>\n",
              "      <td>C</td>\n",
              "      <td>2</td>\n",
              "      <td>NaN</td>\n",
              "      <td>Deephaven, MN / Cedar Rapids, IA</td>\n",
              "    </tr>\n",
              "    <tr>\n",
              "      <th>103</th>\n",
              "      <td>1</td>\n",
              "      <td>1</td>\n",
              "      <td>Endres, Miss. Caroline Louise</td>\n",
              "      <td>female</td>\n",
              "      <td>38.0000</td>\n",
              "      <td>0</td>\n",
              "      <td>0</td>\n",
              "      <td>PC 17757</td>\n",
              "      <td>227.5250</td>\n",
              "      <td>C45</td>\n",
              "      <td>C</td>\n",
              "      <td>4</td>\n",
              "      <td>NaN</td>\n",
              "      <td>New York, NY</td>\n",
              "    </tr>\n",
              "    <tr>\n",
              "      <th>...</th>\n",
              "      <td>...</td>\n",
              "      <td>...</td>\n",
              "      <td>...</td>\n",
              "      <td>...</td>\n",
              "      <td>...</td>\n",
              "      <td>...</td>\n",
              "      <td>...</td>\n",
              "      <td>...</td>\n",
              "      <td>...</td>\n",
              "      <td>...</td>\n",
              "      <td>...</td>\n",
              "      <td>...</td>\n",
              "      <td>...</td>\n",
              "      <td>...</td>\n",
              "    </tr>\n",
              "    <tr>\n",
              "      <th>229</th>\n",
              "      <td>1</td>\n",
              "      <td>1</td>\n",
              "      <td>Penasco y Castellana, Mrs. Victor de Satode (M...</td>\n",
              "      <td>female</td>\n",
              "      <td>17.0000</td>\n",
              "      <td>1</td>\n",
              "      <td>0</td>\n",
              "      <td>PC 17758</td>\n",
              "      <td>108.9000</td>\n",
              "      <td>C65</td>\n",
              "      <td>C</td>\n",
              "      <td>8</td>\n",
              "      <td>NaN</td>\n",
              "      <td>Madrid, Spain</td>\n",
              "    </tr>\n",
              "    <tr>\n",
              "      <th>236</th>\n",
              "      <td>1</td>\n",
              "      <td>0</td>\n",
              "      <td>Ringhini, Mr. Sante</td>\n",
              "      <td>male</td>\n",
              "      <td>22.0000</td>\n",
              "      <td>0</td>\n",
              "      <td>0</td>\n",
              "      <td>PC 17760</td>\n",
              "      <td>135.6333</td>\n",
              "      <td>NaN</td>\n",
              "      <td>C</td>\n",
              "      <td>NaN</td>\n",
              "      <td>232.0</td>\n",
              "      <td>NaN</td>\n",
              "    </tr>\n",
              "    <tr>\n",
              "      <th>237</th>\n",
              "      <td>1</td>\n",
              "      <td>0</td>\n",
              "      <td>Robbins, Mr. Victor</td>\n",
              "      <td>male</td>\n",
              "      <td>NaN</td>\n",
              "      <td>0</td>\n",
              "      <td>0</td>\n",
              "      <td>PC 17757</td>\n",
              "      <td>227.5250</td>\n",
              "      <td>NaN</td>\n",
              "      <td>C</td>\n",
              "      <td>NaN</td>\n",
              "      <td>NaN</td>\n",
              "      <td>NaN</td>\n",
              "    </tr>\n",
              "    <tr>\n",
              "      <th>238</th>\n",
              "      <td>1</td>\n",
              "      <td>1</td>\n",
              "      <td>Robert, Mrs. Edward Scott (Elisabeth Walton Mc...</td>\n",
              "      <td>female</td>\n",
              "      <td>43.0000</td>\n",
              "      <td>0</td>\n",
              "      <td>1</td>\n",
              "      <td>24160</td>\n",
              "      <td>211.3375</td>\n",
              "      <td>B3</td>\n",
              "      <td>S</td>\n",
              "      <td>2</td>\n",
              "      <td>NaN</td>\n",
              "      <td>St Louis, MO</td>\n",
              "    </tr>\n",
              "    <tr>\n",
              "      <th>249</th>\n",
              "      <td>1</td>\n",
              "      <td>1</td>\n",
              "      <td>Ryerson, Master. John Borie</td>\n",
              "      <td>male</td>\n",
              "      <td>13.0000</td>\n",
              "      <td>2</td>\n",
              "      <td>2</td>\n",
              "      <td>PC 17608</td>\n",
              "      <td>262.3750</td>\n",
              "      <td>B57 B59 B63 B66</td>\n",
              "      <td>C</td>\n",
              "      <td>4</td>\n",
              "      <td>NaN</td>\n",
              "      <td>Haverford, PA / Cooperstown, NY</td>\n",
              "    </tr>\n",
              "    <tr>\n",
              "      <th>250</th>\n",
              "      <td>1</td>\n",
              "      <td>1</td>\n",
              "      <td>Ryerson, Miss. Emily Borie</td>\n",
              "      <td>female</td>\n",
              "      <td>18.0000</td>\n",
              "      <td>2</td>\n",
              "      <td>2</td>\n",
              "      <td>PC 17608</td>\n",
              "      <td>262.3750</td>\n",
              "      <td>B57 B59 B63 B66</td>\n",
              "      <td>C</td>\n",
              "      <td>4</td>\n",
              "      <td>NaN</td>\n",
              "      <td>Haverford, PA / Cooperstown, NY</td>\n",
              "    </tr>\n",
              "    <tr>\n",
              "      <th>251</th>\n",
              "      <td>1</td>\n",
              "      <td>1</td>\n",
              "      <td>Ryerson, Miss. Susan Parker \"Suzette\"</td>\n",
              "      <td>female</td>\n",
              "      <td>21.0000</td>\n",
              "      <td>2</td>\n",
              "      <td>2</td>\n",
              "      <td>PC 17608</td>\n",
              "      <td>262.3750</td>\n",
              "      <td>B57 B59 B63 B66</td>\n",
              "      <td>C</td>\n",
              "      <td>4</td>\n",
              "      <td>NaN</td>\n",
              "      <td>Haverford, PA / Cooperstown, NY</td>\n",
              "    </tr>\n",
              "    <tr>\n",
              "      <th>252</th>\n",
              "      <td>1</td>\n",
              "      <td>0</td>\n",
              "      <td>Ryerson, Mr. Arthur Larned</td>\n",
              "      <td>male</td>\n",
              "      <td>61.0000</td>\n",
              "      <td>1</td>\n",
              "      <td>3</td>\n",
              "      <td>PC 17608</td>\n",
              "      <td>262.3750</td>\n",
              "      <td>B57 B59 B63 B66</td>\n",
              "      <td>C</td>\n",
              "      <td>NaN</td>\n",
              "      <td>NaN</td>\n",
              "      <td>Haverford, PA / Cooperstown, NY</td>\n",
              "    </tr>\n",
              "    <tr>\n",
              "      <th>253</th>\n",
              "      <td>1</td>\n",
              "      <td>1</td>\n",
              "      <td>Ryerson, Mrs. Arthur Larned (Emily Maria Borie)</td>\n",
              "      <td>female</td>\n",
              "      <td>48.0000</td>\n",
              "      <td>1</td>\n",
              "      <td>3</td>\n",
              "      <td>PC 17608</td>\n",
              "      <td>262.3750</td>\n",
              "      <td>B57 B59 B63 B66</td>\n",
              "      <td>C</td>\n",
              "      <td>4</td>\n",
              "      <td>NaN</td>\n",
              "      <td>Haverford, PA / Cooperstown, NY</td>\n",
              "    </tr>\n",
              "    <tr>\n",
              "      <th>260</th>\n",
              "      <td>1</td>\n",
              "      <td>1</td>\n",
              "      <td>Shutes, Miss. Elizabeth W</td>\n",
              "      <td>female</td>\n",
              "      <td>40.0000</td>\n",
              "      <td>0</td>\n",
              "      <td>0</td>\n",
              "      <td>PC 17582</td>\n",
              "      <td>153.4625</td>\n",
              "      <td>C125</td>\n",
              "      <td>S</td>\n",
              "      <td>3</td>\n",
              "      <td>NaN</td>\n",
              "      <td>New York, NY / Greenwich CT</td>\n",
              "    </tr>\n",
              "    <tr>\n",
              "      <th>273</th>\n",
              "      <td>1</td>\n",
              "      <td>1</td>\n",
              "      <td>Spedden, Master. Robert Douglas</td>\n",
              "      <td>male</td>\n",
              "      <td>6.0000</td>\n",
              "      <td>0</td>\n",
              "      <td>2</td>\n",
              "      <td>16966</td>\n",
              "      <td>134.5000</td>\n",
              "      <td>E34</td>\n",
              "      <td>C</td>\n",
              "      <td>3</td>\n",
              "      <td>NaN</td>\n",
              "      <td>Tuxedo Park, NY</td>\n",
              "    </tr>\n",
              "    <tr>\n",
              "      <th>274</th>\n",
              "      <td>1</td>\n",
              "      <td>1</td>\n",
              "      <td>Spedden, Mr. Frederic Oakley</td>\n",
              "      <td>male</td>\n",
              "      <td>45.0000</td>\n",
              "      <td>1</td>\n",
              "      <td>1</td>\n",
              "      <td>16966</td>\n",
              "      <td>134.5000</td>\n",
              "      <td>E34</td>\n",
              "      <td>C</td>\n",
              "      <td>3</td>\n",
              "      <td>NaN</td>\n",
              "      <td>Tuxedo Park, NY</td>\n",
              "    </tr>\n",
              "    <tr>\n",
              "      <th>275</th>\n",
              "      <td>1</td>\n",
              "      <td>1</td>\n",
              "      <td>Spedden, Mrs. Frederic Oakley (Margaretta Corn...</td>\n",
              "      <td>female</td>\n",
              "      <td>40.0000</td>\n",
              "      <td>1</td>\n",
              "      <td>1</td>\n",
              "      <td>16966</td>\n",
              "      <td>134.5000</td>\n",
              "      <td>E34</td>\n",
              "      <td>C</td>\n",
              "      <td>3</td>\n",
              "      <td>NaN</td>\n",
              "      <td>Tuxedo Park, NY</td>\n",
              "    </tr>\n",
              "    <tr>\n",
              "      <th>276</th>\n",
              "      <td>1</td>\n",
              "      <td>0</td>\n",
              "      <td>Spencer, Mr. William Augustus</td>\n",
              "      <td>male</td>\n",
              "      <td>57.0000</td>\n",
              "      <td>1</td>\n",
              "      <td>0</td>\n",
              "      <td>PC 17569</td>\n",
              "      <td>146.5208</td>\n",
              "      <td>B78</td>\n",
              "      <td>C</td>\n",
              "      <td>NaN</td>\n",
              "      <td>NaN</td>\n",
              "      <td>Paris, France</td>\n",
              "    </tr>\n",
              "    <tr>\n",
              "      <th>277</th>\n",
              "      <td>1</td>\n",
              "      <td>1</td>\n",
              "      <td>Spencer, Mrs. William Augustus (Marie Eugenie)</td>\n",
              "      <td>female</td>\n",
              "      <td>NaN</td>\n",
              "      <td>1</td>\n",
              "      <td>0</td>\n",
              "      <td>PC 17569</td>\n",
              "      <td>146.5208</td>\n",
              "      <td>B78</td>\n",
              "      <td>C</td>\n",
              "      <td>6</td>\n",
              "      <td>NaN</td>\n",
              "      <td>Paris, France</td>\n",
              "    </tr>\n",
              "    <tr>\n",
              "      <th>285</th>\n",
              "      <td>1</td>\n",
              "      <td>0</td>\n",
              "      <td>Straus, Mr. Isidor</td>\n",
              "      <td>male</td>\n",
              "      <td>67.0000</td>\n",
              "      <td>1</td>\n",
              "      <td>0</td>\n",
              "      <td>PC 17483</td>\n",
              "      <td>221.7792</td>\n",
              "      <td>C55 C57</td>\n",
              "      <td>S</td>\n",
              "      <td>NaN</td>\n",
              "      <td>96.0</td>\n",
              "      <td>New York, NY</td>\n",
              "    </tr>\n",
              "    <tr>\n",
              "      <th>286</th>\n",
              "      <td>1</td>\n",
              "      <td>0</td>\n",
              "      <td>Straus, Mrs. Isidor (Rosalie Ida Blun)</td>\n",
              "      <td>female</td>\n",
              "      <td>63.0000</td>\n",
              "      <td>1</td>\n",
              "      <td>0</td>\n",
              "      <td>PC 17483</td>\n",
              "      <td>221.7792</td>\n",
              "      <td>C55 C57</td>\n",
              "      <td>S</td>\n",
              "      <td>NaN</td>\n",
              "      <td>NaN</td>\n",
              "      <td>New York, NY</td>\n",
              "    </tr>\n",
              "    <tr>\n",
              "      <th>294</th>\n",
              "      <td>1</td>\n",
              "      <td>0</td>\n",
              "      <td>Thayer, Mr. John Borland</td>\n",
              "      <td>male</td>\n",
              "      <td>49.0000</td>\n",
              "      <td>1</td>\n",
              "      <td>1</td>\n",
              "      <td>17421</td>\n",
              "      <td>110.8833</td>\n",
              "      <td>C68</td>\n",
              "      <td>C</td>\n",
              "      <td>NaN</td>\n",
              "      <td>NaN</td>\n",
              "      <td>Haverford, PA</td>\n",
              "    </tr>\n",
              "    <tr>\n",
              "      <th>295</th>\n",
              "      <td>1</td>\n",
              "      <td>1</td>\n",
              "      <td>Thayer, Mr. John Borland Jr</td>\n",
              "      <td>male</td>\n",
              "      <td>17.0000</td>\n",
              "      <td>0</td>\n",
              "      <td>2</td>\n",
              "      <td>17421</td>\n",
              "      <td>110.8833</td>\n",
              "      <td>C70</td>\n",
              "      <td>C</td>\n",
              "      <td>B</td>\n",
              "      <td>NaN</td>\n",
              "      <td>Haverford, PA</td>\n",
              "    </tr>\n",
              "    <tr>\n",
              "      <th>296</th>\n",
              "      <td>1</td>\n",
              "      <td>1</td>\n",
              "      <td>Thayer, Mrs. John Borland (Marian Longstreth M...</td>\n",
              "      <td>female</td>\n",
              "      <td>39.0000</td>\n",
              "      <td>1</td>\n",
              "      <td>1</td>\n",
              "      <td>17421</td>\n",
              "      <td>110.8833</td>\n",
              "      <td>C68</td>\n",
              "      <td>C</td>\n",
              "      <td>4</td>\n",
              "      <td>NaN</td>\n",
              "      <td>Haverford, PA</td>\n",
              "    </tr>\n",
              "    <tr>\n",
              "      <th>302</th>\n",
              "      <td>1</td>\n",
              "      <td>1</td>\n",
              "      <td>Ward, Miss. Anna</td>\n",
              "      <td>female</td>\n",
              "      <td>35.0000</td>\n",
              "      <td>0</td>\n",
              "      <td>0</td>\n",
              "      <td>PC 17755</td>\n",
              "      <td>512.3292</td>\n",
              "      <td>NaN</td>\n",
              "      <td>C</td>\n",
              "      <td>3</td>\n",
              "      <td>NaN</td>\n",
              "      <td>NaN</td>\n",
              "    </tr>\n",
              "    <tr>\n",
              "      <th>308</th>\n",
              "      <td>1</td>\n",
              "      <td>1</td>\n",
              "      <td>White, Mrs. John Stuart (Ella Holmes)</td>\n",
              "      <td>female</td>\n",
              "      <td>55.0000</td>\n",
              "      <td>0</td>\n",
              "      <td>0</td>\n",
              "      <td>PC 17760</td>\n",
              "      <td>135.6333</td>\n",
              "      <td>C32</td>\n",
              "      <td>C</td>\n",
              "      <td>8</td>\n",
              "      <td>NaN</td>\n",
              "      <td>New York, NY / Briarcliff Manor NY</td>\n",
              "    </tr>\n",
              "    <tr>\n",
              "      <th>309</th>\n",
              "      <td>1</td>\n",
              "      <td>1</td>\n",
              "      <td>Wick, Miss. Mary Natalie</td>\n",
              "      <td>female</td>\n",
              "      <td>31.0000</td>\n",
              "      <td>0</td>\n",
              "      <td>2</td>\n",
              "      <td>36928</td>\n",
              "      <td>164.8667</td>\n",
              "      <td>C7</td>\n",
              "      <td>S</td>\n",
              "      <td>8</td>\n",
              "      <td>NaN</td>\n",
              "      <td>Youngstown, OH</td>\n",
              "    </tr>\n",
              "    <tr>\n",
              "      <th>310</th>\n",
              "      <td>1</td>\n",
              "      <td>0</td>\n",
              "      <td>Wick, Mr. George Dennick</td>\n",
              "      <td>male</td>\n",
              "      <td>57.0000</td>\n",
              "      <td>1</td>\n",
              "      <td>1</td>\n",
              "      <td>36928</td>\n",
              "      <td>164.8667</td>\n",
              "      <td>NaN</td>\n",
              "      <td>S</td>\n",
              "      <td>NaN</td>\n",
              "      <td>NaN</td>\n",
              "      <td>Youngstown, OH</td>\n",
              "    </tr>\n",
              "    <tr>\n",
              "      <th>311</th>\n",
              "      <td>1</td>\n",
              "      <td>1</td>\n",
              "      <td>Wick, Mrs. George Dennick (Mary Hitchcock)</td>\n",
              "      <td>female</td>\n",
              "      <td>45.0000</td>\n",
              "      <td>1</td>\n",
              "      <td>1</td>\n",
              "      <td>36928</td>\n",
              "      <td>164.8667</td>\n",
              "      <td>NaN</td>\n",
              "      <td>S</td>\n",
              "      <td>8</td>\n",
              "      <td>NaN</td>\n",
              "      <td>Youngstown, OH</td>\n",
              "    </tr>\n",
              "    <tr>\n",
              "      <th>312</th>\n",
              "      <td>1</td>\n",
              "      <td>0</td>\n",
              "      <td>Widener, Mr. George Dunton</td>\n",
              "      <td>male</td>\n",
              "      <td>50.0000</td>\n",
              "      <td>1</td>\n",
              "      <td>1</td>\n",
              "      <td>113503</td>\n",
              "      <td>211.5000</td>\n",
              "      <td>C80</td>\n",
              "      <td>C</td>\n",
              "      <td>NaN</td>\n",
              "      <td>NaN</td>\n",
              "      <td>Elkins Park, PA</td>\n",
              "    </tr>\n",
              "    <tr>\n",
              "      <th>313</th>\n",
              "      <td>1</td>\n",
              "      <td>0</td>\n",
              "      <td>Widener, Mr. Harry Elkins</td>\n",
              "      <td>male</td>\n",
              "      <td>27.0000</td>\n",
              "      <td>0</td>\n",
              "      <td>2</td>\n",
              "      <td>113503</td>\n",
              "      <td>211.5000</td>\n",
              "      <td>C82</td>\n",
              "      <td>C</td>\n",
              "      <td>NaN</td>\n",
              "      <td>NaN</td>\n",
              "      <td>Elkins Park, PA</td>\n",
              "    </tr>\n",
              "    <tr>\n",
              "      <th>314</th>\n",
              "      <td>1</td>\n",
              "      <td>1</td>\n",
              "      <td>Widener, Mrs. George Dunton (Eleanor Elkins)</td>\n",
              "      <td>female</td>\n",
              "      <td>50.0000</td>\n",
              "      <td>1</td>\n",
              "      <td>1</td>\n",
              "      <td>113503</td>\n",
              "      <td>211.5000</td>\n",
              "      <td>C80</td>\n",
              "      <td>C</td>\n",
              "      <td>4</td>\n",
              "      <td>NaN</td>\n",
              "      <td>Elkins Park, PA</td>\n",
              "    </tr>\n",
              "    <tr>\n",
              "      <th>319</th>\n",
              "      <td>1</td>\n",
              "      <td>1</td>\n",
              "      <td>Wilson, Miss. Helen Alice</td>\n",
              "      <td>female</td>\n",
              "      <td>31.0000</td>\n",
              "      <td>0</td>\n",
              "      <td>0</td>\n",
              "      <td>16966</td>\n",
              "      <td>134.5000</td>\n",
              "      <td>E39 E41</td>\n",
              "      <td>C</td>\n",
              "      <td>3</td>\n",
              "      <td>NaN</td>\n",
              "      <td>NaN</td>\n",
              "    </tr>\n",
              "    <tr>\n",
              "      <th>322</th>\n",
              "      <td>1</td>\n",
              "      <td>1</td>\n",
              "      <td>Young, Miss. Marie Grice</td>\n",
              "      <td>female</td>\n",
              "      <td>36.0000</td>\n",
              "      <td>0</td>\n",
              "      <td>0</td>\n",
              "      <td>PC 17760</td>\n",
              "      <td>135.6333</td>\n",
              "      <td>C32</td>\n",
              "      <td>C</td>\n",
              "      <td>8</td>\n",
              "      <td>NaN</td>\n",
              "      <td>New York, NY / Washington, DC</td>\n",
              "    </tr>\n",
              "  </tbody>\n",
              "</table>\n",
              "<p>84 rows × 14 columns</p>\n",
              "</div>"
            ],
            "text/plain": [
              "     pclass  survived                                               name  \\\n",
              "0         1         1                      Allen, Miss. Elisabeth Walton   \n",
              "1         1         1                     Allison, Master. Hudson Trevor   \n",
              "2         1         0                       Allison, Miss. Helen Loraine   \n",
              "3         1         0               Allison, Mr. Hudson Joshua Creighton   \n",
              "4         1         0    Allison, Mrs. Hudson J C (Bessie Waldo Daniels)   \n",
              "10        1         0                             Astor, Col. John Jacob   \n",
              "11        1         1  Astor, Mrs. John Jacob (Madeleine Talmadge Force)   \n",
              "16        1         0                           Baxter, Mr. Quigg Edmond   \n",
              "17        1         1    Baxter, Mrs. James (Helene DeLaudeniere Chaput)   \n",
              "23        1         1                              Bidois, Miss. Rosalie   \n",
              "24        1         1                                  Bird, Miss. Ellen   \n",
              "28        1         1                             Bissette, Miss. Amelia   \n",
              "32        1         1                            Bonnell, Miss. Caroline   \n",
              "35        1         1                           Bowen, Miss. Grace Scott   \n",
              "44        1         1                    Burns, Miss. Elizabeth Margaret   \n",
              "49        1         1                 Cardeza, Mr. Thomas Drake Martinez   \n",
              "50        1         1  Cardeza, Mrs. James Warburton Martinez (Charlo...   \n",
              "54        1         1                Carter, Master. William Thornton II   \n",
              "55        1         1                          Carter, Miss. Lucile Polk   \n",
              "56        1         1                         Carter, Mr. William Ernest   \n",
              "57        1         1          Carter, Mrs. William Ernest (Lucile Polk)   \n",
              "66        1         1                        Chaudanson, Miss. Victorine   \n",
              "71        1         0                           Clark, Mr. Walter Miller   \n",
              "72        1         1      Clark, Mrs. Walter Miller (Virginia McDowell)   \n",
              "73        1         1                               Cleaver, Miss. Alice   \n",
              "88        1         1                               Daniels, Miss. Sarah   \n",
              "96        1         0                         Douglas, Mr. Walter Donald   \n",
              "97        1         1  Douglas, Mrs. Frederick Charles (Mary Helene B...   \n",
              "98        1         1        Douglas, Mrs. Walter Donald (Mahala Dutton)   \n",
              "103       1         1                      Endres, Miss. Caroline Louise   \n",
              "..      ...       ...                                                ...   \n",
              "229       1         1  Penasco y Castellana, Mrs. Victor de Satode (M...   \n",
              "236       1         0                                Ringhini, Mr. Sante   \n",
              "237       1         0                                Robbins, Mr. Victor   \n",
              "238       1         1  Robert, Mrs. Edward Scott (Elisabeth Walton Mc...   \n",
              "249       1         1                        Ryerson, Master. John Borie   \n",
              "250       1         1                         Ryerson, Miss. Emily Borie   \n",
              "251       1         1              Ryerson, Miss. Susan Parker \"Suzette\"   \n",
              "252       1         0                         Ryerson, Mr. Arthur Larned   \n",
              "253       1         1    Ryerson, Mrs. Arthur Larned (Emily Maria Borie)   \n",
              "260       1         1                          Shutes, Miss. Elizabeth W   \n",
              "273       1         1                    Spedden, Master. Robert Douglas   \n",
              "274       1         1                       Spedden, Mr. Frederic Oakley   \n",
              "275       1         1  Spedden, Mrs. Frederic Oakley (Margaretta Corn...   \n",
              "276       1         0                      Spencer, Mr. William Augustus   \n",
              "277       1         1     Spencer, Mrs. William Augustus (Marie Eugenie)   \n",
              "285       1         0                                 Straus, Mr. Isidor   \n",
              "286       1         0             Straus, Mrs. Isidor (Rosalie Ida Blun)   \n",
              "294       1         0                           Thayer, Mr. John Borland   \n",
              "295       1         1                        Thayer, Mr. John Borland Jr   \n",
              "296       1         1  Thayer, Mrs. John Borland (Marian Longstreth M...   \n",
              "302       1         1                                   Ward, Miss. Anna   \n",
              "308       1         1              White, Mrs. John Stuart (Ella Holmes)   \n",
              "309       1         1                           Wick, Miss. Mary Natalie   \n",
              "310       1         0                           Wick, Mr. George Dennick   \n",
              "311       1         1         Wick, Mrs. George Dennick (Mary Hitchcock)   \n",
              "312       1         0                         Widener, Mr. George Dunton   \n",
              "313       1         0                          Widener, Mr. Harry Elkins   \n",
              "314       1         1       Widener, Mrs. George Dunton (Eleanor Elkins)   \n",
              "319       1         1                          Wilson, Miss. Helen Alice   \n",
              "322       1         1                           Young, Miss. Marie Grice   \n",
              "\n",
              "        sex      age  sibsp  parch    ticket      fare            cabin  \\\n",
              "0    female  29.0000      0      0     24160  211.3375               B5   \n",
              "1      male   0.9167      1      2    113781  151.5500          C22 C26   \n",
              "2    female   2.0000      1      2    113781  151.5500          C22 C26   \n",
              "3      male  30.0000      1      2    113781  151.5500          C22 C26   \n",
              "4    female  25.0000      1      2    113781  151.5500          C22 C26   \n",
              "10     male  47.0000      1      0  PC 17757  227.5250          C62 C64   \n",
              "11   female  18.0000      1      0  PC 17757  227.5250          C62 C64   \n",
              "16     male  24.0000      0      1  PC 17558  247.5208          B58 B60   \n",
              "17   female  50.0000      0      1  PC 17558  247.5208          B58 B60   \n",
              "23   female  42.0000      0      0  PC 17757  227.5250              NaN   \n",
              "24   female  29.0000      0      0  PC 17483  221.7792              C97   \n",
              "28   female  35.0000      0      0  PC 17760  135.6333              C99   \n",
              "32   female  30.0000      0      0     36928  164.8667               C7   \n",
              "35   female  45.0000      0      0  PC 17608  262.3750              NaN   \n",
              "44   female  41.0000      0      0     16966  134.5000              E40   \n",
              "49     male  36.0000      0      1  PC 17755  512.3292      B51 B53 B55   \n",
              "50   female  58.0000      0      1  PC 17755  512.3292      B51 B53 B55   \n",
              "54     male  11.0000      1      2    113760  120.0000          B96 B98   \n",
              "55   female  14.0000      1      2    113760  120.0000          B96 B98   \n",
              "56     male  36.0000      1      2    113760  120.0000          B96 B98   \n",
              "57   female  36.0000      1      2    113760  120.0000          B96 B98   \n",
              "66   female  36.0000      0      0  PC 17608  262.3750              B61   \n",
              "71     male  27.0000      1      0     13508  136.7792              C89   \n",
              "72   female  26.0000      1      0     13508  136.7792              C89   \n",
              "73   female  22.0000      0      0    113781  151.5500              NaN   \n",
              "88   female  33.0000      0      0    113781  151.5500              NaN   \n",
              "96     male  50.0000      1      0  PC 17761  106.4250              C86   \n",
              "97   female  27.0000      1      1  PC 17558  247.5208          B58 B60   \n",
              "98   female  48.0000      1      0  PC 17761  106.4250              C86   \n",
              "103  female  38.0000      0      0  PC 17757  227.5250              C45   \n",
              "..      ...      ...    ...    ...       ...       ...              ...   \n",
              "229  female  17.0000      1      0  PC 17758  108.9000              C65   \n",
              "236    male  22.0000      0      0  PC 17760  135.6333              NaN   \n",
              "237    male      NaN      0      0  PC 17757  227.5250              NaN   \n",
              "238  female  43.0000      0      1     24160  211.3375               B3   \n",
              "249    male  13.0000      2      2  PC 17608  262.3750  B57 B59 B63 B66   \n",
              "250  female  18.0000      2      2  PC 17608  262.3750  B57 B59 B63 B66   \n",
              "251  female  21.0000      2      2  PC 17608  262.3750  B57 B59 B63 B66   \n",
              "252    male  61.0000      1      3  PC 17608  262.3750  B57 B59 B63 B66   \n",
              "253  female  48.0000      1      3  PC 17608  262.3750  B57 B59 B63 B66   \n",
              "260  female  40.0000      0      0  PC 17582  153.4625             C125   \n",
              "273    male   6.0000      0      2     16966  134.5000              E34   \n",
              "274    male  45.0000      1      1     16966  134.5000              E34   \n",
              "275  female  40.0000      1      1     16966  134.5000              E34   \n",
              "276    male  57.0000      1      0  PC 17569  146.5208              B78   \n",
              "277  female      NaN      1      0  PC 17569  146.5208              B78   \n",
              "285    male  67.0000      1      0  PC 17483  221.7792          C55 C57   \n",
              "286  female  63.0000      1      0  PC 17483  221.7792          C55 C57   \n",
              "294    male  49.0000      1      1     17421  110.8833              C68   \n",
              "295    male  17.0000      0      2     17421  110.8833              C70   \n",
              "296  female  39.0000      1      1     17421  110.8833              C68   \n",
              "302  female  35.0000      0      0  PC 17755  512.3292              NaN   \n",
              "308  female  55.0000      0      0  PC 17760  135.6333              C32   \n",
              "309  female  31.0000      0      2     36928  164.8667               C7   \n",
              "310    male  57.0000      1      1     36928  164.8667              NaN   \n",
              "311  female  45.0000      1      1     36928  164.8667              NaN   \n",
              "312    male  50.0000      1      1    113503  211.5000              C80   \n",
              "313    male  27.0000      0      2    113503  211.5000              C82   \n",
              "314  female  50.0000      1      1    113503  211.5000              C80   \n",
              "319  female  31.0000      0      0     16966  134.5000          E39 E41   \n",
              "322  female  36.0000      0      0  PC 17760  135.6333              C32   \n",
              "\n",
              "    embarked boat   body                                       home.dest  \n",
              "0          S    2    NaN                                    St Louis, MO  \n",
              "1          S   11    NaN                 Montreal, PQ / Chesterville, ON  \n",
              "2          S  NaN    NaN                 Montreal, PQ / Chesterville, ON  \n",
              "3          S  NaN  135.0                 Montreal, PQ / Chesterville, ON  \n",
              "4          S  NaN    NaN                 Montreal, PQ / Chesterville, ON  \n",
              "10         C  NaN  124.0                                    New York, NY  \n",
              "11         C    4    NaN                                    New York, NY  \n",
              "16         C  NaN    NaN                                    Montreal, PQ  \n",
              "17         C    6    NaN                                    Montreal, PQ  \n",
              "23         C    4    NaN                                             NaN  \n",
              "24         S    8    NaN                                             NaN  \n",
              "28         S    8    NaN                                             NaN  \n",
              "32         S    8    NaN                                  Youngstown, OH  \n",
              "35         C    4    NaN                                 Cooperstown, NY  \n",
              "44         C    3    NaN                                             NaN  \n",
              "49         C    3    NaN  Austria-Hungary / Germantown, Philadelphia, PA  \n",
              "50         C    3    NaN                    Germantown, Philadelphia, PA  \n",
              "54         S    4    NaN                                   Bryn Mawr, PA  \n",
              "55         S    4    NaN                                   Bryn Mawr, PA  \n",
              "56         S    C    NaN                                   Bryn Mawr, PA  \n",
              "57         S    4    NaN                                   Bryn Mawr, PA  \n",
              "66         C    4    NaN                                             NaN  \n",
              "71         C  NaN    NaN                                 Los Angeles, CA  \n",
              "72         C    4    NaN                                 Los Angeles, CA  \n",
              "73         S   11    NaN                                             NaN  \n",
              "88         S    8    NaN                                             NaN  \n",
              "96         C  NaN   62.0                Deephaven, MN / Cedar Rapids, IA  \n",
              "97         C    6    NaN                                    Montreal, PQ  \n",
              "98         C    2    NaN                Deephaven, MN / Cedar Rapids, IA  \n",
              "103        C    4    NaN                                    New York, NY  \n",
              "..       ...  ...    ...                                             ...  \n",
              "229        C    8    NaN                                   Madrid, Spain  \n",
              "236        C  NaN  232.0                                             NaN  \n",
              "237        C  NaN    NaN                                             NaN  \n",
              "238        S    2    NaN                                    St Louis, MO  \n",
              "249        C    4    NaN                 Haverford, PA / Cooperstown, NY  \n",
              "250        C    4    NaN                 Haverford, PA / Cooperstown, NY  \n",
              "251        C    4    NaN                 Haverford, PA / Cooperstown, NY  \n",
              "252        C  NaN    NaN                 Haverford, PA / Cooperstown, NY  \n",
              "253        C    4    NaN                 Haverford, PA / Cooperstown, NY  \n",
              "260        S    3    NaN                     New York, NY / Greenwich CT  \n",
              "273        C    3    NaN                                 Tuxedo Park, NY  \n",
              "274        C    3    NaN                                 Tuxedo Park, NY  \n",
              "275        C    3    NaN                                 Tuxedo Park, NY  \n",
              "276        C  NaN    NaN                                   Paris, France  \n",
              "277        C    6    NaN                                   Paris, France  \n",
              "285        S  NaN   96.0                                    New York, NY  \n",
              "286        S  NaN    NaN                                    New York, NY  \n",
              "294        C  NaN    NaN                                   Haverford, PA  \n",
              "295        C    B    NaN                                   Haverford, PA  \n",
              "296        C    4    NaN                                   Haverford, PA  \n",
              "302        C    3    NaN                                             NaN  \n",
              "308        C    8    NaN              New York, NY / Briarcliff Manor NY  \n",
              "309        S    8    NaN                                  Youngstown, OH  \n",
              "310        S  NaN    NaN                                  Youngstown, OH  \n",
              "311        S    8    NaN                                  Youngstown, OH  \n",
              "312        C  NaN    NaN                                 Elkins Park, PA  \n",
              "313        C  NaN    NaN                                 Elkins Park, PA  \n",
              "314        C    4    NaN                                 Elkins Park, PA  \n",
              "319        C    3    NaN                                             NaN  \n",
              "322        C    8    NaN                   New York, NY / Washington, DC  \n",
              "\n",
              "[84 rows x 14 columns]"
            ]
          },
          "metadata": {
            "tags": []
          },
          "execution_count": 14
        }
      ]
    },
    {
      "metadata": {
        "id": "Y8Zh8dVSm-dZ",
        "colab_type": "text"
      },
      "cell_type": "markdown",
      "source": [
        "## $\\Delta$ Exercise 1 - Dinesafe Data\n",
        "\n",
        "https://www.toronto.ca/city-government/data-research-maps/open-data/open-data-catalogue/\n",
        "\n",
        "**Questions:**\n",
        "1. Read the trip data `data/dinesafe.csv`\n",
        "2. Show the last 10 rows\n",
        "3. Show the summary statistics\n",
        "4. Select columns \"latitude\" and \"longitude\" and rows 100 to 200\n",
        "5. Select age greater than 50"
      ]
    },
    {
      "metadata": {
        "id": "mMkwdMKvm-dd",
        "colab_type": "code",
        "colab": {}
      },
      "cell_type": "code",
      "source": [
        "########################\n",
        "# Your Code Below\n",
        "########################"
      ],
      "execution_count": 0,
      "outputs": []
    },
    {
      "metadata": {
        "id": "Fl_MfQ7am-do",
        "colab_type": "code",
        "colab": {}
      },
      "cell_type": "code",
      "source": [
        "dinesafe = pd.read_csv('https://raw.githubusercontent.com/vinnywcd/datasets/master/dinesafe.csv')"
      ],
      "execution_count": 0,
      "outputs": []
    },
    {
      "metadata": {
        "id": "CKlJuPV_m-d1",
        "colab_type": "code",
        "colab": {
          "base_uri": "https://localhost:8080/",
          "height": 600
        },
        "outputId": "812d1b98-c990-4349-a801-0832153cc88e"
      },
      "cell_type": "code",
      "source": [
        "dinesafe.tail(10)"
      ],
      "execution_count": 17,
      "outputs": [
        {
          "output_type": "execute_result",
          "data": {
            "text/html": [
              "<div>\n",
              "<style scoped>\n",
              "    .dataframe tbody tr th:only-of-type {\n",
              "        vertical-align: middle;\n",
              "    }\n",
              "\n",
              "    .dataframe tbody tr th {\n",
              "        vertical-align: top;\n",
              "    }\n",
              "\n",
              "    .dataframe thead th {\n",
              "        text-align: right;\n",
              "    }\n",
              "</style>\n",
              "<table border=\"1\" class=\"dataframe\">\n",
              "  <thead>\n",
              "    <tr style=\"text-align: right;\">\n",
              "      <th></th>\n",
              "      <th>ROW_ID</th>\n",
              "      <th>ESTABLISHMENT_ID</th>\n",
              "      <th>INSPECTION_ID</th>\n",
              "      <th>ESTABLISHMENT_NAME</th>\n",
              "      <th>ESTABLISHMENTTYPE</th>\n",
              "      <th>ESTABLISHMENT_ADDRESS</th>\n",
              "      <th>LATITUDE</th>\n",
              "      <th>LONGITUDE</th>\n",
              "      <th>ESTABLISHMENT_STATUS</th>\n",
              "      <th>MINIMUM_INSPECTIONS_PERYEAR</th>\n",
              "      <th>INFRACTION_DETAILS</th>\n",
              "      <th>INSPECTION_DATE</th>\n",
              "      <th>SEVERITY</th>\n",
              "      <th>ACTION</th>\n",
              "      <th>COURT_OUTCOME</th>\n",
              "      <th>AMOUNT_FINED</th>\n",
              "    </tr>\n",
              "  </thead>\n",
              "  <tbody>\n",
              "    <tr>\n",
              "      <th>90817</th>\n",
              "      <td>90818</td>\n",
              "      <td>10638000</td>\n",
              "      <td>104253744</td>\n",
              "      <td>Long Time No See</td>\n",
              "      <td>Restaurant</td>\n",
              "      <td>4035 GORDON BAKER RD</td>\n",
              "      <td>43.810665</td>\n",
              "      <td>-79.338168</td>\n",
              "      <td>Conditional Pass</td>\n",
              "      <td>3</td>\n",
              "      <td>Operator fail to properly maintain equipment</td>\n",
              "      <td>2018-06-21</td>\n",
              "      <td>S - Significant</td>\n",
              "      <td>Notice to Comply</td>\n",
              "      <td>NaN</td>\n",
              "      <td>NaN</td>\n",
              "    </tr>\n",
              "    <tr>\n",
              "      <th>90818</th>\n",
              "      <td>90819</td>\n",
              "      <td>10638000</td>\n",
              "      <td>104253744</td>\n",
              "      <td>Long Time No See</td>\n",
              "      <td>Restaurant</td>\n",
              "      <td>4035 GORDON BAKER RD</td>\n",
              "      <td>43.810665</td>\n",
              "      <td>-79.338168</td>\n",
              "      <td>Conditional Pass</td>\n",
              "      <td>3</td>\n",
              "      <td>Operator fail to provide required supplies at ...</td>\n",
              "      <td>2018-06-21</td>\n",
              "      <td>S - Significant</td>\n",
              "      <td>Notice to Comply</td>\n",
              "      <td>NaN</td>\n",
              "      <td>NaN</td>\n",
              "    </tr>\n",
              "    <tr>\n",
              "      <th>90819</th>\n",
              "      <td>90820</td>\n",
              "      <td>10638000</td>\n",
              "      <td>104253744</td>\n",
              "      <td>Long Time No See</td>\n",
              "      <td>Restaurant</td>\n",
              "      <td>4035 GORDON BAKER RD</td>\n",
              "      <td>43.810665</td>\n",
              "      <td>-79.338168</td>\n",
              "      <td>Conditional Pass</td>\n",
              "      <td>3</td>\n",
              "      <td>Operator fail to provide separate handwashing ...</td>\n",
              "      <td>2018-06-21</td>\n",
              "      <td>S - Significant</td>\n",
              "      <td>Notice to Comply</td>\n",
              "      <td>NaN</td>\n",
              "      <td>NaN</td>\n",
              "    </tr>\n",
              "    <tr>\n",
              "      <th>90820</th>\n",
              "      <td>90821</td>\n",
              "      <td>10638000</td>\n",
              "      <td>104253744</td>\n",
              "      <td>Long Time No See</td>\n",
              "      <td>Restaurant</td>\n",
              "      <td>4035 GORDON BAKER RD</td>\n",
              "      <td>43.810665</td>\n",
              "      <td>-79.338168</td>\n",
              "      <td>Conditional Pass</td>\n",
              "      <td>3</td>\n",
              "      <td>Operator fail to use proper procedure(s) to en...</td>\n",
              "      <td>2018-06-21</td>\n",
              "      <td>S - Significant</td>\n",
              "      <td>Notice to Comply</td>\n",
              "      <td>NaN</td>\n",
              "      <td>NaN</td>\n",
              "    </tr>\n",
              "    <tr>\n",
              "      <th>90821</th>\n",
              "      <td>90822</td>\n",
              "      <td>10638000</td>\n",
              "      <td>104253744</td>\n",
              "      <td>Long Time No See</td>\n",
              "      <td>Restaurant</td>\n",
              "      <td>4035 GORDON BAKER RD</td>\n",
              "      <td>43.810665</td>\n",
              "      <td>-79.338168</td>\n",
              "      <td>Conditional Pass</td>\n",
              "      <td>3</td>\n",
              "      <td>Operator fail to wash hands when required</td>\n",
              "      <td>2018-06-21</td>\n",
              "      <td>C - Crucial</td>\n",
              "      <td>Notice to Comply</td>\n",
              "      <td>NaN</td>\n",
              "      <td>NaN</td>\n",
              "    </tr>\n",
              "    <tr>\n",
              "      <th>90822</th>\n",
              "      <td>90823</td>\n",
              "      <td>10638000</td>\n",
              "      <td>104253762</td>\n",
              "      <td>Long Time No See</td>\n",
              "      <td>Restaurant</td>\n",
              "      <td>4035 GORDON BAKER RD</td>\n",
              "      <td>43.810665</td>\n",
              "      <td>-79.338168</td>\n",
              "      <td>Pass</td>\n",
              "      <td>3</td>\n",
              "      <td>NaN</td>\n",
              "      <td>2018-06-25</td>\n",
              "      <td>NaN</td>\n",
              "      <td>NaN</td>\n",
              "      <td>NaN</td>\n",
              "      <td>NaN</td>\n",
              "    </tr>\n",
              "    <tr>\n",
              "      <th>90823</th>\n",
              "      <td>90824</td>\n",
              "      <td>10638009</td>\n",
              "      <td>104253805</td>\n",
              "      <td>PURDY'S CHOCOLATIER</td>\n",
              "      <td>Food Take Out</td>\n",
              "      <td>1 DUNDAS ST W</td>\n",
              "      <td>43.656202</td>\n",
              "      <td>-79.380442</td>\n",
              "      <td>Pass</td>\n",
              "      <td>2</td>\n",
              "      <td>NaN</td>\n",
              "      <td>2018-06-29</td>\n",
              "      <td>NaN</td>\n",
              "      <td>NaN</td>\n",
              "      <td>NaN</td>\n",
              "      <td>NaN</td>\n",
              "    </tr>\n",
              "    <tr>\n",
              "      <th>90824</th>\n",
              "      <td>90825</td>\n",
              "      <td>10638015</td>\n",
              "      <td>104253869</td>\n",
              "      <td>TORMEX ANTOJOS DE JALISCO</td>\n",
              "      <td>Food Court Vendor</td>\n",
              "      <td>9 MILVAN DR</td>\n",
              "      <td>43.751254</td>\n",
              "      <td>-79.552024</td>\n",
              "      <td>Pass</td>\n",
              "      <td>3</td>\n",
              "      <td>FAIL TO PROVIDE SOAP OR DETERGENT IN FOOD PREP...</td>\n",
              "      <td>2018-06-29</td>\n",
              "      <td>S - Significant</td>\n",
              "      <td>Corrected During Inspection</td>\n",
              "      <td>NaN</td>\n",
              "      <td>NaN</td>\n",
              "    </tr>\n",
              "    <tr>\n",
              "      <th>90825</th>\n",
              "      <td>90826</td>\n",
              "      <td>10638015</td>\n",
              "      <td>104253869</td>\n",
              "      <td>TORMEX ANTOJOS DE JALISCO</td>\n",
              "      <td>Food Court Vendor</td>\n",
              "      <td>9 MILVAN DR</td>\n",
              "      <td>43.751254</td>\n",
              "      <td>-79.552024</td>\n",
              "      <td>Pass</td>\n",
              "      <td>3</td>\n",
              "      <td>FAIL TO PROVIDE TOWELS IN FOOD PREPARATION ARE...</td>\n",
              "      <td>2018-06-29</td>\n",
              "      <td>S - Significant</td>\n",
              "      <td>Corrected During Inspection</td>\n",
              "      <td>NaN</td>\n",
              "      <td>NaN</td>\n",
              "    </tr>\n",
              "    <tr>\n",
              "      <th>90826</th>\n",
              "      <td>90827</td>\n",
              "      <td>10638017</td>\n",
              "      <td>104253876</td>\n",
              "      <td>NOSH</td>\n",
              "      <td>Restaurant</td>\n",
              "      <td>258 DUPONT ST</td>\n",
              "      <td>43.674970</td>\n",
              "      <td>-79.406520</td>\n",
              "      <td>Pass</td>\n",
              "      <td>2</td>\n",
              "      <td>NaN</td>\n",
              "      <td>2018-06-29</td>\n",
              "      <td>NaN</td>\n",
              "      <td>NaN</td>\n",
              "      <td>NaN</td>\n",
              "      <td>NaN</td>\n",
              "    </tr>\n",
              "  </tbody>\n",
              "</table>\n",
              "</div>"
            ],
            "text/plain": [
              "       ROW_ID  ESTABLISHMENT_ID  INSPECTION_ID         ESTABLISHMENT_NAME  \\\n",
              "90817   90818          10638000      104253744           Long Time No See   \n",
              "90818   90819          10638000      104253744           Long Time No See   \n",
              "90819   90820          10638000      104253744           Long Time No See   \n",
              "90820   90821          10638000      104253744           Long Time No See   \n",
              "90821   90822          10638000      104253744           Long Time No See   \n",
              "90822   90823          10638000      104253762           Long Time No See   \n",
              "90823   90824          10638009      104253805        PURDY'S CHOCOLATIER   \n",
              "90824   90825          10638015      104253869  TORMEX ANTOJOS DE JALISCO   \n",
              "90825   90826          10638015      104253869  TORMEX ANTOJOS DE JALISCO   \n",
              "90826   90827          10638017      104253876                       NOSH   \n",
              "\n",
              "       ESTABLISHMENTTYPE ESTABLISHMENT_ADDRESS   LATITUDE  LONGITUDE  \\\n",
              "90817         Restaurant  4035 GORDON BAKER RD  43.810665 -79.338168   \n",
              "90818         Restaurant  4035 GORDON BAKER RD  43.810665 -79.338168   \n",
              "90819         Restaurant  4035 GORDON BAKER RD  43.810665 -79.338168   \n",
              "90820         Restaurant  4035 GORDON BAKER RD  43.810665 -79.338168   \n",
              "90821         Restaurant  4035 GORDON BAKER RD  43.810665 -79.338168   \n",
              "90822         Restaurant  4035 GORDON BAKER RD  43.810665 -79.338168   \n",
              "90823      Food Take Out         1 DUNDAS ST W  43.656202 -79.380442   \n",
              "90824  Food Court Vendor           9 MILVAN DR  43.751254 -79.552024   \n",
              "90825  Food Court Vendor           9 MILVAN DR  43.751254 -79.552024   \n",
              "90826         Restaurant         258 DUPONT ST  43.674970 -79.406520   \n",
              "\n",
              "      ESTABLISHMENT_STATUS  MINIMUM_INSPECTIONS_PERYEAR  \\\n",
              "90817     Conditional Pass                            3   \n",
              "90818     Conditional Pass                            3   \n",
              "90819     Conditional Pass                            3   \n",
              "90820     Conditional Pass                            3   \n",
              "90821     Conditional Pass                            3   \n",
              "90822                 Pass                            3   \n",
              "90823                 Pass                            2   \n",
              "90824                 Pass                            3   \n",
              "90825                 Pass                            3   \n",
              "90826                 Pass                            2   \n",
              "\n",
              "                                      INFRACTION_DETAILS INSPECTION_DATE  \\\n",
              "90817       Operator fail to properly maintain equipment      2018-06-21   \n",
              "90818  Operator fail to provide required supplies at ...      2018-06-21   \n",
              "90819  Operator fail to provide separate handwashing ...      2018-06-21   \n",
              "90820  Operator fail to use proper procedure(s) to en...      2018-06-21   \n",
              "90821          Operator fail to wash hands when required      2018-06-21   \n",
              "90822                                                NaN      2018-06-25   \n",
              "90823                                                NaN      2018-06-29   \n",
              "90824  FAIL TO PROVIDE SOAP OR DETERGENT IN FOOD PREP...      2018-06-29   \n",
              "90825  FAIL TO PROVIDE TOWELS IN FOOD PREPARATION ARE...      2018-06-29   \n",
              "90826                                                NaN      2018-06-29   \n",
              "\n",
              "              SEVERITY                       ACTION COURT_OUTCOME  \\\n",
              "90817  S - Significant             Notice to Comply           NaN   \n",
              "90818  S - Significant             Notice to Comply           NaN   \n",
              "90819  S - Significant             Notice to Comply           NaN   \n",
              "90820  S - Significant             Notice to Comply           NaN   \n",
              "90821      C - Crucial             Notice to Comply           NaN   \n",
              "90822              NaN                          NaN           NaN   \n",
              "90823              NaN                          NaN           NaN   \n",
              "90824  S - Significant  Corrected During Inspection           NaN   \n",
              "90825  S - Significant  Corrected During Inspection           NaN   \n",
              "90826              NaN                          NaN           NaN   \n",
              "\n",
              "       AMOUNT_FINED  \n",
              "90817           NaN  \n",
              "90818           NaN  \n",
              "90819           NaN  \n",
              "90820           NaN  \n",
              "90821           NaN  \n",
              "90822           NaN  \n",
              "90823           NaN  \n",
              "90824           NaN  \n",
              "90825           NaN  \n",
              "90826           NaN  "
            ]
          },
          "metadata": {
            "tags": []
          },
          "execution_count": 17
        }
      ]
    },
    {
      "metadata": {
        "scrolled": false,
        "id": "9XZHE-bum-eG",
        "colab_type": "code",
        "colab": {
          "base_uri": "https://localhost:8080/",
          "height": 297
        },
        "outputId": "cd80a237-93d7-479e-8400-1f85b20a4851"
      },
      "cell_type": "code",
      "source": [
        "dinesafe.describe()"
      ],
      "execution_count": 18,
      "outputs": [
        {
          "output_type": "execute_result",
          "data": {
            "text/html": [
              "<div>\n",
              "<style scoped>\n",
              "    .dataframe tbody tr th:only-of-type {\n",
              "        vertical-align: middle;\n",
              "    }\n",
              "\n",
              "    .dataframe tbody tr th {\n",
              "        vertical-align: top;\n",
              "    }\n",
              "\n",
              "    .dataframe thead th {\n",
              "        text-align: right;\n",
              "    }\n",
              "</style>\n",
              "<table border=\"1\" class=\"dataframe\">\n",
              "  <thead>\n",
              "    <tr style=\"text-align: right;\">\n",
              "      <th></th>\n",
              "      <th>ROW_ID</th>\n",
              "      <th>ESTABLISHMENT_ID</th>\n",
              "      <th>INSPECTION_ID</th>\n",
              "      <th>LATITUDE</th>\n",
              "      <th>LONGITUDE</th>\n",
              "      <th>MINIMUM_INSPECTIONS_PERYEAR</th>\n",
              "      <th>AMOUNT_FINED</th>\n",
              "    </tr>\n",
              "  </thead>\n",
              "  <tbody>\n",
              "    <tr>\n",
              "      <th>count</th>\n",
              "      <td>90827.000000</td>\n",
              "      <td>9.082700e+04</td>\n",
              "      <td>9.082700e+04</td>\n",
              "      <td>90827.000000</td>\n",
              "      <td>90827.000000</td>\n",
              "      <td>90827.000000</td>\n",
              "      <td>300.000000</td>\n",
              "    </tr>\n",
              "    <tr>\n",
              "      <th>mean</th>\n",
              "      <td>45414.000000</td>\n",
              "      <td>1.017519e+07</td>\n",
              "      <td>1.040131e+08</td>\n",
              "      <td>43.699399</td>\n",
              "      <td>-79.394800</td>\n",
              "      <td>2.333348</td>\n",
              "      <td>232.485000</td>\n",
              "    </tr>\n",
              "    <tr>\n",
              "      <th>std</th>\n",
              "      <td>26219.640787</td>\n",
              "      <td>5.908052e+05</td>\n",
              "      <td>1.393085e+05</td>\n",
              "      <td>0.054173</td>\n",
              "      <td>0.081586</td>\n",
              "      <td>0.629435</td>\n",
              "      <td>332.162315</td>\n",
              "    </tr>\n",
              "    <tr>\n",
              "      <th>min</th>\n",
              "      <td>1.000000</td>\n",
              "      <td>1.222579e+06</td>\n",
              "      <td>1.033519e+08</td>\n",
              "      <td>43.586770</td>\n",
              "      <td>-79.632725</td>\n",
              "      <td>1.000000</td>\n",
              "      <td>0.000000</td>\n",
              "    </tr>\n",
              "    <tr>\n",
              "      <th>25%</th>\n",
              "      <td>22707.500000</td>\n",
              "      <td>1.023976e+07</td>\n",
              "      <td>1.038977e+08</td>\n",
              "      <td>43.654918</td>\n",
              "      <td>-79.436725</td>\n",
              "      <td>2.000000</td>\n",
              "      <td>60.000000</td>\n",
              "    </tr>\n",
              "    <tr>\n",
              "      <th>50%</th>\n",
              "      <td>45414.000000</td>\n",
              "      <td>1.044512e+07</td>\n",
              "      <td>1.040198e+08</td>\n",
              "      <td>43.680551</td>\n",
              "      <td>-79.393287</td>\n",
              "      <td>2.000000</td>\n",
              "      <td>120.000000</td>\n",
              "    </tr>\n",
              "    <tr>\n",
              "      <th>75%</th>\n",
              "      <td>68120.500000</td>\n",
              "      <td>1.054800e+07</td>\n",
              "      <td>1.041312e+08</td>\n",
              "      <td>43.743666</td>\n",
              "      <td>-79.350568</td>\n",
              "      <td>3.000000</td>\n",
              "      <td>300.000000</td>\n",
              "    </tr>\n",
              "    <tr>\n",
              "      <th>max</th>\n",
              "      <td>90827.000000</td>\n",
              "      <td>1.063802e+07</td>\n",
              "      <td>1.042539e+08</td>\n",
              "      <td>43.839139</td>\n",
              "      <td>-79.130647</td>\n",
              "      <td>3.000000</td>\n",
              "      <td>2500.000000</td>\n",
              "    </tr>\n",
              "  </tbody>\n",
              "</table>\n",
              "</div>"
            ],
            "text/plain": [
              "             ROW_ID  ESTABLISHMENT_ID  INSPECTION_ID      LATITUDE  \\\n",
              "count  90827.000000      9.082700e+04   9.082700e+04  90827.000000   \n",
              "mean   45414.000000      1.017519e+07   1.040131e+08     43.699399   \n",
              "std    26219.640787      5.908052e+05   1.393085e+05      0.054173   \n",
              "min        1.000000      1.222579e+06   1.033519e+08     43.586770   \n",
              "25%    22707.500000      1.023976e+07   1.038977e+08     43.654918   \n",
              "50%    45414.000000      1.044512e+07   1.040198e+08     43.680551   \n",
              "75%    68120.500000      1.054800e+07   1.041312e+08     43.743666   \n",
              "max    90827.000000      1.063802e+07   1.042539e+08     43.839139   \n",
              "\n",
              "          LONGITUDE  MINIMUM_INSPECTIONS_PERYEAR  AMOUNT_FINED  \n",
              "count  90827.000000                 90827.000000    300.000000  \n",
              "mean     -79.394800                     2.333348    232.485000  \n",
              "std        0.081586                     0.629435    332.162315  \n",
              "min      -79.632725                     1.000000      0.000000  \n",
              "25%      -79.436725                     2.000000     60.000000  \n",
              "50%      -79.393287                     2.000000    120.000000  \n",
              "75%      -79.350568                     3.000000    300.000000  \n",
              "max      -79.130647                     3.000000   2500.000000  "
            ]
          },
          "metadata": {
            "tags": []
          },
          "execution_count": 18
        }
      ]
    },
    {
      "metadata": {
        "scrolled": true,
        "id": "MxrGw-fRm-eT",
        "colab_type": "code",
        "colab": {
          "base_uri": "https://localhost:8080/",
          "height": 1969
        },
        "outputId": "2ec3595e-e48b-4604-f244-d7f24dc43903"
      },
      "cell_type": "code",
      "source": [
        "dinesafe.loc[100:200, ['LATITUDE', 'LONGITUDE']]"
      ],
      "execution_count": 19,
      "outputs": [
        {
          "output_type": "execute_result",
          "data": {
            "text/html": [
              "<div>\n",
              "<style scoped>\n",
              "    .dataframe tbody tr th:only-of-type {\n",
              "        vertical-align: middle;\n",
              "    }\n",
              "\n",
              "    .dataframe tbody tr th {\n",
              "        vertical-align: top;\n",
              "    }\n",
              "\n",
              "    .dataframe thead th {\n",
              "        text-align: right;\n",
              "    }\n",
              "</style>\n",
              "<table border=\"1\" class=\"dataframe\">\n",
              "  <thead>\n",
              "    <tr style=\"text-align: right;\">\n",
              "      <th></th>\n",
              "      <th>LATITUDE</th>\n",
              "      <th>LONGITUDE</th>\n",
              "    </tr>\n",
              "  </thead>\n",
              "  <tbody>\n",
              "    <tr>\n",
              "      <th>100</th>\n",
              "      <td>43.809303</td>\n",
              "      <td>-79.290347</td>\n",
              "    </tr>\n",
              "    <tr>\n",
              "      <th>101</th>\n",
              "      <td>43.809303</td>\n",
              "      <td>-79.290347</td>\n",
              "    </tr>\n",
              "    <tr>\n",
              "      <th>102</th>\n",
              "      <td>43.809303</td>\n",
              "      <td>-79.290347</td>\n",
              "    </tr>\n",
              "    <tr>\n",
              "      <th>103</th>\n",
              "      <td>43.682348</td>\n",
              "      <td>-79.329700</td>\n",
              "    </tr>\n",
              "    <tr>\n",
              "      <th>104</th>\n",
              "      <td>43.625088</td>\n",
              "      <td>-79.561450</td>\n",
              "    </tr>\n",
              "    <tr>\n",
              "      <th>105</th>\n",
              "      <td>43.627964</td>\n",
              "      <td>-79.552304</td>\n",
              "    </tr>\n",
              "    <tr>\n",
              "      <th>106</th>\n",
              "      <td>43.632793</td>\n",
              "      <td>-79.554680</td>\n",
              "    </tr>\n",
              "    <tr>\n",
              "      <th>107</th>\n",
              "      <td>43.632793</td>\n",
              "      <td>-79.554680</td>\n",
              "    </tr>\n",
              "    <tr>\n",
              "      <th>108</th>\n",
              "      <td>43.632793</td>\n",
              "      <td>-79.554680</td>\n",
              "    </tr>\n",
              "    <tr>\n",
              "      <th>109</th>\n",
              "      <td>43.707158</td>\n",
              "      <td>-79.399084</td>\n",
              "    </tr>\n",
              "    <tr>\n",
              "      <th>110</th>\n",
              "      <td>43.707158</td>\n",
              "      <td>-79.399084</td>\n",
              "    </tr>\n",
              "    <tr>\n",
              "      <th>111</th>\n",
              "      <td>43.707158</td>\n",
              "      <td>-79.399084</td>\n",
              "    </tr>\n",
              "    <tr>\n",
              "      <th>112</th>\n",
              "      <td>43.707158</td>\n",
              "      <td>-79.399084</td>\n",
              "    </tr>\n",
              "    <tr>\n",
              "      <th>113</th>\n",
              "      <td>43.707158</td>\n",
              "      <td>-79.399084</td>\n",
              "    </tr>\n",
              "    <tr>\n",
              "      <th>114</th>\n",
              "      <td>43.707158</td>\n",
              "      <td>-79.399084</td>\n",
              "    </tr>\n",
              "    <tr>\n",
              "      <th>115</th>\n",
              "      <td>43.707158</td>\n",
              "      <td>-79.399084</td>\n",
              "    </tr>\n",
              "    <tr>\n",
              "      <th>116</th>\n",
              "      <td>43.707158</td>\n",
              "      <td>-79.399084</td>\n",
              "    </tr>\n",
              "    <tr>\n",
              "      <th>117</th>\n",
              "      <td>43.707158</td>\n",
              "      <td>-79.399084</td>\n",
              "    </tr>\n",
              "    <tr>\n",
              "      <th>118</th>\n",
              "      <td>43.707158</td>\n",
              "      <td>-79.399084</td>\n",
              "    </tr>\n",
              "    <tr>\n",
              "      <th>119</th>\n",
              "      <td>43.707158</td>\n",
              "      <td>-79.399084</td>\n",
              "    </tr>\n",
              "    <tr>\n",
              "      <th>120</th>\n",
              "      <td>43.707158</td>\n",
              "      <td>-79.399084</td>\n",
              "    </tr>\n",
              "    <tr>\n",
              "      <th>121</th>\n",
              "      <td>43.707158</td>\n",
              "      <td>-79.399084</td>\n",
              "    </tr>\n",
              "    <tr>\n",
              "      <th>122</th>\n",
              "      <td>43.707158</td>\n",
              "      <td>-79.399084</td>\n",
              "    </tr>\n",
              "    <tr>\n",
              "      <th>123</th>\n",
              "      <td>43.707158</td>\n",
              "      <td>-79.399084</td>\n",
              "    </tr>\n",
              "    <tr>\n",
              "      <th>124</th>\n",
              "      <td>43.659347</td>\n",
              "      <td>-79.485018</td>\n",
              "    </tr>\n",
              "    <tr>\n",
              "      <th>125</th>\n",
              "      <td>43.677851</td>\n",
              "      <td>-79.444777</td>\n",
              "    </tr>\n",
              "    <tr>\n",
              "      <th>126</th>\n",
              "      <td>43.677851</td>\n",
              "      <td>-79.444777</td>\n",
              "    </tr>\n",
              "    <tr>\n",
              "      <th>127</th>\n",
              "      <td>43.677851</td>\n",
              "      <td>-79.444777</td>\n",
              "    </tr>\n",
              "    <tr>\n",
              "      <th>128</th>\n",
              "      <td>43.677851</td>\n",
              "      <td>-79.444777</td>\n",
              "    </tr>\n",
              "    <tr>\n",
              "      <th>129</th>\n",
              "      <td>43.677851</td>\n",
              "      <td>-79.444777</td>\n",
              "    </tr>\n",
              "    <tr>\n",
              "      <th>...</th>\n",
              "      <td>...</td>\n",
              "      <td>...</td>\n",
              "    </tr>\n",
              "    <tr>\n",
              "      <th>171</th>\n",
              "      <td>43.703263</td>\n",
              "      <td>-79.441030</td>\n",
              "    </tr>\n",
              "    <tr>\n",
              "      <th>172</th>\n",
              "      <td>43.703263</td>\n",
              "      <td>-79.441030</td>\n",
              "    </tr>\n",
              "    <tr>\n",
              "      <th>173</th>\n",
              "      <td>43.703263</td>\n",
              "      <td>-79.441030</td>\n",
              "    </tr>\n",
              "    <tr>\n",
              "      <th>174</th>\n",
              "      <td>43.703263</td>\n",
              "      <td>-79.441030</td>\n",
              "    </tr>\n",
              "    <tr>\n",
              "      <th>175</th>\n",
              "      <td>43.703263</td>\n",
              "      <td>-79.441030</td>\n",
              "    </tr>\n",
              "    <tr>\n",
              "      <th>176</th>\n",
              "      <td>43.703263</td>\n",
              "      <td>-79.441030</td>\n",
              "    </tr>\n",
              "    <tr>\n",
              "      <th>177</th>\n",
              "      <td>43.703688</td>\n",
              "      <td>-79.548888</td>\n",
              "    </tr>\n",
              "    <tr>\n",
              "      <th>178</th>\n",
              "      <td>43.705903</td>\n",
              "      <td>-79.469975</td>\n",
              "    </tr>\n",
              "    <tr>\n",
              "      <th>179</th>\n",
              "      <td>43.705903</td>\n",
              "      <td>-79.469975</td>\n",
              "    </tr>\n",
              "    <tr>\n",
              "      <th>180</th>\n",
              "      <td>43.697045</td>\n",
              "      <td>-79.462873</td>\n",
              "    </tr>\n",
              "    <tr>\n",
              "      <th>181</th>\n",
              "      <td>43.697045</td>\n",
              "      <td>-79.462873</td>\n",
              "    </tr>\n",
              "    <tr>\n",
              "      <th>182</th>\n",
              "      <td>43.738554</td>\n",
              "      <td>-79.431225</td>\n",
              "    </tr>\n",
              "    <tr>\n",
              "      <th>183</th>\n",
              "      <td>43.738554</td>\n",
              "      <td>-79.431225</td>\n",
              "    </tr>\n",
              "    <tr>\n",
              "      <th>184</th>\n",
              "      <td>43.738554</td>\n",
              "      <td>-79.431225</td>\n",
              "    </tr>\n",
              "    <tr>\n",
              "      <th>185</th>\n",
              "      <td>43.738554</td>\n",
              "      <td>-79.431225</td>\n",
              "    </tr>\n",
              "    <tr>\n",
              "      <th>186</th>\n",
              "      <td>43.738554</td>\n",
              "      <td>-79.431225</td>\n",
              "    </tr>\n",
              "    <tr>\n",
              "      <th>187</th>\n",
              "      <td>43.738554</td>\n",
              "      <td>-79.431225</td>\n",
              "    </tr>\n",
              "    <tr>\n",
              "      <th>188</th>\n",
              "      <td>43.738554</td>\n",
              "      <td>-79.431225</td>\n",
              "    </tr>\n",
              "    <tr>\n",
              "      <th>189</th>\n",
              "      <td>43.657333</td>\n",
              "      <td>-79.383271</td>\n",
              "    </tr>\n",
              "    <tr>\n",
              "      <th>190</th>\n",
              "      <td>43.657333</td>\n",
              "      <td>-79.383271</td>\n",
              "    </tr>\n",
              "    <tr>\n",
              "      <th>191</th>\n",
              "      <td>43.657333</td>\n",
              "      <td>-79.383271</td>\n",
              "    </tr>\n",
              "    <tr>\n",
              "      <th>192</th>\n",
              "      <td>43.657333</td>\n",
              "      <td>-79.383271</td>\n",
              "    </tr>\n",
              "    <tr>\n",
              "      <th>193</th>\n",
              "      <td>43.657333</td>\n",
              "      <td>-79.383271</td>\n",
              "    </tr>\n",
              "    <tr>\n",
              "      <th>194</th>\n",
              "      <td>43.657333</td>\n",
              "      <td>-79.383271</td>\n",
              "    </tr>\n",
              "    <tr>\n",
              "      <th>195</th>\n",
              "      <td>43.657333</td>\n",
              "      <td>-79.383271</td>\n",
              "    </tr>\n",
              "    <tr>\n",
              "      <th>196</th>\n",
              "      <td>43.657333</td>\n",
              "      <td>-79.383271</td>\n",
              "    </tr>\n",
              "    <tr>\n",
              "      <th>197</th>\n",
              "      <td>43.657333</td>\n",
              "      <td>-79.383271</td>\n",
              "    </tr>\n",
              "    <tr>\n",
              "      <th>198</th>\n",
              "      <td>43.657333</td>\n",
              "      <td>-79.383271</td>\n",
              "    </tr>\n",
              "    <tr>\n",
              "      <th>199</th>\n",
              "      <td>43.657333</td>\n",
              "      <td>-79.383271</td>\n",
              "    </tr>\n",
              "    <tr>\n",
              "      <th>200</th>\n",
              "      <td>43.657333</td>\n",
              "      <td>-79.383271</td>\n",
              "    </tr>\n",
              "  </tbody>\n",
              "</table>\n",
              "<p>101 rows × 2 columns</p>\n",
              "</div>"
            ],
            "text/plain": [
              "      LATITUDE  LONGITUDE\n",
              "100  43.809303 -79.290347\n",
              "101  43.809303 -79.290347\n",
              "102  43.809303 -79.290347\n",
              "103  43.682348 -79.329700\n",
              "104  43.625088 -79.561450\n",
              "105  43.627964 -79.552304\n",
              "106  43.632793 -79.554680\n",
              "107  43.632793 -79.554680\n",
              "108  43.632793 -79.554680\n",
              "109  43.707158 -79.399084\n",
              "110  43.707158 -79.399084\n",
              "111  43.707158 -79.399084\n",
              "112  43.707158 -79.399084\n",
              "113  43.707158 -79.399084\n",
              "114  43.707158 -79.399084\n",
              "115  43.707158 -79.399084\n",
              "116  43.707158 -79.399084\n",
              "117  43.707158 -79.399084\n",
              "118  43.707158 -79.399084\n",
              "119  43.707158 -79.399084\n",
              "120  43.707158 -79.399084\n",
              "121  43.707158 -79.399084\n",
              "122  43.707158 -79.399084\n",
              "123  43.707158 -79.399084\n",
              "124  43.659347 -79.485018\n",
              "125  43.677851 -79.444777\n",
              "126  43.677851 -79.444777\n",
              "127  43.677851 -79.444777\n",
              "128  43.677851 -79.444777\n",
              "129  43.677851 -79.444777\n",
              "..         ...        ...\n",
              "171  43.703263 -79.441030\n",
              "172  43.703263 -79.441030\n",
              "173  43.703263 -79.441030\n",
              "174  43.703263 -79.441030\n",
              "175  43.703263 -79.441030\n",
              "176  43.703263 -79.441030\n",
              "177  43.703688 -79.548888\n",
              "178  43.705903 -79.469975\n",
              "179  43.705903 -79.469975\n",
              "180  43.697045 -79.462873\n",
              "181  43.697045 -79.462873\n",
              "182  43.738554 -79.431225\n",
              "183  43.738554 -79.431225\n",
              "184  43.738554 -79.431225\n",
              "185  43.738554 -79.431225\n",
              "186  43.738554 -79.431225\n",
              "187  43.738554 -79.431225\n",
              "188  43.738554 -79.431225\n",
              "189  43.657333 -79.383271\n",
              "190  43.657333 -79.383271\n",
              "191  43.657333 -79.383271\n",
              "192  43.657333 -79.383271\n",
              "193  43.657333 -79.383271\n",
              "194  43.657333 -79.383271\n",
              "195  43.657333 -79.383271\n",
              "196  43.657333 -79.383271\n",
              "197  43.657333 -79.383271\n",
              "198  43.657333 -79.383271\n",
              "199  43.657333 -79.383271\n",
              "200  43.657333 -79.383271\n",
              "\n",
              "[101 rows x 2 columns]"
            ]
          },
          "metadata": {
            "tags": []
          },
          "execution_count": 19
        }
      ]
    },
    {
      "metadata": {
        "id": "8wILetRmm-eo",
        "colab_type": "text"
      },
      "cell_type": "markdown",
      "source": [
        "# $\\Omega$ Transforming Data"
      ]
    },
    {
      "metadata": {
        "id": "dc81LHe1m-es",
        "colab_type": "text"
      },
      "cell_type": "markdown",
      "source": [
        "### Calculate ticket price in today's dollar\n",
        "According to the Bureau of Labor Statistics consumer price index, prices in 2018 are 2,669.00% higher than prices in 1909. The dollar experienced an average inflation rate of 3.09% per year."
      ]
    },
    {
      "metadata": {
        "id": "DdD8rA-Em-eu",
        "colab_type": "code",
        "colab": {
          "base_uri": "https://localhost:8080/",
          "height": 1071
        },
        "outputId": "2bd74c06-661e-4b12-8c74-85711e82237c"
      },
      "cell_type": "code",
      "source": [
        "titanic['fare'] * 26.69"
      ],
      "execution_count": 20,
      "outputs": [
        {
          "output_type": "execute_result",
          "data": {
            "text/plain": [
              "0       5640.597875\n",
              "1       4044.869500\n",
              "2       4044.869500\n",
              "3       4044.869500\n",
              "4       4044.869500\n",
              "5        708.619500\n",
              "6       2080.707027\n",
              "7          0.000000\n",
              "8       1373.979848\n",
              "9       1321.267098\n",
              "10      6072.642250\n",
              "11      6072.642250\n",
              "12      1849.617000\n",
              "13      2104.506500\n",
              "14       800.700000\n",
              "15       691.938250\n",
              "16      6606.330152\n",
              "17      6606.330152\n",
              "18      2036.225473\n",
              "19      2008.200973\n",
              "20      1402.671598\n",
              "21      1402.671598\n",
              "22       800.700000\n",
              "23      6072.642250\n",
              "24      5919.286848\n",
              "25       693.940000\n",
              "26      2430.903848\n",
              "27      2430.903848\n",
              "28      3620.052777\n",
              "29       708.619500\n",
              "           ...     \n",
              "1278     209.628598\n",
              "1279     210.738902\n",
              "1280     240.210000\n",
              "1281     214.854500\n",
              "1282     201.509500\n",
              "1283     214.854500\n",
              "1284     253.555000\n",
              "1285     192.947348\n",
              "1286     206.847500\n",
              "1287     173.372902\n",
              "1288     173.372902\n",
              "1289     186.830000\n",
              "1290     232.536625\n",
              "1291     201.509500\n",
              "1292     214.854500\n",
              "1293     429.709000\n",
              "1294     193.502500\n",
              "1295     231.202125\n",
              "1296     193.502500\n",
              "1297     253.555000\n",
              "1298     385.782598\n",
              "1299     385.782598\n",
              "1300     192.835250\n",
              "1301     192.835250\n",
              "1302     385.892027\n",
              "1303     385.782598\n",
              "1304     385.782598\n",
              "1305     192.835250\n",
              "1306     192.835250\n",
              "1307     210.183750\n",
              "Name: fare, Length: 1308, dtype: float64"
            ]
          },
          "metadata": {
            "tags": []
          },
          "execution_count": 20
        }
      ]
    },
    {
      "metadata": {
        "id": "RtKD5FC6m-e7",
        "colab_type": "code",
        "colab": {
          "base_uri": "https://localhost:8080/",
          "height": 1071
        },
        "outputId": "52fa993e-2e91-46bb-ff85-9e9795def113"
      },
      "cell_type": "code",
      "source": [
        "(titanic['fare'] * 26.69).round(2)"
      ],
      "execution_count": 21,
      "outputs": [
        {
          "output_type": "execute_result",
          "data": {
            "text/plain": [
              "0       5640.60\n",
              "1       4044.87\n",
              "2       4044.87\n",
              "3       4044.87\n",
              "4       4044.87\n",
              "5        708.62\n",
              "6       2080.71\n",
              "7          0.00\n",
              "8       1373.98\n",
              "9       1321.27\n",
              "10      6072.64\n",
              "11      6072.64\n",
              "12      1849.62\n",
              "13      2104.51\n",
              "14       800.70\n",
              "15       691.94\n",
              "16      6606.33\n",
              "17      6606.33\n",
              "18      2036.23\n",
              "19      2008.20\n",
              "20      1402.67\n",
              "21      1402.67\n",
              "22       800.70\n",
              "23      6072.64\n",
              "24      5919.29\n",
              "25       693.94\n",
              "26      2430.90\n",
              "27      2430.90\n",
              "28      3620.05\n",
              "29       708.62\n",
              "         ...   \n",
              "1278     209.63\n",
              "1279     210.74\n",
              "1280     240.21\n",
              "1281     214.85\n",
              "1282     201.51\n",
              "1283     214.85\n",
              "1284     253.56\n",
              "1285     192.95\n",
              "1286     206.85\n",
              "1287     173.37\n",
              "1288     173.37\n",
              "1289     186.83\n",
              "1290     232.54\n",
              "1291     201.51\n",
              "1292     214.85\n",
              "1293     429.71\n",
              "1294     193.50\n",
              "1295     231.20\n",
              "1296     193.50\n",
              "1297     253.56\n",
              "1298     385.78\n",
              "1299     385.78\n",
              "1300     192.84\n",
              "1301     192.84\n",
              "1302     385.89\n",
              "1303     385.78\n",
              "1304     385.78\n",
              "1305     192.84\n",
              "1306     192.84\n",
              "1307     210.18\n",
              "Name: fare, Length: 1308, dtype: float64"
            ]
          },
          "metadata": {
            "tags": []
          },
          "execution_count": 21
        }
      ]
    },
    {
      "metadata": {
        "id": "FzcI_qA5m-fI",
        "colab_type": "text"
      },
      "cell_type": "markdown",
      "source": [
        "### Add new column"
      ]
    },
    {
      "metadata": {
        "id": "owDatp9Am-fK",
        "colab_type": "code",
        "colab": {}
      },
      "cell_type": "code",
      "source": [
        "titanic['fare_2018'] = (titanic['fare'] * 26.69).round(2)"
      ],
      "execution_count": 0,
      "outputs": []
    },
    {
      "metadata": {
        "id": "iNplbigKm-fS",
        "colab_type": "code",
        "colab": {
          "base_uri": "https://localhost:8080/",
          "height": 272
        },
        "outputId": "6ca00579-09b2-4881-fc5a-fd182507eb27"
      },
      "cell_type": "code",
      "source": [
        "titanic.head()"
      ],
      "execution_count": 23,
      "outputs": [
        {
          "output_type": "execute_result",
          "data": {
            "text/html": [
              "<div>\n",
              "<style scoped>\n",
              "    .dataframe tbody tr th:only-of-type {\n",
              "        vertical-align: middle;\n",
              "    }\n",
              "\n",
              "    .dataframe tbody tr th {\n",
              "        vertical-align: top;\n",
              "    }\n",
              "\n",
              "    .dataframe thead th {\n",
              "        text-align: right;\n",
              "    }\n",
              "</style>\n",
              "<table border=\"1\" class=\"dataframe\">\n",
              "  <thead>\n",
              "    <tr style=\"text-align: right;\">\n",
              "      <th></th>\n",
              "      <th>pclass</th>\n",
              "      <th>survived</th>\n",
              "      <th>name</th>\n",
              "      <th>sex</th>\n",
              "      <th>age</th>\n",
              "      <th>sibsp</th>\n",
              "      <th>parch</th>\n",
              "      <th>ticket</th>\n",
              "      <th>fare</th>\n",
              "      <th>cabin</th>\n",
              "      <th>embarked</th>\n",
              "      <th>boat</th>\n",
              "      <th>body</th>\n",
              "      <th>home.dest</th>\n",
              "      <th>fare_2018</th>\n",
              "    </tr>\n",
              "  </thead>\n",
              "  <tbody>\n",
              "    <tr>\n",
              "      <th>0</th>\n",
              "      <td>1</td>\n",
              "      <td>1</td>\n",
              "      <td>Allen, Miss. Elisabeth Walton</td>\n",
              "      <td>female</td>\n",
              "      <td>29.0000</td>\n",
              "      <td>0</td>\n",
              "      <td>0</td>\n",
              "      <td>24160</td>\n",
              "      <td>211.3375</td>\n",
              "      <td>B5</td>\n",
              "      <td>S</td>\n",
              "      <td>2</td>\n",
              "      <td>NaN</td>\n",
              "      <td>St Louis, MO</td>\n",
              "      <td>5640.60</td>\n",
              "    </tr>\n",
              "    <tr>\n",
              "      <th>1</th>\n",
              "      <td>1</td>\n",
              "      <td>1</td>\n",
              "      <td>Allison, Master. Hudson Trevor</td>\n",
              "      <td>male</td>\n",
              "      <td>0.9167</td>\n",
              "      <td>1</td>\n",
              "      <td>2</td>\n",
              "      <td>113781</td>\n",
              "      <td>151.5500</td>\n",
              "      <td>C22 C26</td>\n",
              "      <td>S</td>\n",
              "      <td>11</td>\n",
              "      <td>NaN</td>\n",
              "      <td>Montreal, PQ / Chesterville, ON</td>\n",
              "      <td>4044.87</td>\n",
              "    </tr>\n",
              "    <tr>\n",
              "      <th>2</th>\n",
              "      <td>1</td>\n",
              "      <td>0</td>\n",
              "      <td>Allison, Miss. Helen Loraine</td>\n",
              "      <td>female</td>\n",
              "      <td>2.0000</td>\n",
              "      <td>1</td>\n",
              "      <td>2</td>\n",
              "      <td>113781</td>\n",
              "      <td>151.5500</td>\n",
              "      <td>C22 C26</td>\n",
              "      <td>S</td>\n",
              "      <td>NaN</td>\n",
              "      <td>NaN</td>\n",
              "      <td>Montreal, PQ / Chesterville, ON</td>\n",
              "      <td>4044.87</td>\n",
              "    </tr>\n",
              "    <tr>\n",
              "      <th>3</th>\n",
              "      <td>1</td>\n",
              "      <td>0</td>\n",
              "      <td>Allison, Mr. Hudson Joshua Creighton</td>\n",
              "      <td>male</td>\n",
              "      <td>30.0000</td>\n",
              "      <td>1</td>\n",
              "      <td>2</td>\n",
              "      <td>113781</td>\n",
              "      <td>151.5500</td>\n",
              "      <td>C22 C26</td>\n",
              "      <td>S</td>\n",
              "      <td>NaN</td>\n",
              "      <td>135.0</td>\n",
              "      <td>Montreal, PQ / Chesterville, ON</td>\n",
              "      <td>4044.87</td>\n",
              "    </tr>\n",
              "    <tr>\n",
              "      <th>4</th>\n",
              "      <td>1</td>\n",
              "      <td>0</td>\n",
              "      <td>Allison, Mrs. Hudson J C (Bessie Waldo Daniels)</td>\n",
              "      <td>female</td>\n",
              "      <td>25.0000</td>\n",
              "      <td>1</td>\n",
              "      <td>2</td>\n",
              "      <td>113781</td>\n",
              "      <td>151.5500</td>\n",
              "      <td>C22 C26</td>\n",
              "      <td>S</td>\n",
              "      <td>NaN</td>\n",
              "      <td>NaN</td>\n",
              "      <td>Montreal, PQ / Chesterville, ON</td>\n",
              "      <td>4044.87</td>\n",
              "    </tr>\n",
              "  </tbody>\n",
              "</table>\n",
              "</div>"
            ],
            "text/plain": [
              "   pclass  survived                                             name     sex  \\\n",
              "0       1         1                    Allen, Miss. Elisabeth Walton  female   \n",
              "1       1         1                   Allison, Master. Hudson Trevor    male   \n",
              "2       1         0                     Allison, Miss. Helen Loraine  female   \n",
              "3       1         0             Allison, Mr. Hudson Joshua Creighton    male   \n",
              "4       1         0  Allison, Mrs. Hudson J C (Bessie Waldo Daniels)  female   \n",
              "\n",
              "       age  sibsp  parch  ticket      fare    cabin embarked boat   body  \\\n",
              "0  29.0000      0      0   24160  211.3375       B5        S    2    NaN   \n",
              "1   0.9167      1      2  113781  151.5500  C22 C26        S   11    NaN   \n",
              "2   2.0000      1      2  113781  151.5500  C22 C26        S  NaN    NaN   \n",
              "3  30.0000      1      2  113781  151.5500  C22 C26        S  NaN  135.0   \n",
              "4  25.0000      1      2  113781  151.5500  C22 C26        S  NaN    NaN   \n",
              "\n",
              "                         home.dest  fare_2018  \n",
              "0                     St Louis, MO    5640.60  \n",
              "1  Montreal, PQ / Chesterville, ON    4044.87  \n",
              "2  Montreal, PQ / Chesterville, ON    4044.87  \n",
              "3  Montreal, PQ / Chesterville, ON    4044.87  \n",
              "4  Montreal, PQ / Chesterville, ON    4044.87  "
            ]
          },
          "metadata": {
            "tags": []
          },
          "execution_count": 23
        }
      ]
    },
    {
      "metadata": {
        "id": "721VtME3m-fd",
        "colab_type": "text"
      },
      "cell_type": "markdown",
      "source": [
        "### Count missing values"
      ]
    },
    {
      "metadata": {
        "id": "NZ9ddO3Lm-ff",
        "colab_type": "code",
        "colab": {
          "base_uri": "https://localhost:8080/",
          "height": 34
        },
        "outputId": "8cfca186-64b0-48c9-a229-ad40f4fdcc75"
      },
      "cell_type": "code",
      "source": [
        "titanic['age'].isnull().sum()"
      ],
      "execution_count": 24,
      "outputs": [
        {
          "output_type": "execute_result",
          "data": {
            "text/plain": [
              "263"
            ]
          },
          "metadata": {
            "tags": []
          },
          "execution_count": 24
        }
      ]
    },
    {
      "metadata": {
        "id": "MmhPqJkDm-fs",
        "colab_type": "text"
      },
      "cell_type": "markdown",
      "source": [
        "### Calculate mean"
      ]
    },
    {
      "metadata": {
        "id": "JeWaSNI-m-f3",
        "colab_type": "code",
        "colab": {}
      },
      "cell_type": "code",
      "source": [
        "mean_age = titanic['age'].mean()"
      ],
      "execution_count": 0,
      "outputs": []
    },
    {
      "metadata": {
        "id": "eFCeQgPCm-gA",
        "colab_type": "text"
      },
      "cell_type": "markdown",
      "source": [
        "### Fill missing values"
      ]
    },
    {
      "metadata": {
        "id": "ty_6C5scm-gV",
        "colab_type": "code",
        "colab": {
          "base_uri": "https://localhost:8080/",
          "height": 1071
        },
        "outputId": "89424dc9-bfa5-4819-dec4-52fd5fa6d3e2"
      },
      "cell_type": "code",
      "source": [
        "titanic['age'].fillna(mean_age)"
      ],
      "execution_count": 26,
      "outputs": [
        {
          "output_type": "execute_result",
          "data": {
            "text/plain": [
              "0       29.000000\n",
              "1        0.916700\n",
              "2        2.000000\n",
              "3       30.000000\n",
              "4       25.000000\n",
              "5       48.000000\n",
              "6       63.000000\n",
              "7       39.000000\n",
              "8       53.000000\n",
              "9       71.000000\n",
              "10      47.000000\n",
              "11      18.000000\n",
              "12      24.000000\n",
              "13      26.000000\n",
              "14      80.000000\n",
              "15      29.851834\n",
              "16      24.000000\n",
              "17      50.000000\n",
              "18      32.000000\n",
              "19      36.000000\n",
              "20      37.000000\n",
              "21      47.000000\n",
              "22      26.000000\n",
              "23      42.000000\n",
              "24      29.000000\n",
              "25      25.000000\n",
              "26      25.000000\n",
              "27      19.000000\n",
              "28      35.000000\n",
              "29      28.000000\n",
              "          ...    \n",
              "1278    14.000000\n",
              "1279    22.000000\n",
              "1280    22.000000\n",
              "1281    29.851834\n",
              "1282    29.851834\n",
              "1283    29.851834\n",
              "1284    32.500000\n",
              "1285    38.000000\n",
              "1286    51.000000\n",
              "1287    18.000000\n",
              "1288    21.000000\n",
              "1289    47.000000\n",
              "1290    29.851834\n",
              "1291    29.851834\n",
              "1292    29.851834\n",
              "1293    28.500000\n",
              "1294    21.000000\n",
              "1295    27.000000\n",
              "1296    29.851834\n",
              "1297    36.000000\n",
              "1298    27.000000\n",
              "1299    15.000000\n",
              "1300    45.500000\n",
              "1301    29.851834\n",
              "1302    29.851834\n",
              "1303    14.500000\n",
              "1304    29.851834\n",
              "1305    26.500000\n",
              "1306    27.000000\n",
              "1307    29.000000\n",
              "Name: age, Length: 1308, dtype: float64"
            ]
          },
          "metadata": {
            "tags": []
          },
          "execution_count": 26
        }
      ]
    },
    {
      "metadata": {
        "id": "Lyuquz-Em-gl",
        "colab_type": "code",
        "colab": {
          "base_uri": "https://localhost:8080/",
          "height": 34
        },
        "outputId": "b9a55dde-7221-4fb9-b73f-dcaf030294c7"
      },
      "cell_type": "code",
      "source": [
        "titanic['age'].isnull().sum()"
      ],
      "execution_count": 27,
      "outputs": [
        {
          "output_type": "execute_result",
          "data": {
            "text/plain": [
              "263"
            ]
          },
          "metadata": {
            "tags": []
          },
          "execution_count": 27
        }
      ]
    },
    {
      "metadata": {
        "id": "Nenh6AKWm-g5",
        "colab_type": "code",
        "colab": {}
      },
      "cell_type": "code",
      "source": [
        "titanic['age'] = titanic['age'].fillna(mean_age).round(0).astype(int)"
      ],
      "execution_count": 0,
      "outputs": []
    },
    {
      "metadata": {
        "scrolled": false,
        "id": "9Ri_9LSAm-hF",
        "colab_type": "code",
        "colab": {
          "base_uri": "https://localhost:8080/",
          "height": 272
        },
        "outputId": "e6c10a43-3745-407c-a955-0b69b1fd920a"
      },
      "cell_type": "code",
      "source": [
        "titanic.head()"
      ],
      "execution_count": 29,
      "outputs": [
        {
          "output_type": "execute_result",
          "data": {
            "text/html": [
              "<div>\n",
              "<style scoped>\n",
              "    .dataframe tbody tr th:only-of-type {\n",
              "        vertical-align: middle;\n",
              "    }\n",
              "\n",
              "    .dataframe tbody tr th {\n",
              "        vertical-align: top;\n",
              "    }\n",
              "\n",
              "    .dataframe thead th {\n",
              "        text-align: right;\n",
              "    }\n",
              "</style>\n",
              "<table border=\"1\" class=\"dataframe\">\n",
              "  <thead>\n",
              "    <tr style=\"text-align: right;\">\n",
              "      <th></th>\n",
              "      <th>pclass</th>\n",
              "      <th>survived</th>\n",
              "      <th>name</th>\n",
              "      <th>sex</th>\n",
              "      <th>age</th>\n",
              "      <th>sibsp</th>\n",
              "      <th>parch</th>\n",
              "      <th>ticket</th>\n",
              "      <th>fare</th>\n",
              "      <th>cabin</th>\n",
              "      <th>embarked</th>\n",
              "      <th>boat</th>\n",
              "      <th>body</th>\n",
              "      <th>home.dest</th>\n",
              "      <th>fare_2018</th>\n",
              "    </tr>\n",
              "  </thead>\n",
              "  <tbody>\n",
              "    <tr>\n",
              "      <th>0</th>\n",
              "      <td>1</td>\n",
              "      <td>1</td>\n",
              "      <td>Allen, Miss. Elisabeth Walton</td>\n",
              "      <td>female</td>\n",
              "      <td>29</td>\n",
              "      <td>0</td>\n",
              "      <td>0</td>\n",
              "      <td>24160</td>\n",
              "      <td>211.3375</td>\n",
              "      <td>B5</td>\n",
              "      <td>S</td>\n",
              "      <td>2</td>\n",
              "      <td>NaN</td>\n",
              "      <td>St Louis, MO</td>\n",
              "      <td>5640.60</td>\n",
              "    </tr>\n",
              "    <tr>\n",
              "      <th>1</th>\n",
              "      <td>1</td>\n",
              "      <td>1</td>\n",
              "      <td>Allison, Master. Hudson Trevor</td>\n",
              "      <td>male</td>\n",
              "      <td>1</td>\n",
              "      <td>1</td>\n",
              "      <td>2</td>\n",
              "      <td>113781</td>\n",
              "      <td>151.5500</td>\n",
              "      <td>C22 C26</td>\n",
              "      <td>S</td>\n",
              "      <td>11</td>\n",
              "      <td>NaN</td>\n",
              "      <td>Montreal, PQ / Chesterville, ON</td>\n",
              "      <td>4044.87</td>\n",
              "    </tr>\n",
              "    <tr>\n",
              "      <th>2</th>\n",
              "      <td>1</td>\n",
              "      <td>0</td>\n",
              "      <td>Allison, Miss. Helen Loraine</td>\n",
              "      <td>female</td>\n",
              "      <td>2</td>\n",
              "      <td>1</td>\n",
              "      <td>2</td>\n",
              "      <td>113781</td>\n",
              "      <td>151.5500</td>\n",
              "      <td>C22 C26</td>\n",
              "      <td>S</td>\n",
              "      <td>NaN</td>\n",
              "      <td>NaN</td>\n",
              "      <td>Montreal, PQ / Chesterville, ON</td>\n",
              "      <td>4044.87</td>\n",
              "    </tr>\n",
              "    <tr>\n",
              "      <th>3</th>\n",
              "      <td>1</td>\n",
              "      <td>0</td>\n",
              "      <td>Allison, Mr. Hudson Joshua Creighton</td>\n",
              "      <td>male</td>\n",
              "      <td>30</td>\n",
              "      <td>1</td>\n",
              "      <td>2</td>\n",
              "      <td>113781</td>\n",
              "      <td>151.5500</td>\n",
              "      <td>C22 C26</td>\n",
              "      <td>S</td>\n",
              "      <td>NaN</td>\n",
              "      <td>135.0</td>\n",
              "      <td>Montreal, PQ / Chesterville, ON</td>\n",
              "      <td>4044.87</td>\n",
              "    </tr>\n",
              "    <tr>\n",
              "      <th>4</th>\n",
              "      <td>1</td>\n",
              "      <td>0</td>\n",
              "      <td>Allison, Mrs. Hudson J C (Bessie Waldo Daniels)</td>\n",
              "      <td>female</td>\n",
              "      <td>25</td>\n",
              "      <td>1</td>\n",
              "      <td>2</td>\n",
              "      <td>113781</td>\n",
              "      <td>151.5500</td>\n",
              "      <td>C22 C26</td>\n",
              "      <td>S</td>\n",
              "      <td>NaN</td>\n",
              "      <td>NaN</td>\n",
              "      <td>Montreal, PQ / Chesterville, ON</td>\n",
              "      <td>4044.87</td>\n",
              "    </tr>\n",
              "  </tbody>\n",
              "</table>\n",
              "</div>"
            ],
            "text/plain": [
              "   pclass  survived                                             name     sex  \\\n",
              "0       1         1                    Allen, Miss. Elisabeth Walton  female   \n",
              "1       1         1                   Allison, Master. Hudson Trevor    male   \n",
              "2       1         0                     Allison, Miss. Helen Loraine  female   \n",
              "3       1         0             Allison, Mr. Hudson Joshua Creighton    male   \n",
              "4       1         0  Allison, Mrs. Hudson J C (Bessie Waldo Daniels)  female   \n",
              "\n",
              "   age  sibsp  parch  ticket      fare    cabin embarked boat   body  \\\n",
              "0   29      0      0   24160  211.3375       B5        S    2    NaN   \n",
              "1    1      1      2  113781  151.5500  C22 C26        S   11    NaN   \n",
              "2    2      1      2  113781  151.5500  C22 C26        S  NaN    NaN   \n",
              "3   30      1      2  113781  151.5500  C22 C26        S  NaN  135.0   \n",
              "4   25      1      2  113781  151.5500  C22 C26        S  NaN    NaN   \n",
              "\n",
              "                         home.dest  fare_2018  \n",
              "0                     St Louis, MO    5640.60  \n",
              "1  Montreal, PQ / Chesterville, ON    4044.87  \n",
              "2  Montreal, PQ / Chesterville, ON    4044.87  \n",
              "3  Montreal, PQ / Chesterville, ON    4044.87  \n",
              "4  Montreal, PQ / Chesterville, ON    4044.87  "
            ]
          },
          "metadata": {
            "tags": []
          },
          "execution_count": 29
        }
      ]
    },
    {
      "metadata": {
        "id": "wMkBxb4Tm-hQ",
        "colab_type": "text"
      },
      "cell_type": "markdown",
      "source": [
        "### Count categorical data"
      ]
    },
    {
      "metadata": {
        "scrolled": true,
        "id": "FICmFavGm-hT",
        "colab_type": "code",
        "colab": {
          "base_uri": "https://localhost:8080/",
          "height": 68
        },
        "outputId": "a15d0b55-db58-4d76-cbf3-8ddbc26cfd91"
      },
      "cell_type": "code",
      "source": [
        "titanic['sex'].value_counts()"
      ],
      "execution_count": 30,
      "outputs": [
        {
          "output_type": "execute_result",
          "data": {
            "text/plain": [
              "male      842\n",
              "female    466\n",
              "Name: sex, dtype: int64"
            ]
          },
          "metadata": {
            "tags": []
          },
          "execution_count": 30
        }
      ]
    },
    {
      "metadata": {
        "id": "LXi_lNQPm-he",
        "colab_type": "text"
      },
      "cell_type": "markdown",
      "source": [
        "### Groupby & aggregate"
      ]
    },
    {
      "metadata": {
        "id": "kKVItctCm-hh",
        "colab_type": "code",
        "colab": {
          "base_uri": "https://localhost:8080/",
          "height": 34
        },
        "outputId": "f65c7fb1-adf4-41d0-c568-220f8004dab3"
      },
      "cell_type": "code",
      "source": [
        "titanic.groupby('sex')"
      ],
      "execution_count": 31,
      "outputs": [
        {
          "output_type": "execute_result",
          "data": {
            "text/plain": [
              "<pandas.core.groupby.DataFrameGroupBy object at 0x7fe5378472e8>"
            ]
          },
          "metadata": {
            "tags": []
          },
          "execution_count": 31
        }
      ]
    },
    {
      "metadata": {
        "id": "wQOUL8zzm-hs",
        "colab_type": "code",
        "colab": {
          "base_uri": "https://localhost:8080/",
          "height": 85
        },
        "outputId": "1d86693a-3880-4ddd-e057-c4fc8bb3088a"
      },
      "cell_type": "code",
      "source": [
        "titanic.groupby('sex')['survived'].sum()"
      ],
      "execution_count": 32,
      "outputs": [
        {
          "output_type": "execute_result",
          "data": {
            "text/plain": [
              "sex\n",
              "female    339\n",
              "male      161\n",
              "Name: survived, dtype: int64"
            ]
          },
          "metadata": {
            "tags": []
          },
          "execution_count": 32
        }
      ]
    },
    {
      "metadata": {
        "id": "YoOAlDsDm-h3",
        "colab_type": "code",
        "colab": {}
      },
      "cell_type": "code",
      "source": [
        "titanic['is_child'] = titanic['age'] < 18"
      ],
      "execution_count": 0,
      "outputs": []
    },
    {
      "metadata": {
        "id": "RG4fs3AQm-iM",
        "colab_type": "code",
        "colab": {
          "base_uri": "https://localhost:8080/",
          "height": 34
        },
        "outputId": "ff576a0b-cd5b-455c-e5e1-a2628aa2664d"
      },
      "cell_type": "code",
      "source": [
        "titanic['is_child'].sum()"
      ],
      "execution_count": 34,
      "outputs": [
        {
          "output_type": "execute_result",
          "data": {
            "text/plain": [
              "154"
            ]
          },
          "metadata": {
            "tags": []
          },
          "execution_count": 34
        }
      ]
    },
    {
      "metadata": {
        "scrolled": true,
        "id": "VBUREsd-m-iV",
        "colab_type": "code",
        "colab": {
          "base_uri": "https://localhost:8080/",
          "height": 85
        },
        "outputId": "7ccc1145-cb1a-4124-997e-f8663cfd4ff6"
      },
      "cell_type": "code",
      "source": [
        "titanic.groupby('is_child')['survived'].sum()"
      ],
      "execution_count": 35,
      "outputs": [
        {
          "output_type": "execute_result",
          "data": {
            "text/plain": [
              "is_child\n",
              "False    419\n",
              "True      81\n",
              "Name: survived, dtype: int64"
            ]
          },
          "metadata": {
            "tags": []
          },
          "execution_count": 35
        }
      ]
    },
    {
      "metadata": {
        "id": "XPu-MP_2m-ie",
        "colab_type": "text"
      },
      "cell_type": "markdown",
      "source": [
        "### Save new dataframe as csv"
      ]
    },
    {
      "metadata": {
        "id": "Ubn2rqCpm-ig",
        "colab_type": "code",
        "colab": {}
      },
      "cell_type": "code",
      "source": [
        "titanic.to_csv('new_titanic.csv')"
      ],
      "execution_count": 0,
      "outputs": []
    },
    {
      "metadata": {
        "id": "C7WVRztam-ip",
        "colab_type": "text"
      },
      "cell_type": "markdown",
      "source": [
        "## $\\Delta$ Exercise 2 - Dinesafe Data\n",
        "\n",
        "**Questions:**\n",
        "1. Count the missing values in `AMOUNT_FINED` as a percentage\n",
        "2. Create a new column called `AMOUNT_FINED_NOTNULL` and replace the missing values with 0\n",
        "3. Get a count of every category in `ESTABLISHMENTTYPE`\n",
        "4. For every category in `ESTABLISHMENTTYPE` get a count of those that were fined"
      ]
    },
    {
      "metadata": {
        "id": "-XKQLy9Xm-iw",
        "colab_type": "code",
        "colab": {}
      },
      "cell_type": "code",
      "source": [
        "########################\n",
        "# Your Code Below\n",
        "########################"
      ],
      "execution_count": 0,
      "outputs": []
    },
    {
      "metadata": {
        "id": "oQy0IZnlm-i2",
        "colab_type": "code",
        "colab": {
          "base_uri": "https://localhost:8080/",
          "height": 34
        },
        "outputId": "853361a8-25b2-433f-cadf-94fb035d3d86"
      },
      "cell_type": "code",
      "source": [
        "dinesafe['AMOUNT_FINED'].isnull().sum() / dinesafe.shape[0]"
      ],
      "execution_count": 38,
      "outputs": [
        {
          "output_type": "execute_result",
          "data": {
            "text/plain": [
              "0.9966970174067182"
            ]
          },
          "metadata": {
            "tags": []
          },
          "execution_count": 38
        }
      ]
    },
    {
      "metadata": {
        "id": "A3rEfqLmm-jC",
        "colab_type": "code",
        "colab": {}
      },
      "cell_type": "code",
      "source": [
        "dinesafe['AMOUNT_FINED_NOTNULL'] = dinesafe['AMOUNT_FINED'].fillna(0)"
      ],
      "execution_count": 0,
      "outputs": []
    },
    {
      "metadata": {
        "id": "I6gdAHxBm-jQ",
        "colab_type": "code",
        "colab": {
          "base_uri": "https://localhost:8080/",
          "height": 969
        },
        "outputId": "76b8fbba-7873-4b00-cad4-0845498405c2"
      },
      "cell_type": "code",
      "source": [
        "dinesafe.groupby('ESTABLISHMENTTYPE')['AMOUNT_FINED'].count().sort_values(ascending=False)"
      ],
      "execution_count": 40,
      "outputs": [
        {
          "output_type": "execute_result",
          "data": {
            "text/plain": [
              "ESTABLISHMENTTYPE\n",
              "Restaurant                                  210\n",
              "Food Take Out                                38\n",
              "Food Court Vendor                            14\n",
              "Bakery                                        9\n",
              "Food Store (Convenience / Variety)            9\n",
              "Supermarket                                   8\n",
              "Butcher Shop                                  3\n",
              "Food Processing Plant                         3\n",
              "Food Depot                                    3\n",
              "Nursing Home / Home for the Aged              2\n",
              "Cafeteria                                     1\n",
              "Church Banquet Facility                       0\n",
              "Commissary                                    0\n",
              "Community Kitchen Meal Program                0\n",
              "Elementary School Food services               0\n",
              "College/University Food services              0\n",
              "Cocktail Bar / Beverage Room                  0\n",
              "Cheese Plant                                  0\n",
              "Child Care - Food Preparation                 0\n",
              "Child Care - Catered                          0\n",
              "Fish Shop                                     0\n",
              "Chartered Cruise Boats                        0\n",
              "Catering Vehicle                              0\n",
              "Cafeteria - Public Access                     0\n",
              "Brew Your Own Beer / Wine                     0\n",
              "Bottling Plant                                0\n",
              "Boarding / Lodging Home - Kitchen             0\n",
              "Bed & Breakfast                               0\n",
              "Banquet Facility                              0\n",
              "Fairs / Festivals / Special Occasions         0\n",
              "Food Caterer                                  0\n",
              "Flea Market                                   0\n",
              "Milk Pasteurization Plant                     0\n",
              "Secondary School Food Services                0\n",
              "School Nourishment Program                    0\n",
              "Retirement Homes(Un-licensed)                 0\n",
              "Retirement Homes(Licensed)                    0\n",
              "Rest Home                                     0\n",
              "Refreshment Stand (Stationary)                0\n",
              "Private Club                                  0\n",
              "Other Educational Facility Food Services      0\n",
              "Mobile Food Preparation Premises              0\n",
              "Meat Processing Plant                         0\n",
              "Food Bank                                     0\n",
              "Locker Plant                                  0\n",
              "Institutional Food Service                    0\n",
              "Ice Cream / Yogurt Vendors                    0\n",
              "Hot Dog Cart                                  0\n",
              "Hospitals & Health Facilities                 0\n",
              "Food Vending Facility                         0\n",
              "Food Recovery Program                         0\n",
              "Serving Kitchen                               0\n",
              "Food Cart                                     0\n",
              "Bake Shop                                     0\n",
              "Name: AMOUNT_FINED, dtype: int64"
            ]
          },
          "metadata": {
            "tags": []
          },
          "execution_count": 40
        }
      ]
    },
    {
      "metadata": {
        "scrolled": true,
        "id": "ulEm_dzxm-ja",
        "colab_type": "code",
        "colab": {
          "base_uri": "https://localhost:8080/",
          "height": 969
        },
        "outputId": "8e6f0962-5b62-46eb-f102-fb4e7edf358c"
      },
      "cell_type": "code",
      "source": [
        "dinesafe.groupby('ESTABLISHMENTTYPE')['AMOUNT_FINED'].mean()"
      ],
      "execution_count": 41,
      "outputs": [
        {
          "output_type": "execute_result",
          "data": {
            "text/plain": [
              "ESTABLISHMENTTYPE\n",
              "Bake Shop                                          NaN\n",
              "Bakery                                      116.111111\n",
              "Banquet Facility                                   NaN\n",
              "Bed & Breakfast                                    NaN\n",
              "Boarding / Lodging Home - Kitchen                  NaN\n",
              "Bottling Plant                                     NaN\n",
              "Brew Your Own Beer / Wine                          NaN\n",
              "Butcher Shop                                 78.333333\n",
              "Cafeteria                                    60.000000\n",
              "Cafeteria - Public Access                          NaN\n",
              "Catering Vehicle                                   NaN\n",
              "Chartered Cruise Boats                             NaN\n",
              "Cheese Plant                                       NaN\n",
              "Child Care - Catered                               NaN\n",
              "Child Care - Food Preparation                      NaN\n",
              "Church Banquet Facility                            NaN\n",
              "Cocktail Bar / Beverage Room                       NaN\n",
              "College/University Food services                   NaN\n",
              "Commissary                                         NaN\n",
              "Community Kitchen Meal Program                     NaN\n",
              "Elementary School Food services                    NaN\n",
              "Fairs / Festivals / Special Occasions              NaN\n",
              "Fish Shop                                          NaN\n",
              "Flea Market                                        NaN\n",
              "Food Bank                                          NaN\n",
              "Food Cart                                          NaN\n",
              "Food Caterer                                       NaN\n",
              "Food Court Vendor                           253.571429\n",
              "Food Depot                                  155.000000\n",
              "Food Processing Plant                       120.000000\n",
              "Food Recovery Program                              NaN\n",
              "Food Store (Convenience / Variety)          177.777778\n",
              "Food Take Out                               331.118421\n",
              "Food Vending Facility                              NaN\n",
              "Hospitals & Health Facilities                      NaN\n",
              "Hot Dog Cart                                       NaN\n",
              "Ice Cream / Yogurt Vendors                         NaN\n",
              "Institutional Food Service                         NaN\n",
              "Locker Plant                                       NaN\n",
              "Meat Processing Plant                              NaN\n",
              "Milk Pasteurization Plant                          NaN\n",
              "Mobile Food Preparation Premises                   NaN\n",
              "Nursing Home / Home for the Aged            120.000000\n",
              "Other Educational Facility Food Services           NaN\n",
              "Private Club                                       NaN\n",
              "Refreshment Stand (Stationary)                     NaN\n",
              "Rest Home                                          NaN\n",
              "Restaurant                                  228.300000\n",
              "Retirement Homes(Licensed)                         NaN\n",
              "Retirement Homes(Un-licensed)                      NaN\n",
              "School Nourishment Program                         NaN\n",
              "Secondary School Food Services                     NaN\n",
              "Serving Kitchen                                    NaN\n",
              "Supermarket                                 208.125000\n",
              "Name: AMOUNT_FINED, dtype: float64"
            ]
          },
          "metadata": {
            "tags": []
          },
          "execution_count": 41
        }
      ]
    },
    {
      "metadata": {
        "id": "DcPY6q4om-jk",
        "colab_type": "text"
      },
      "cell_type": "markdown",
      "source": [
        "# $\\Omega$ Data Visualization\n",
        "https://pandas.pydata.org/pandas-docs/stable/visualization.html"
      ]
    },
    {
      "metadata": {
        "id": "HPDN4ax-m-jp",
        "colab_type": "text"
      },
      "cell_type": "markdown",
      "source": [
        "### Bar plot"
      ]
    },
    {
      "metadata": {
        "scrolled": true,
        "id": "Kpndda35m-jr",
        "colab_type": "code",
        "colab": {
          "base_uri": "https://localhost:8080/",
          "height": 278
        },
        "outputId": "cfabd1cc-4d27-46be-cec4-d659fb0fa81b"
      },
      "cell_type": "code",
      "source": [
        "titanic['survived'].value_counts().plot(kind='bar')"
      ],
      "execution_count": 42,
      "outputs": [
        {
          "output_type": "execute_result",
          "data": {
            "text/plain": [
              "<matplotlib.axes._subplots.AxesSubplot at 0x7fe536a6bdd8>"
            ]
          },
          "metadata": {
            "tags": []
          },
          "execution_count": 42
        },
        {
          "output_type": "display_data",
          "data": {
            "image/png": "[encoded data removed]",
            "text/plain": [
              "<Figure size 432x288 with 1 Axes>"
            ]
          },
          "metadata": {
            "tags": []
          }
        }
      ]
    },
    {
      "metadata": {
        "id": "edol_Wtum-jz",
        "colab_type": "text"
      },
      "cell_type": "markdown",
      "source": [
        "### Pie plot"
      ]
    },
    {
      "metadata": {
        "id": "cWh-AAJum-j1",
        "colab_type": "code",
        "colab": {
          "base_uri": "https://localhost:8080/",
          "height": 265
        },
        "outputId": "097720bf-fad1-4748-c4cc-d8467eb4feb1"
      },
      "cell_type": "code",
      "source": [
        "titanic['survived'].value_counts().plot(kind='pie')"
      ],
      "execution_count": 43,
      "outputs": [
        {
          "output_type": "execute_result",
          "data": {
            "text/plain": [
              "<matplotlib.axes._subplots.AxesSubplot at 0x7fe53698b400>"
            ]
          },
          "metadata": {
            "tags": []
          },
          "execution_count": 43
        },
        {
          "output_type": "display_data",
          "data": {
            "image/png": "[encoded data removed]",
            "text/plain": [
              "<Figure size 432x288 with 1 Axes>"
            ]
          },
          "metadata": {
            "tags": []
          }
        }
      ]
    },
    {
      "metadata": {
        "id": "-C7aSZgTm-kJ",
        "colab_type": "text"
      },
      "cell_type": "markdown",
      "source": [
        "### Set figure size"
      ]
    },
    {
      "metadata": {
        "id": "-Ls8qwAvm-kM",
        "colab_type": "code",
        "colab": {
          "base_uri": "https://localhost:8080/",
          "height": 320
        },
        "outputId": "d1fcf130-d49c-4abe-9d86-2db3d1cde0ee"
      },
      "cell_type": "code",
      "source": [
        "titanic['survived'].value_counts().plot(kind='pie', figsize=(5, 5))"
      ],
      "execution_count": 44,
      "outputs": [
        {
          "output_type": "execute_result",
          "data": {
            "text/plain": [
              "<matplotlib.axes._subplots.AxesSubplot at 0x7fe53416efd0>"
            ]
          },
          "metadata": {
            "tags": []
          },
          "execution_count": 44
        },
        {
          "output_type": "display_data",
          "data": {
            "image/png": "[encoded data removed]",
            "text/plain": [
              "<Figure size 360x360 with 1 Axes>"
            ]
          },
          "metadata": {
            "tags": []
          }
        }
      ]
    },
    {
      "metadata": {
        "id": "VlWTDix8m-ku",
        "colab_type": "text"
      },
      "cell_type": "markdown",
      "source": [
        "### Histogram"
      ]
    },
    {
      "metadata": {
        "id": "8-iSUmEOm-kx",
        "colab_type": "code",
        "colab": {
          "base_uri": "https://localhost:8080/",
          "height": 282
        },
        "outputId": "99812c5c-746c-4c19-89c2-fd89cde08149"
      },
      "cell_type": "code",
      "source": [
        "titanic['age'].plot(kind='hist')"
      ],
      "execution_count": 48,
      "outputs": [
        {
          "output_type": "execute_result",
          "data": {
            "text/plain": [
              "<matplotlib.axes._subplots.AxesSubplot at 0x7fe5340a1ac8>"
            ]
          },
          "metadata": {
            "tags": []
          },
          "execution_count": 48
        },
        {
          "output_type": "display_data",
          "data": {
            "image/png": "[encoded data removed]",
            "text/plain": [
              "<Figure size 432x288 with 1 Axes>"
            ]
          },
          "metadata": {
            "tags": []
          }
        }
      ]
    },
    {
      "metadata": {
        "id": "HiTg69_Jm-k6",
        "colab_type": "text"
      },
      "cell_type": "markdown",
      "source": [
        "### Set histogram bin size"
      ]
    },
    {
      "metadata": {
        "id": "3WjBNepTm-k7",
        "colab_type": "code",
        "colab": {
          "base_uri": "https://localhost:8080/",
          "height": 282
        },
        "outputId": "2bdebe37-a030-4bd5-f636-537f91d0f5c0"
      },
      "cell_type": "code",
      "source": [
        "titanic['age'].plot(kind='hist', bins=100)"
      ],
      "execution_count": 49,
      "outputs": [
        {
          "output_type": "execute_result",
          "data": {
            "text/plain": [
              "<matplotlib.axes._subplots.AxesSubplot at 0x7fe533fb1898>"
            ]
          },
          "metadata": {
            "tags": []
          },
          "execution_count": 49
        },
        {
          "output_type": "display_data",
          "data": {
            "image/png": "[encoded data removed]",
            "text/plain": [
              "<Figure size 432x288 with 1 Axes>"
            ]
          },
          "metadata": {
            "tags": []
          }
        }
      ]
    },
    {
      "metadata": {
        "id": "k5Wx3mywm-lD",
        "colab_type": "text"
      },
      "cell_type": "markdown",
      "source": [
        "### Boxplot"
      ]
    },
    {
      "metadata": {
        "id": "cHcwHkcmm-lE",
        "colab_type": "code",
        "colab": {
          "base_uri": "https://localhost:8080/",
          "height": 282
        },
        "outputId": "788b9b11-9d67-40b0-9de0-1d183c071761"
      },
      "cell_type": "code",
      "source": [
        "titanic['fare'].plot(kind='box')"
      ],
      "execution_count": 50,
      "outputs": [
        {
          "output_type": "execute_result",
          "data": {
            "text/plain": [
              "<matplotlib.axes._subplots.AxesSubplot at 0x7fe533eb3080>"
            ]
          },
          "metadata": {
            "tags": []
          },
          "execution_count": 50
        },
        {
          "output_type": "display_data",
          "data": {
            "image/png": "[encoded data removed]",
            "text/plain": [
              "<Figure size 432x288 with 1 Axes>"
            ]
          },
          "metadata": {
            "tags": []
          }
        }
      ]
    },
    {
      "metadata": {
        "id": "gtkrX1fYm-lQ",
        "colab_type": "text"
      },
      "cell_type": "markdown",
      "source": [
        "### Scatter plot"
      ]
    },
    {
      "metadata": {
        "scrolled": true,
        "id": "jKNMwoPEm-lS",
        "colab_type": "code",
        "colab": {
          "base_uri": "https://localhost:8080/",
          "height": 298
        },
        "outputId": "d729c3ad-c086-4e57-f336-d2b6c1ea37ce"
      },
      "cell_type": "code",
      "source": [
        "titanic[['fare', 'age']].plot(x='age', y='fare', kind='scatter')"
      ],
      "execution_count": 51,
      "outputs": [
        {
          "output_type": "execute_result",
          "data": {
            "text/plain": [
              "<matplotlib.axes._subplots.AxesSubplot at 0x7fe533e39390>"
            ]
          },
          "metadata": {
            "tags": []
          },
          "execution_count": 51
        },
        {
          "output_type": "display_data",
          "data": {
            "image/png": "[encoded data removed]",
            "text/plain": [
              "<Figure size 432x288 with 1 Axes>"
            ]
          },
          "metadata": {
            "tags": []
          }
        }
      ]
    },
    {
      "metadata": {
        "id": "iByissmym-lf",
        "colab_type": "text"
      },
      "cell_type": "markdown",
      "source": [
        "### Transform then plot"
      ]
    },
    {
      "metadata": {
        "id": "o5uM2LTtm-lh",
        "colab_type": "code",
        "colab": {
          "base_uri": "https://localhost:8080/",
          "height": 319
        },
        "outputId": "82ebd186-5ca0-43e6-f4af-b2902b227357"
      },
      "cell_type": "code",
      "source": [
        "titanic.groupby('sex')['survived'].sum().plot(kind='bar')"
      ],
      "execution_count": 52,
      "outputs": [
        {
          "output_type": "execute_result",
          "data": {
            "text/plain": [
              "<matplotlib.axes._subplots.AxesSubplot at 0x7fe533f31be0>"
            ]
          },
          "metadata": {
            "tags": []
          },
          "execution_count": 52
        },
        {
          "output_type": "display_data",
          "data": {
            "image/png": "[encoded data removed]",
            "text/plain": [
              "<Figure size 432x288 with 1 Axes>"
            ]
          },
          "metadata": {
            "tags": []
          }
        }
      ]
    },
    {
      "metadata": {
        "id": "UQVbINSvm-ln",
        "colab_type": "text"
      },
      "cell_type": "markdown",
      "source": [
        "## $\\Delta$ Exercise 3 - Dinesafe Data\n",
        "\n",
        "**Questions:**\n",
        "1. Create a bar plot of `ESTABLISHMENT_STATUS`\n",
        "2. Create a new dataframe called `dinesafe_fined` with only the rows where `AMOUNT_FINED` is not null\n",
        "3. Create a boxplot of `AMOUNT_FINED` in this new dataframe\n",
        "4. Create a histogram of `AMOUNT_FINED` with 30 bins\n",
        "5. Create a **horizontal** bar plot of the mean `AMOUNT_FINED` by `ESTABLISHMENTTYPE`\n",
        "6. Create a line plot of `INSPECTION_DATE` and `AMOUNT_FINED`\n",
        "\n",
        "**Bonus:**\n",
        "- Explore the dataset and see if you can come up with your own interesting analysis or plot"
      ]
    },
    {
      "metadata": {
        "id": "3A8BfxsJm-lp",
        "colab_type": "code",
        "colab": {}
      },
      "cell_type": "code",
      "source": [
        "########################\n",
        "# Your Code Below\n",
        "########################"
      ],
      "execution_count": 0,
      "outputs": []
    },
    {
      "metadata": {
        "id": "FzRDruSGm-lx",
        "colab_type": "code",
        "colab": {
          "base_uri": "https://localhost:8080/",
          "height": 347
        },
        "outputId": "300555fe-a91d-4245-c3dd-d1e33c057ce5"
      },
      "cell_type": "code",
      "source": [
        "dinesafe['ESTABLISHMENT_STATUS'].value_counts().plot(kind='bar')"
      ],
      "execution_count": 54,
      "outputs": [
        {
          "output_type": "execute_result",
          "data": {
            "text/plain": [
              "<matplotlib.axes._subplots.AxesSubplot at 0x7fe533d99668>"
            ]
          },
          "metadata": {
            "tags": []
          },
          "execution_count": 54
        },
        {
          "output_type": "display_data",
          "data": {
            "image/png": "[encoded data removed]",
            "text/plain": [
              "<Figure size 432x288 with 1 Axes>"
            ]
          },
          "metadata": {
            "tags": []
          }
        }
      ]
    },
    {
      "metadata": {
        "id": "zvB9j7q2m-l3",
        "colab_type": "code",
        "colab": {}
      },
      "cell_type": "code",
      "source": [
        "dinesafe_fined = dinesafe[dinesafe['AMOUNT_FINED'].notnull()]"
      ],
      "execution_count": 0,
      "outputs": []
    },
    {
      "metadata": {
        "id": "RlEEDo8dm-l8",
        "colab_type": "code",
        "colab": {
          "base_uri": "https://localhost:8080/",
          "height": 282
        },
        "outputId": "7dad9eaa-513b-4ee2-8944-afcaed8eaefe"
      },
      "cell_type": "code",
      "source": [
        "dinesafe['AMOUNT_FINED'].plot(kind='box')"
      ],
      "execution_count": 56,
      "outputs": [
        {
          "output_type": "execute_result",
          "data": {
            "text/plain": [
              "<matplotlib.axes._subplots.AxesSubplot at 0x7fe533d6fd68>"
            ]
          },
          "metadata": {
            "tags": []
          },
          "execution_count": 56
        },
        {
          "output_type": "display_data",
          "data": {
            "image/png": "[encoded data removed]",
            "text/plain": [
              "<Figure size 432x288 with 1 Axes>"
            ]
          },
          "metadata": {
            "tags": []
          }
        }
      ]
    },
    {
      "metadata": {
        "id": "RRaSaInsm-mF",
        "colab_type": "code",
        "colab": {
          "base_uri": "https://localhost:8080/",
          "height": 282
        },
        "outputId": "f2f79793-e383-474b-eb6e-39b132c915b8"
      },
      "cell_type": "code",
      "source": [
        "dinesafe['AMOUNT_FINED'].plot(kind='hist', bins=30)"
      ],
      "execution_count": 57,
      "outputs": [
        {
          "output_type": "execute_result",
          "data": {
            "text/plain": [
              "<matplotlib.axes._subplots.AxesSubplot at 0x7fe533d83208>"
            ]
          },
          "metadata": {
            "tags": []
          },
          "execution_count": 57
        },
        {
          "output_type": "display_data",
          "data": {
            "image/png": "[encoded data removed]",
            "text/plain": [
              "<Figure size 432x288 with 1 Axes>"
            ]
          },
          "metadata": {
            "tags": []
          }
        }
      ]
    },
    {
      "metadata": {
        "id": "nsfWbiiFm-mV",
        "colab_type": "code",
        "colab": {
          "base_uri": "https://localhost:8080/",
          "height": 282
        },
        "outputId": "027eddb8-b03d-4670-b1d7-dd2cc781eec2"
      },
      "cell_type": "code",
      "source": [
        "dinesafe_fined.groupby('ESTABLISHMENTTYPE')['AMOUNT_FINED'].mean().sort_values(ascending=True).plot(kind='barh')"
      ],
      "execution_count": 58,
      "outputs": [
        {
          "output_type": "execute_result",
          "data": {
            "text/plain": [
              "<matplotlib.axes._subplots.AxesSubplot at 0x7fe533c54eb8>"
            ]
          },
          "metadata": {
            "tags": []
          },
          "execution_count": 58
        },
        {
          "output_type": "display_data",
          "data": {
            "image/png": "[encoded data removed]",
            "text/plain": [
              "<Figure size 432x288 with 1 Axes>"
            ]
          },
          "metadata": {
            "tags": []
          }
        }
      ]
    },
    {
      "metadata": {
        "id": "fg3Scrhpm-mh",
        "colab_type": "code",
        "colab": {
          "base_uri": "https://localhost:8080/",
          "height": 288
        },
        "outputId": "e421e480-52b6-4c20-9ed0-fbefd07c95e3"
      },
      "cell_type": "code",
      "source": [
        "dinesafe_fined.sort_values(by='INSPECTION_DATE').plot(x='INSPECTION_DATE', y='AMOUNT_FINED', kind='line')"
      ],
      "execution_count": 59,
      "outputs": [
        {
          "output_type": "execute_result",
          "data": {
            "text/plain": [
              "<matplotlib.axes._subplots.AxesSubplot at 0x7fe533bee080>"
            ]
          },
          "metadata": {
            "tags": []
          },
          "execution_count": 59
        },
        {
          "output_type": "display_data",
          "data": {
            "image/png": "[encoded data removed]",
            "text/plain": [
              "<Figure size 432x288 with 1 Axes>"
            ]
          },
          "metadata": {
            "tags": []
          }
        }
      ]
    }
  ]
}