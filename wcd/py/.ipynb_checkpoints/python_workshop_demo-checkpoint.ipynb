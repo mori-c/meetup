{
 "cells": [
  {
   "cell_type": "markdown",
   "metadata": {
    "colab_type": "text",
    "id": "RZdSdZI92q-A"
   },
   "source": [
    "<center>\n",
    "    <img src=\"https://s3.amazonaws.com/weclouddata/images/logos/wcd_logo.png\" width=\"50%\">\n",
    "</center>\n",
    "\n",
    "----------\n",
    "\n",
    "<h1 align=\"center\"> Python for Data Science </h1>\n",
    "<br>\n",
    "<center align=\"left\"> <font size='4'>  Developed by: </font><font size='4' color='#33AAFBD'>WeCloudData Academy </font></center>\n",
    "<br>\n",
    "<center align=\"left\"> <font size='4' color='#FF5713'> Accelerating your data science career! </font></center>\n",
    "<br>\n",
    "\n",
    "----------"
   ]
  },
  {
   "cell_type": "markdown",
   "metadata": {
    "colab_type": "text",
    "id": "rh8xBnbKm-Yz",
    "slideshow": {
     "slide_type": "slide"
    }
   },
   "source": [
    "<h1><center>Why Python?</center></h1>\n",
    "<center>\n",
    "    <img src=\"https://imgs.xkcd.com/comics/python.png\" width=\"40%\">\n",
    "</center>\n",
    "\n",
    "-----"
   ]
  },
  {
   "cell_type": "markdown",
   "metadata": {
    "colab_type": "text",
    "id": "-DAqCdWCm-ZE",
    "slideshow": {
     "slide_type": "-"
    }
   },
   "source": [
    "# $\\Omega$ Pandas\n",
    "\n",
    "<img src=\"https://upload.wikimedia.org/wikipedia/commons/c/cd/Panda_Cub_from_Wolong%2C_Sichuan%2C_China.JPG\" width=\"30%\">\n",
    "\n",
    "> `pandas` is a Python package providing fast, flexible, and expressive data structures designed to make working with “relational” or “labeled” data both easy and intuitive. It aims to be the fundamental high-level building block for doing practical, real world data analysis in Python. Additionally, it has the broader goal of becoming the most powerful and flexible open source data analysis / manipulation tool available in any language. It is already well on its way toward this goal.\n",
    "\n",
    "> `pandas` is well suited for many different kinds of data:\n",
    "\n",
    "> * Tabular data with heterogeneously-typed columns, as in an SQL table or Excel spreadsheet\n",
    "* Ordered and unordered (not necessarily fixed-frequency) time series data.\n",
    "* Arbitrary matrix data (homogeneously typed or heterogeneous) with row and column labels\n",
    "* Any other form of observational / statistical data sets. The data actually need not be labeled at all to be placed into a pandas data structure\n",
    "\n",
    "For more tutorials, visit: https://pandas.pydata.org/pandas-docs/stable/tutorials.html\n",
    "\n",
    "-----"
   ]
  },
  {
   "cell_type": "markdown",
   "metadata": {
    "colab_type": "text",
    "id": "y3qAMEc9m-ZI"
   },
   "source": [
    "### Imports"
   ]
  },
  {
   "cell_type": "code",
   "execution_count": 1,
   "metadata": {
    "colab": {},
    "colab_type": "code",
    "id": "19Ym9-43m-ZL"
   },
   "outputs": [],
   "source": [
    "import pandas as pd\n",
    "import matplotlib.pyplot as plt\n",
    "%matplotlib inline"
   ]
  },
  {
   "cell_type": "markdown",
   "metadata": {
    "colab_type": "text",
    "id": "IY1QV5F0m-ZW"
   },
   "source": [
    "### Read data"
   ]
  },
  {
   "cell_type": "code",
   "execution_count": 11,
   "metadata": {
    "colab": {},
    "colab_type": "code",
    "id": "VhvpbLOnm-ZZ"
   },
   "outputs": [],
   "source": [
    "titanic = pd.read_csv('./titanic.csv')"
   ]
  },
  {
   "cell_type": "markdown",
   "metadata": {
    "colab_type": "text",
    "id": "sf07gEycm-Z4"
   },
   "source": [
    "### Help"
   ]
  },
  {
   "cell_type": "markdown",
   "metadata": {
    "colab_type": "text",
    "id": "fR2UBclfm-aE"
   },
   "source": [
    "### Get first n rows\n",
    "titanic.head(10)\n",
    "## titanic.shape\n"
   ]
  },
  {
   "cell_type": "markdown",
   "metadata": {
    "colab_type": "text",
    "id": "4y42peG5m-aV"
   },
   "source": [
    "### Dataframe dimensions"
   ]
  },
  {
   "cell_type": "markdown",
   "metadata": {
    "colab_type": "text",
    "id": "DCAY6fAQm-am"
   },
   "source": [
    "### Index"
   ]
  },
  {
   "cell_type": "markdown",
   "metadata": {
    "colab_type": "text",
    "id": "Lt0UJuKtm-a2"
   },
   "source": [
    "### Columns"
   ]
  },
  {
   "cell_type": "markdown",
   "metadata": {
    "colab_type": "text",
    "id": "CnvWHIYIm-bK"
   },
   "source": [
    "### Dataframe information\n",
    "titanic.info()"
   ]
  },
  {
   "cell_type": "markdown",
   "metadata": {
    "colab_type": "text",
    "id": "dpuH8iSfm-bb"
   },
   "source": [
    "### Summary statistics for numeric columns\n",
    "titanic.describle"
   ]
  },
  {
   "cell_type": "markdown",
   "metadata": {
    "colab_type": "text",
    "id": "1qUbv3Q8m-by"
   },
   "source": [
    "# $\\Omega$ Selecting Data"
   ]
  },
  {
   "cell_type": "markdown",
   "metadata": {
    "colab_type": "text",
    "id": "_bSZCZlMm-b3"
   },
   "source": [
    "### Select column\n",
    "titanic['age']"
   ]
  },
  {
   "cell_type": "code",
   "execution_count": null,
   "metadata": {
    "colab_type": "text",
    "id": "cRBDzpuAm-cN"
   },
   "outputs": [],
   "source": [
    "### Select multiple columns\n",
    "titanic[['name', 'age', 'fare']]"
   ]
  },
  {
   "cell_type": "markdown",
   "metadata": {
    "colab_type": "text",
    "id": "IUvDMjYvm-ce"
   },
   "source": [
    "### Select rows and columns by name\n",
    "titanic.loc[2]"
   ]
  },
  {
   "cell_type": "markdown",
   "metadata": {
    "colab_type": "text",
    "id": "5aYVqDwim-ct"
   },
   "source": [
    "### Select rows and columns by range of indices\n",
    "## [position:range_value, cell]\n",
    "\n",
    "titanic.iloc[2:10, 3:5]\n"
   ]
  },
  {
   "cell_type": "markdown",
   "metadata": {
    "colab_type": "text",
    "id": "jAyCBSPYm-c9"
   },
   "source": [
    "### Select rows based on condition (filter)\n",
    "## find ages greater\n",
    "\n",
    "titanic[titanic['age'] > 18]"
   ]
  },
  {
   "cell_type": "markdown",
   "metadata": {
    "colab_type": "text",
    "id": "Y8Zh8dVSm-dZ"
   },
   "source": [
    "## $\\Delta$ Exercise 1 - Dinesafe Data\n",
    "\n",
    "https://www.toronto.ca/city-government/data-research-maps/open-data/open-data-catalogue/\n",
    "\n",
    "**Questions:**\n",
    "1. Read the trip data `data/dinesafe.csv`\n",
    "2. Show the last 10 rows\n",
    "3. Show the summary statistics\n",
    "4. Select columns \"latitude\" and \"longitude\" and rows 100 to 200\n",
    "5. Select age greater than 50"
   ]
  },
  {
   "cell_type": "code",
   "execution_count": null,
   "metadata": {
    "colab": {},
    "colab_type": "code",
    "id": "mMkwdMKvm-dd"
   },
   "outputs": [],
   "source": [
    "########################\n",
    "# Your Code Below\n",
    "########################"
   ]
  },
  {
   "cell_type": "code",
   "execution_count": null,
   "metadata": {
    "colab": {},
    "colab_type": "code",
    "id": "Fl_MfQ7am-do"
   },
   "outputs": [],
   "source": [
    "dinesafe = pd.read_csv('https://raw.githubusercontent.com/vinnywcd/datasets/master/dinesafe.csv')"
   ]
  },
  {
   "cell_type": "code",
   "execution_count": null,
   "metadata": {
    "colab": {},
    "colab_type": "code",
    "id": "-O6ab15hFags"
   },
   "outputs": [],
   "source": []
  },
  {
   "cell_type": "markdown",
   "metadata": {
    "colab_type": "text",
    "id": "8wILetRmm-eo"
   },
   "source": [
    "# $\\Omega$ Transforming Data"
   ]
  },
  {
   "cell_type": "markdown",
   "metadata": {
    "colab_type": "text",
    "id": "dc81LHe1m-es"
   },
   "source": [
    "### Calculate ticket price in today's dollar\n",
    "According to the Bureau of Labor Statistics consumer price index, prices in 2018 are 2,669.00% higher than prices in 1909. The dollar experienced an average inflation rate of 3.09% per year."
   ]
  },
  {
   "cell_type": "markdown",
   "metadata": {
    "colab_type": "text",
    "id": "FzcI_qA5m-fI"
   },
   "source": [
    "### Add new column"
   ]
  },
  {
   "cell_type": "markdown",
   "metadata": {
    "colab_type": "text",
    "id": "721VtME3m-fd"
   },
   "source": [
    "### Count missing values"
   ]
  },
  {
   "cell_type": "markdown",
   "metadata": {
    "colab_type": "text",
    "id": "MmhPqJkDm-fs"
   },
   "source": [
    "### Calculate mean"
   ]
  },
  {
   "cell_type": "markdown",
   "metadata": {
    "colab_type": "text",
    "id": "eFCeQgPCm-gA"
   },
   "source": [
    "### Fill missing values"
   ]
  },
  {
   "cell_type": "markdown",
   "metadata": {
    "colab_type": "text",
    "id": "wMkBxb4Tm-hQ"
   },
   "source": [
    "### Count categorical data"
   ]
  },
  {
   "cell_type": "markdown",
   "metadata": {
    "colab_type": "text",
    "id": "LXi_lNQPm-he"
   },
   "source": [
    "### Groupby & aggregate"
   ]
  },
  {
   "cell_type": "markdown",
   "metadata": {
    "colab_type": "text",
    "id": "XPu-MP_2m-ie"
   },
   "source": [
    "### Save new dataframe as csv"
   ]
  },
  {
   "cell_type": "markdown",
   "metadata": {
    "colab_type": "text",
    "id": "C7WVRztam-ip"
   },
   "source": [
    "## $\\Delta$ Exercise 2 - Dinesafe Data\n",
    "\n",
    "**Questions:**\n",
    "1. Count the missing values in `AMOUNT_FINED` as a percentage\n",
    "2. Create a new column called `AMOUNT_FINED_NOTNULL` and replace the missing values with 0\n",
    "3. Get a count of every category in `ESTABLISHMENTTYPE`\n",
    "4. For every category in `ESTABLISHMENTTYPE` get a count of those that were fined"
   ]
  },
  {
   "cell_type": "code",
   "execution_count": null,
   "metadata": {
    "colab": {},
    "colab_type": "code",
    "id": "-XKQLy9Xm-iw"
   },
   "outputs": [],
   "source": [
    "########################\n",
    "# Your Code Below\n",
    "########################"
   ]
  },
  {
   "cell_type": "code",
   "execution_count": null,
   "metadata": {
    "colab": {},
    "colab_type": "code",
    "id": "Fo_O99ECFY66"
   },
   "outputs": [],
   "source": []
  },
  {
   "cell_type": "markdown",
   "metadata": {
    "colab_type": "text",
    "id": "DcPY6q4om-jk"
   },
   "source": [
    "# $\\Omega$ Data Visualization\n",
    "https://pandas.pydata.org/pandas-docs/stable/visualization.html"
   ]
  },
  {
   "cell_type": "markdown",
   "metadata": {
    "colab_type": "text",
    "id": "HPDN4ax-m-jp"
   },
   "source": [
    "### Bar plot"
   ]
  },
  {
   "cell_type": "markdown",
   "metadata": {
    "colab_type": "text",
    "id": "edol_Wtum-jz"
   },
   "source": [
    "### Pie plot"
   ]
  },
  {
   "cell_type": "markdown",
   "metadata": {
    "colab_type": "text",
    "id": "-C7aSZgTm-kJ"
   },
   "source": [
    "### Set figure size"
   ]
  },
  {
   "cell_type": "markdown",
   "metadata": {
    "colab_type": "text",
    "id": "VlWTDix8m-ku"
   },
   "source": [
    "### Histogram"
   ]
  },
  {
   "cell_type": "markdown",
   "metadata": {
    "colab_type": "text",
    "id": "HiTg69_Jm-k6"
   },
   "source": [
    "### Set histogram bin size"
   ]
  },
  {
   "cell_type": "markdown",
   "metadata": {
    "colab_type": "text",
    "id": "k5Wx3mywm-lD"
   },
   "source": [
    "### Boxplot"
   ]
  },
  {
   "cell_type": "markdown",
   "metadata": {
    "colab_type": "text",
    "id": "gtkrX1fYm-lQ"
   },
   "source": [
    "### Scatter plot"
   ]
  },
  {
   "cell_type": "markdown",
   "metadata": {
    "colab_type": "text",
    "id": "iByissmym-lf"
   },
   "source": [
    "### Transform then plot"
   ]
  },
  {
   "cell_type": "markdown",
   "metadata": {
    "colab_type": "text",
    "id": "UQVbINSvm-ln"
   },
   "source": [
    "## $\\Delta$ Exercise 3 - Dinesafe Data\n",
    "\n",
    "**Questions:**\n",
    "1. Create a bar plot of `ESTABLISHMENT_STATUS`\n",
    "2. Create a new dataframe called `dinesafe_fined` with only the rows where `AMOUNT_FINED` is not null\n",
    "3. Create a boxplot of `AMOUNT_FINED` in this new dataframe\n",
    "4. Create a histogram of `AMOUNT_FINED` with 30 bins\n",
    "5. Create a **horizontal** bar plot of the mean `AMOUNT_FINED` by `ESTABLISHMENTTYPE`\n",
    "6. Create a line plot of `INSPECTION_DATE` and `AMOUNT_FINED`\n",
    "\n",
    "**Bonus:**\n",
    "- Explore the dataset and see if you can come up with your own interesting analysis or plot"
   ]
  },
  {
   "cell_type": "code",
   "execution_count": null,
   "metadata": {
    "colab": {},
    "colab_type": "code",
    "id": "3A8BfxsJm-lp"
   },
   "outputs": [],
   "source": [
    "########################\n",
    "# Your Code Below\n",
    "########################"
   ]
  },
  {
   "cell_type": "code",
   "execution_count": null,
   "metadata": {
    "colab": {},
    "colab_type": "code",
    "id": "HzBByfuBFXO-"
   },
   "outputs": [],
   "source": []
  }
 ],
 "metadata": {
  "colab": {
   "name": "python_workshop_demo.ipynb",
   "provenance": [],
   "version": "0.3.2"
  },
  "kernelspec": {
   "display_name": "Python 3",
   "language": "python",
   "name": "python3"
  },
  "language_info": {
   "codemirror_mode": {
    "name": "ipython",
    "version": 3
   },
   "file_extension": ".py",
   "mimetype": "text/x-python",
   "name": "python",
   "nbconvert_exporter": "python",
   "pygments_lexer": "ipython3",
   "version": "3.7.3"
  }
 },
 "nbformat": 4,
 "nbformat_minor": 2
}
