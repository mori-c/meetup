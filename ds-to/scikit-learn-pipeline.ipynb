{
 "cells": [
  {
   "cell_type": "markdown",
   "metadata": {},
   "source": [
    "# Scikit-learn Intro\n",
    "\n",
    "## Helper File Directory\n",
    "\n",
    "[meetups](https://github.com/mori-c/meetups) / [ds-to](https://github.com/mori-c/meetups/tree/master/ds-to) / [helper](https://github.com/mori-c/meetups/tree/master/ds-to/helper) / [Machine Learning](https://github.com/mori-c/meetups/tree/master/ds-to/helper/Machine%20Learning) / [Build a Complete Machine Learning Pipeline with scikit-learn](https://github.com/mori-c/meetups/tree/master/ds-to/helper/Machine%20Learning/Build%20a%20Complete%20Machine%20Learning%20Pipeline%20with%20scikit-learn) /\n",
    "\n",
    "<br />\n",
    "\n",
    "- ds-to/helper/Machine Learning/**Build a Complete Machine Learning Pipeline with scikit-learn**/\n",
    "    - ds-to/helper/Machine Learning/Build a Complete Machine Learning Pipeline with scikit-learn/**data**\n",
    "        - ds-to/helper/Machine Learning/Build a Complete Machine Learning Pipeline with scikit-learn/data/**data_description.txt**\n",
    "        - ds-to/helper/Machine Learning/Build a Complete Machine Learning Pipeline with scikit-learn/data/**test.csv**\n",
    "        - ds-to/helper/Machine Learning/Build a Complete Machine Learning Pipeline with scikit-learn/data/**train.csv**\n",
    "    - ds-to/helper/Machine Learning/Build a Complete Machine Learning Pipeline with scikit-learn/**Custom Estimator.ipynb**\n",
    "    - ds-to/helper/Machine Learning/Build a Complete Machine Learning Pipeline with scikit-learn/**scratch work.ipynb**\n",
    "\n",
    "<!--\n",
    "```\n",
    "ds-to/helper/Machine\\ Learning/Build\\ a\\ Complete\\ Machine\\ Learning\\ Pipeline\\ with\\ scikit-learn/\n",
    "ds-to/helper/Machine\\ Learning/Build\\ a\\ Complete\\ Machine\\ Learning\\ Pipeline\\ with\\ scikit-learn/data\n",
    "ds-to/helper/Machine\\ Learning/Build\\ a\\ Complete\\ Machine\\ Learning\\ Pipeline\\ with\\ scikit-learn/data/data_description.txt\n",
    "ds-to/helper/Machine\\ Learning/Build\\ a\\ Complete\\ Machine\\ Learning\\ Pipeline\\ with\\ scikit-learn/data/test.csv\n",
    "ds-to/helper/Machine\\ Learning/Build\\ a\\ Complete\\ Machine\\ Learning\\ Pipeline\\ with\\ scikit-learn/data/train.csv\n",
    "ds-to/helper/Machine\\ Learning/Build\\ a\\ Complete\\ Machine\\ Learning\\ Pipeline\\ with\\ scikit-learn/Custom\\ Estimator.ipynb\n",
    "ds-to/helper/Machine\\ Learning/Build\\ a\\ Complete\\ Machine\\ Learning\\ Pipeline\\ with\\ scikit-learn/scratch\\ work.ipynb\n",
    "```\n",
    "-->\n",
    "\n",
    "## Resources"
   ]
  },
  {
   "cell_type": "code",
   "execution_count": null,
   "metadata": {},
   "outputs": [],
   "source": []
  },
  {
   "cell_type": "code",
   "execution_count": null,
   "metadata": {},
   "outputs": [],
   "source": []
  }
 ],
 "metadata": {
  "kernelspec": {
   "display_name": "Python 3",
   "language": "python",
   "name": "python3"
  },
  "language_info": {
   "codemirror_mode": {
    "name": "ipython",
    "version": 3
   },
   "file_extension": ".py",
   "mimetype": "text/x-python",
   "name": "python",
   "nbconvert_exporter": "python",
   "pygments_lexer": "ipython3",
   "version": "3.7.3"
  }
 },
 "nbformat": 4,
 "nbformat_minor": 2
}
