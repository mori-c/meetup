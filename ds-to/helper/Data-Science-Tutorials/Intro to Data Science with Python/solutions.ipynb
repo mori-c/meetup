{
 "cells": [
  {
   "cell_type": "markdown",
   "metadata": {},
   "source": [
    "# Solutions\n",
    "\n",
    "1. [NumPy][1]\n",
    "2. [Pandas][2]\n",
    "3. [Seaborn][3]\n",
    "4. [Scikit-Learn][4]\n",
    "\n",
    "[1]: #1.-NumPy\n",
    "[2]: #2.-Pandas\n",
    "[3]: #3.-Seaborn\n",
    "[4]: #4.-Scikit-Learn"
   ]
  },
  {
   "cell_type": "code",
   "execution_count": 1,
   "metadata": {},
   "outputs": [],
   "source": [
    "import numpy as np\n",
    "import pandas as pd\n",
    "import seaborn as sns\n",
    "%matplotlib inline"
   ]
  },
  {
   "cell_type": "markdown",
   "metadata": {},
   "source": [
    "# 1. NumPy"
   ]
  },
  {
   "cell_type": "markdown",
   "metadata": {},
   "source": [
    "### Problem 1\n",
    "<span style=\"color:green\">Create an array with 5 rows and 8 columns of random dice rolls. Assign it to variable `arr` and output it to the screen. Set the random number generation seed to 1 before creation.</span>"
   ]
  },
  {
   "cell_type": "code",
   "execution_count": 28,
   "metadata": {},
   "outputs": [
    {
     "data": {
      "text/plain": [
       "array([[6, 4, 5, 1, 2, 4, 6, 1],\n",
       "       [1, 2, 5, 6, 5, 2, 3, 5],\n",
       "       [6, 3, 5, 4, 5, 3, 5, 6],\n",
       "       [3, 5, 2, 2, 1, 6, 2, 2],\n",
       "       [6, 2, 2, 1, 5, 2, 1, 1]])"
      ]
     },
     "execution_count": 28,
     "metadata": {},
     "output_type": "execute_result"
    }
   ],
   "source": [
    "np.random.seed(1)\n",
    "arr = np.random.randint(1, 7, (5, 8))\n",
    "arr"
   ]
  },
  {
   "cell_type": "markdown",
   "metadata": {},
   "source": [
    "### Problem 2\n",
    "<span style=\"color:green\">Select single elements of `arr` multiple times.</span>"
   ]
  },
  {
   "cell_type": "code",
   "execution_count": 29,
   "metadata": {},
   "outputs": [
    {
     "data": {
      "text/plain": [
       "6"
      ]
     },
     "execution_count": 29,
     "metadata": {},
     "output_type": "execute_result"
    }
   ],
   "source": [
    "arr[1, 3]"
   ]
  },
  {
   "cell_type": "code",
   "execution_count": 30,
   "metadata": {},
   "outputs": [
    {
     "data": {
      "text/plain": [
       "1"
      ]
     },
     "execution_count": 30,
     "metadata": {},
     "output_type": "execute_result"
    }
   ],
   "source": [
    "arr[-1, -2]"
   ]
  },
  {
   "cell_type": "code",
   "execution_count": 31,
   "metadata": {},
   "outputs": [
    {
     "data": {
      "text/plain": [
       "5"
      ]
     },
     "execution_count": 31,
     "metadata": {},
     "output_type": "execute_result"
    }
   ],
   "source": [
    "arr[4, 4]"
   ]
  },
  {
   "cell_type": "markdown",
   "metadata": {},
   "source": [
    "### Problem 3\n",
    "<span style=\"color:green\">Select many subsets of elements of `arr` using slice notation.</span>"
   ]
  },
  {
   "cell_type": "code",
   "execution_count": 32,
   "metadata": {},
   "outputs": [
    {
     "data": {
      "text/plain": [
       "array([[4, 5],\n",
       "       [2, 1]])"
      ]
     },
     "execution_count": 32,
     "metadata": {},
     "output_type": "execute_result"
    }
   ],
   "source": [
    "arr[2:4, 3:5]"
   ]
  },
  {
   "cell_type": "code",
   "execution_count": 33,
   "metadata": {},
   "outputs": [
    {
     "data": {
      "text/plain": [
       "array([[6, 3, 5, 4, 5, 3, 5, 6],\n",
       "       [3, 5, 2, 2, 1, 6, 2, 2]])"
      ]
     },
     "execution_count": 33,
     "metadata": {},
     "output_type": "execute_result"
    }
   ],
   "source": [
    "# this selects all of the columns\n",
    "arr[2:4]"
   ]
  },
  {
   "cell_type": "code",
   "execution_count": 34,
   "metadata": {},
   "outputs": [
    {
     "data": {
      "text/plain": [
       "array([5, 5, 5, 2, 2])"
      ]
     },
     "execution_count": 34,
     "metadata": {},
     "output_type": "execute_result"
    }
   ],
   "source": [
    "# Select all of the rows\n",
    "arr[:, 2]"
   ]
  },
  {
   "cell_type": "markdown",
   "metadata": {},
   "source": [
    "### Problem 4\n",
    "<span style=\"color:green\">Practice using the basic vectorized arithmetic operations.</span>"
   ]
  },
  {
   "cell_type": "code",
   "execution_count": 35,
   "metadata": {},
   "outputs": [
    {
     "data": {
      "text/plain": [
       "array([[3. , 2. , 2.5, 0.5, 1. , 2. , 3. , 0.5],\n",
       "       [0.5, 1. , 2.5, 3. , 2.5, 1. , 1.5, 2.5],\n",
       "       [3. , 1.5, 2.5, 2. , 2.5, 1.5, 2.5, 3. ],\n",
       "       [1.5, 2.5, 1. , 1. , 0.5, 3. , 1. , 1. ],\n",
       "       [3. , 1. , 1. , 0.5, 2.5, 1. , 0.5, 0.5]])"
      ]
     },
     "execution_count": 35,
     "metadata": {},
     "output_type": "execute_result"
    }
   ],
   "source": [
    "arr / 2"
   ]
  },
  {
   "cell_type": "code",
   "execution_count": 36,
   "metadata": {},
   "outputs": [
    {
     "data": {
      "text/plain": [
       "array([[3, 2, 2, 0, 1, 2, 3, 0],\n",
       "       [0, 1, 2, 3, 2, 1, 1, 2],\n",
       "       [3, 1, 2, 2, 2, 1, 2, 3],\n",
       "       [1, 2, 1, 1, 0, 3, 1, 1],\n",
       "       [3, 1, 1, 0, 2, 1, 0, 0]])"
      ]
     },
     "execution_count": 36,
     "metadata": {},
     "output_type": "execute_result"
    }
   ],
   "source": [
    "# floor division\n",
    "arr // 2"
   ]
  },
  {
   "cell_type": "code",
   "execution_count": 37,
   "metadata": {},
   "outputs": [
    {
     "data": {
      "text/plain": [
       "array([[36, 16, 25,  1,  4, 16, 36,  1],\n",
       "       [ 1,  4, 25, 36, 25,  4,  9, 25],\n",
       "       [36,  9, 25, 16, 25,  9, 25, 36],\n",
       "       [ 9, 25,  4,  4,  1, 36,  4,  4],\n",
       "       [36,  4,  4,  1, 25,  4,  1,  1]])"
      ]
     },
     "execution_count": 37,
     "metadata": {},
     "output_type": "execute_result"
    }
   ],
   "source": [
    "# raise to a power\n",
    "arr ** 2"
   ]
  },
  {
   "cell_type": "code",
   "execution_count": 38,
   "metadata": {},
   "outputs": [
    {
     "data": {
      "text/plain": [
       "array([[0, 1, 2, 1, 2, 1, 0, 1],\n",
       "       [1, 2, 2, 0, 2, 2, 0, 2],\n",
       "       [0, 0, 2, 1, 2, 0, 2, 0],\n",
       "       [0, 2, 2, 2, 1, 0, 2, 2],\n",
       "       [0, 2, 2, 1, 2, 2, 1, 1]])"
      ]
     },
     "execution_count": 38,
     "metadata": {},
     "output_type": "execute_result"
    }
   ],
   "source": [
    "# modulus - get remainder\n",
    "arr % 3"
   ]
  },
  {
   "cell_type": "markdown",
   "metadata": {},
   "source": [
    "### Problem 5\n",
    "<span style=\"color:green\">Practice calling many of the methods. Use the tab completion help to find them. Change the direction of operation with the **`axis`** parameter.</span>"
   ]
  },
  {
   "cell_type": "code",
   "execution_count": 39,
   "metadata": {},
   "outputs": [
    {
     "data": {
      "text/plain": [
       "1.8159019797334879"
      ]
     },
     "execution_count": 39,
     "metadata": {},
     "output_type": "execute_result"
    }
   ],
   "source": [
    "arr.std()"
   ]
  },
  {
   "cell_type": "code",
   "execution_count": 40,
   "metadata": {},
   "outputs": [
    {
     "data": {
      "text/plain": [
       "0"
      ]
     },
     "execution_count": 40,
     "metadata": {},
     "output_type": "execute_result"
    }
   ],
   "source": [
    "arr.argmax()"
   ]
  },
  {
   "cell_type": "code",
   "execution_count": 41,
   "metadata": {},
   "outputs": [
    {
     "data": {
      "text/plain": [
       "array([0, 3, 0, 1, 1, 3, 0, 2])"
      ]
     },
     "execution_count": 41,
     "metadata": {},
     "output_type": "execute_result"
    }
   ],
   "source": [
    "arr.argmax(axis=0)"
   ]
  },
  {
   "cell_type": "code",
   "execution_count": 42,
   "metadata": {},
   "outputs": [
    {
     "data": {
      "text/plain": [
       "array([  6,  10,  15,  16,  18,  22,  28,  29,  30,  32,  37,  43,  48,\n",
       "        50,  53,  58,  64,  67,  72,  76,  81,  84,  89,  95,  98, 103,\n",
       "       105, 107, 108, 114, 116, 118, 124, 126, 128, 129, 134, 136, 137,\n",
       "       138])"
      ]
     },
     "execution_count": 42,
     "metadata": {},
     "output_type": "execute_result"
    }
   ],
   "source": [
    "arr.cumsum()"
   ]
  },
  {
   "cell_type": "code",
   "execution_count": 44,
   "metadata": {},
   "outputs": [
    {
     "data": {
      "text/plain": [
       "array([[ 6, 10, 15, 16, 18, 22, 28, 29],\n",
       "       [ 1,  3,  8, 14, 19, 21, 24, 29],\n",
       "       [ 6,  9, 14, 18, 23, 26, 31, 37],\n",
       "       [ 3,  8, 10, 12, 13, 19, 21, 23],\n",
       "       [ 6,  8, 10, 11, 16, 18, 19, 20]])"
      ]
     },
     "execution_count": 44,
     "metadata": {},
     "output_type": "execute_result"
    }
   ],
   "source": [
    "# across\n",
    "arr.cumsum(axis=1)"
   ]
  },
  {
   "cell_type": "code",
   "execution_count": 45,
   "metadata": {},
   "outputs": [
    {
     "data": {
      "text/plain": [
       "array([6, 6, 6, 4, 4, 4, 5, 5, 5, 1, 1, 1, 2, 2, 2, 4, 4, 4, 6, 6, 6, 1,\n",
       "       1, 1, 1, 1, 1, 2, 2, 2, 5, 5, 5, 6, 6, 6, 5, 5, 5, 2, 2, 2, 3, 3,\n",
       "       3, 5, 5, 5, 6, 6, 6, 3, 3, 3, 5, 5, 5, 4, 4, 4, 5, 5, 5, 3, 3, 3,\n",
       "       5, 5, 5, 6, 6, 6, 3, 3, 3, 5, 5, 5, 2, 2, 2, 2, 2, 2, 1, 1, 1, 6,\n",
       "       6, 6, 2, 2, 2, 2, 2, 2, 6, 6, 6, 2, 2, 2, 2, 2, 2, 1, 1, 1, 5, 5,\n",
       "       5, 2, 2, 2, 1, 1, 1, 1, 1, 1])"
      ]
     },
     "execution_count": 45,
     "metadata": {},
     "output_type": "execute_result"
    }
   ],
   "source": [
    "arr.repeat(3)"
   ]
  },
  {
   "cell_type": "markdown",
   "metadata": {},
   "source": [
    "### Problem 6\n",
    "<span style=\"color:green\">Practice calling many NumPy functions. Find them by using tab completion with **`np.`**.  Use the functions that have an array as their first parameter.</span>"
   ]
  },
  {
   "cell_type": "code",
   "execution_count": 48,
   "metadata": {},
   "outputs": [
    {
     "data": {
      "text/plain": [
       "array([[1.40564765, 1.32581766, 1.37340077, 0.78539816, 1.10714872,\n",
       "        1.32581766, 1.40564765, 0.78539816],\n",
       "       [0.78539816, 1.10714872, 1.37340077, 1.40564765, 1.37340077,\n",
       "        1.10714872, 1.24904577, 1.37340077],\n",
       "       [1.40564765, 1.24904577, 1.37340077, 1.32581766, 1.37340077,\n",
       "        1.24904577, 1.37340077, 1.40564765],\n",
       "       [1.24904577, 1.37340077, 1.10714872, 1.10714872, 0.78539816,\n",
       "        1.40564765, 1.10714872, 1.10714872],\n",
       "       [1.40564765, 1.10714872, 1.10714872, 0.78539816, 1.37340077,\n",
       "        1.10714872, 0.78539816, 0.78539816]])"
      ]
     },
     "execution_count": 48,
     "metadata": {},
     "output_type": "execute_result"
    }
   ],
   "source": [
    "np.arctan(arr)"
   ]
  },
  {
   "cell_type": "code",
   "execution_count": 49,
   "metadata": {},
   "outputs": [
    {
     "data": {
      "text/plain": [
       "array([6, 2, 5, 2, 5])"
      ]
     },
     "execution_count": 49,
     "metadata": {},
     "output_type": "execute_result"
    }
   ],
   "source": [
    "np.diag(arr)"
   ]
  },
  {
   "cell_type": "code",
   "execution_count": 56,
   "metadata": {},
   "outputs": [
    {
     "data": {
      "text/plain": [
       "array([1.024, 2.   , 2.   , 1.   , 1.012, 2.   , 1.012, 1.   ])"
      ]
     },
     "execution_count": 56,
     "metadata": {},
     "output_type": "execute_result"
    }
   ],
   "source": [
    "# Get the 30th percentile of each column\n",
    "np.percentile(arr, q=.3, axis=0)"
   ]
  },
  {
   "cell_type": "markdown",
   "metadata": {},
   "source": [
    "### Problem 7\n",
    "<span style=\"color:green\">Which column has the highest average roll?</span>"
   ]
  },
  {
   "cell_type": "code",
   "execution_count": 58,
   "metadata": {},
   "outputs": [
    {
     "data": {
      "text/plain": [
       "array([3.625, 3.625, 4.625, 2.875, 2.5  ])"
      ]
     },
     "execution_count": 58,
     "metadata": {},
     "output_type": "execute_result"
    }
   ],
   "source": [
    "# third column\n",
    "arr.mean(axis=1)"
   ]
  },
  {
   "cell_type": "code",
   "execution_count": 59,
   "metadata": {},
   "outputs": [
    {
     "data": {
      "text/plain": [
       "2"
      ]
     },
     "execution_count": 59,
     "metadata": {},
     "output_type": "execute_result"
    }
   ],
   "source": [
    "# automate with numpy\n",
    "arr.mean(axis=1).argmax()"
   ]
  },
  {
   "cell_type": "markdown",
   "metadata": {},
   "source": [
    "### Problem 8\n",
    "<span style=\"color:green\">Find the average roll for all rolls. Then find the average roll for each row. Which rows have an average that is higher than the average for all rolls?"
   ]
  },
  {
   "cell_type": "code",
   "execution_count": 60,
   "metadata": {},
   "outputs": [
    {
     "data": {
      "text/plain": [
       "3.45"
      ]
     },
     "execution_count": 60,
     "metadata": {},
     "output_type": "execute_result"
    }
   ],
   "source": [
    "overall_avg = arr.mean()\n",
    "overall_avg"
   ]
  },
  {
   "cell_type": "code",
   "execution_count": 61,
   "metadata": {},
   "outputs": [
    {
     "data": {
      "text/plain": [
       "array([3.625, 3.625, 4.625, 2.875, 2.5  ])"
      ]
     },
     "execution_count": 61,
     "metadata": {},
     "output_type": "execute_result"
    }
   ],
   "source": [
    "row_avg = arr.mean(axis=1)\n",
    "row_avg"
   ]
  },
  {
   "cell_type": "code",
   "execution_count": 62,
   "metadata": {},
   "outputs": [
    {
     "data": {
      "text/plain": [
       "array([ True,  True,  True, False, False])"
      ]
     },
     "execution_count": 62,
     "metadata": {},
     "output_type": "execute_result"
    }
   ],
   "source": [
    "row_avg > overall_avg"
   ]
  },
  {
   "cell_type": "code",
   "execution_count": 64,
   "metadata": {},
   "outputs": [
    {
     "data": {
      "text/plain": [
       "(array([0, 1, 2]),)"
      ]
     },
     "execution_count": 64,
     "metadata": {},
     "output_type": "execute_result"
    }
   ],
   "source": [
    "# get the location of rows that are True\n",
    "np.where(row_avg > overall_avg)"
   ]
  },
  {
   "cell_type": "markdown",
   "metadata": {},
   "source": [
    "# 2. Pandas"
   ]
  },
  {
   "cell_type": "markdown",
   "metadata": {},
   "source": [
    "# 3. Seaborn"
   ]
  },
  {
   "cell_type": "markdown",
   "metadata": {},
   "source": [
    "# 4. Scikit-Learn"
   ]
  },
  {
   "cell_type": "code",
   "execution_count": null,
   "metadata": {},
   "outputs": [],
   "source": []
  }
 ],
 "metadata": {
  "kernelspec": {
   "display_name": "Python 3",
   "language": "python",
   "name": "python3"
  },
  "language_info": {
   "codemirror_mode": {
    "name": "ipython",
    "version": 3
   },
   "file_extension": ".py",
   "mimetype": "text/x-python",
   "name": "python",
   "nbconvert_exporter": "python",
   "pygments_lexer": "ipython3",
   "version": "3.6.4"
  }
 },
 "nbformat": 4,
 "nbformat_minor": 2
}
