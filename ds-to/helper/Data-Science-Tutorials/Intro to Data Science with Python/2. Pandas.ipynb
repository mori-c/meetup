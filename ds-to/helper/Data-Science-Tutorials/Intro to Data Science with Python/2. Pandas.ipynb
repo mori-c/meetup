{
 "cells": [
  {
   "cell_type": "markdown",
   "metadata": {},
   "source": [
    "# Intro to Pandas\n",
    "Pandas is the primary Python library for doing basic data analysis. If you are a data scientist, much of your life will be spent manipulating data in Pandas. Pandas provides a nice layering on top of NumPy to make data analysis much easier. In particular, the primary data structure, the DataFrame, provides labels for both the rows and the columns. This makes for much easier access to the elements within.\n",
    "\n",
    "### City of Houston Employee Data\n",
    "We will use City of Houston Employee data found on the city's [open data website][1]\n",
    "\n",
    "[1]: http://data.houstontx.gov/"
   ]
  },
  {
   "cell_type": "code",
   "execution_count": null,
   "metadata": {},
   "outputs": [],
   "source": [
    "import pandas as pd"
   ]
  },
  {
   "cell_type": "code",
   "execution_count": null,
   "metadata": {},
   "outputs": [],
   "source": [
    "# read in the data\n",
    "emp = pd.read_csv('data/employee.csv')"
   ]
  },
  {
   "cell_type": "markdown",
   "metadata": {},
   "source": [
    "### Use the `head` method to shorten output\n",
    "By default it returns the first 5 rows."
   ]
  },
  {
   "cell_type": "code",
   "execution_count": null,
   "metadata": {},
   "outputs": [],
   "source": [
    "emp.head()"
   ]
  },
  {
   "cell_type": "markdown",
   "metadata": {},
   "source": [
    "Use an integer for another number of rows"
   ]
  },
  {
   "cell_type": "code",
   "execution_count": null,
   "metadata": {},
   "outputs": [],
   "source": [
    "emp.head(7)"
   ]
  },
  {
   "cell_type": "markdown",
   "metadata": {},
   "source": [
    "# Components of the DataFrame\n",
    "The vast majority of an analysis takes place inside a DataFrame. There are three components to a DataFrame, the **index**, the **columns** and the **data** or **values**. The index labels the rows, the column names label the columns and the data are the actual values that we manipulate during an analysis.\n",
    "\n",
    "![anatomy](./images/Components of a DataFrame.png)"
   ]
  },
  {
   "cell_type": "markdown",
   "metadata": {},
   "source": [
    "### DataFrame attributes and methods\n",
    "Like NumPy arrays, much of the power of the DataFrame is done with method calls."
   ]
  },
  {
   "cell_type": "markdown",
   "metadata": {},
   "source": [
    "## DataFrame Attributes\n",
    "\n",
    "### Column data types\n",
    "A very important attribute is **`dtypes`** which returns the data type of each column. It is imperative to know the data type of each column.\n",
    "\n",
    "### Main data types\n",
    "* bool\n",
    "* int\n",
    "* float\n",
    "* object\n",
    "* datetime\n",
    "\n",
    "The vast majority of columns will be one of the above data types"
   ]
  },
  {
   "cell_type": "markdown",
   "metadata": {},
   "source": [
    "### DataFrame attributes and methods\n",
    "Like NumPy arrays, much of the power of the DataFrame is done with method calls. Let's find the data types of each column:"
   ]
  },
  {
   "cell_type": "code",
   "execution_count": null,
   "metadata": {},
   "outputs": [],
   "source": [
    "emp.dtypes"
   ]
  },
  {
   "cell_type": "code",
   "execution_count": null,
   "metadata": {},
   "outputs": [],
   "source": [
    "emp.shape"
   ]
  },
  {
   "cell_type": "markdown",
   "metadata": {},
   "source": [
    "# DataFrame methods\n",
    "A powerful method to find all the summary statistics is the **`describe`** column."
   ]
  },
  {
   "cell_type": "code",
   "execution_count": null,
   "metadata": {},
   "outputs": [],
   "source": [
    "# by default, it only outputs summary stats for numeric columns\n",
    "emp.describe()"
   ]
  },
  {
   "cell_type": "markdown",
   "metadata": {},
   "source": [
    "### Summary of string columns"
   ]
  },
  {
   "cell_type": "code",
   "execution_count": null,
   "metadata": {},
   "outputs": [],
   "source": [
    "emp.describe(include='object')"
   ]
  },
  {
   "cell_type": "markdown",
   "metadata": {},
   "source": [
    "# Categorical vs Continuous\n",
    "Data can be categorized into two broad types. Data that is discrete and countable is called **categorical**. These variables usually have strings as values but sometimes numeric values like year or age may be considered categorical. **Continuous** variables on the other hand are always numeric. Lot size or sale price are examples of continuous variables."
   ]
  },
  {
   "cell_type": "markdown",
   "metadata": {},
   "source": [
    "## Selecting Single Columns of Data - A Series\n",
    "Each column of data may be selected with the brackets by passing the column name as a string. A pandas Series is a single dimensional data structure with an index and values. It has no columns. It is very similar to a DataFrame."
   ]
  },
  {
   "cell_type": "code",
   "execution_count": null,
   "metadata": {},
   "outputs": [],
   "source": [
    "# Select a single column\n",
    "salary = emp['salary']\n",
    "salary.head(10)"
   ]
  },
  {
   "cell_type": "markdown",
   "metadata": {},
   "source": [
    "![](images/Components of a Series.png)"
   ]
  },
  {
   "cell_type": "markdown",
   "metadata": {},
   "source": [
    "## Series and DataFrame methods overlap\n",
    "Series are just a single column of data and most of its methods are in common with the DataFrame."
   ]
  },
  {
   "cell_type": "markdown",
   "metadata": {},
   "source": [
    "### Counting the values of categorical data\n",
    "The **`value_counts`** method (unique to Series) is valuable for getting an idea of the distribution of categorical variables."
   ]
  },
  {
   "cell_type": "code",
   "execution_count": null,
   "metadata": {},
   "outputs": [],
   "source": [
    "race = emp['race']"
   ]
  },
  {
   "cell_type": "code",
   "execution_count": null,
   "metadata": {},
   "outputs": [],
   "source": [
    "race.value_counts()"
   ]
  },
  {
   "cell_type": "markdown",
   "metadata": {},
   "source": [
    "## Get the percentage of occurrence by using `normalize=True`"
   ]
  },
  {
   "cell_type": "code",
   "execution_count": null,
   "metadata": {},
   "outputs": [],
   "source": [
    "race.value_counts(normalize=True)"
   ]
  },
  {
   "cell_type": "code",
   "execution_count": null,
   "metadata": {},
   "outputs": [],
   "source": [
    "dept = emp['dept']\n",
    "dept.value_counts()"
   ]
  },
  {
   "cell_type": "markdown",
   "metadata": {},
   "source": [
    "## Many of the same methods exist for NumPy arrays and Pandas DataFrames and Series"
   ]
  },
  {
   "cell_type": "code",
   "execution_count": null,
   "metadata": {},
   "outputs": [],
   "source": [
    "salary.max()"
   ]
  },
  {
   "cell_type": "code",
   "execution_count": null,
   "metadata": {},
   "outputs": [],
   "source": [
    "salary.min()"
   ]
  },
  {
   "cell_type": "markdown",
   "metadata": {},
   "source": [
    "## The arithmetic and comparison operators work the same"
   ]
  },
  {
   "cell_type": "code",
   "execution_count": null,
   "metadata": {},
   "outputs": [],
   "source": [
    "bonus = 10000\n",
    "(salary + bonus).head()"
   ]
  },
  {
   "cell_type": "code",
   "execution_count": null,
   "metadata": {},
   "outputs": [],
   "source": [
    "# determine if salary is greater than 100k\n",
    "(salary > 100000).head()"
   ]
  },
  {
   "cell_type": "markdown",
   "metadata": {},
   "source": [
    "# Practice \n",
    "* Select columns as Series.\n",
    "* Call DataFrame/Series Methods\n",
    "* Use **shift + tab + tab** to read the documentation"
   ]
  },
  {
   "cell_type": "code",
   "execution_count": null,
   "metadata": {},
   "outputs": [],
   "source": [
    "# your code here"
   ]
  },
  {
   "cell_type": "code",
   "execution_count": null,
   "metadata": {},
   "outputs": [],
   "source": []
  },
  {
   "cell_type": "code",
   "execution_count": null,
   "metadata": {},
   "outputs": [],
   "source": []
  },
  {
   "cell_type": "code",
   "execution_count": null,
   "metadata": {},
   "outputs": [],
   "source": []
  },
  {
   "cell_type": "markdown",
   "metadata": {},
   "source": [
    "# Grouping and Aggregating\n",
    "One of the most common operations during an analysis is to divide the data into groups and aggregate some other dimension of data.\n",
    "\n",
    "![](images/split-apply-combine small.png)\n",
    "\n",
    "### The three components of a groupby aggregation\n",
    "* **Grouping Column** - Column whose unique values form groups\n",
    "* **Aggregating Column** - Column whose values we are going to aggregate (return a single value from)\n",
    "* **Aggregating Function** - The type of aggregation. i.e. sum, min, max, median, etc...\n",
    "\n",
    "## Syntax\n",
    "\n",
    "### `df.groupby('grouping column').agg({'aggregating column': 'aggregating function'})`\n",
    "\n",
    "\n",
    "\n",
    "# Find the average salary by race\n",
    "\n",
    "### Identify grouping column\n",
    "### Identify aggregating column\n",
    "### Identify aggregating function"
   ]
  },
  {
   "cell_type": "code",
   "execution_count": null,
   "metadata": {},
   "outputs": [],
   "source": [
    "# force to be integer to remove decimals\n",
    "emp.groupby('race').agg({'salary': 'mean'}).astype('int')"
   ]
  },
  {
   "cell_type": "markdown",
   "metadata": {},
   "source": [
    "# What is an aggregating function?\n",
    "The formal definition of an aggregating function is one that summarizes many numbers by a single value. Sum, min, max, median, etc... are all aggregating functions."
   ]
  },
  {
   "cell_type": "markdown",
   "metadata": {},
   "source": [
    "# Group by multiple columns\n",
    "# Aggregate multiple columns\n",
    "# Use multiple aggregating functions\n",
    "When using multiple of any of the three components of a groupby, use a list."
   ]
  },
  {
   "cell_type": "code",
   "execution_count": null,
   "metadata": {},
   "outputs": [],
   "source": [
    "emp.groupby(['race', 'gender']).agg({'salary': ['mean', 'max']}).astype('int')"
   ]
  },
  {
   "cell_type": "code",
   "execution_count": null,
   "metadata": {},
   "outputs": [],
   "source": [
    "emp.groupby(['race', 'gender']).agg({'salary': ['mean', 'max'], 'experience': ['size', 'sum', 'mean']}).astype('int')"
   ]
  },
  {
   "cell_type": "markdown",
   "metadata": {},
   "source": [
    "# Practice Grouping and aggregating"
   ]
  },
  {
   "cell_type": "code",
   "execution_count": null,
   "metadata": {},
   "outputs": [],
   "source": [
    "# your code here"
   ]
  },
  {
   "cell_type": "code",
   "execution_count": null,
   "metadata": {},
   "outputs": [],
   "source": []
  },
  {
   "cell_type": "code",
   "execution_count": null,
   "metadata": {},
   "outputs": [],
   "source": []
  },
  {
   "cell_type": "code",
   "execution_count": null,
   "metadata": {},
   "outputs": [],
   "source": []
  },
  {
   "cell_type": "code",
   "execution_count": null,
   "metadata": {},
   "outputs": [],
   "source": []
  },
  {
   "cell_type": "code",
   "execution_count": null,
   "metadata": {},
   "outputs": [],
   "source": []
  },
  {
   "cell_type": "code",
   "execution_count": null,
   "metadata": {},
   "outputs": [],
   "source": []
  },
  {
   "cell_type": "code",
   "execution_count": null,
   "metadata": {},
   "outputs": [],
   "source": []
  },
  {
   "cell_type": "markdown",
   "metadata": {},
   "source": [
    "# Pivot Tables\n",
    "Pivot tables also group and aggregate data, but they do so by placing one of the grouping columns across the columns. For instance, if we were to redo our groupby above with race and gender from two cells above. We could have unique values of gender going across the columns.\n",
    "\n",
    "The syntax is a little different\n",
    "\n",
    "#### `df.pivot_table(index='grouping #1', columns='grouping #2', values='agg col', aggfunc='agg function')`"
   ]
  },
  {
   "cell_type": "code",
   "execution_count": null,
   "metadata": {},
   "outputs": [],
   "source": [
    "emp.pivot_table(index='race', columns='gender', values='salary', aggfunc='mean').astype('int')"
   ]
  },
  {
   "cell_type": "markdown",
   "metadata": {},
   "source": [
    "Pivot tables generally have more readable output."
   ]
  },
  {
   "cell_type": "markdown",
   "metadata": {},
   "source": [
    "## Plotting directly from a Pandas DataFrame\n",
    "DataFrames conveniently provide a plot method to directly plot without directly using matplotlib."
   ]
  },
  {
   "cell_type": "code",
   "execution_count": null,
   "metadata": {},
   "outputs": [],
   "source": [
    "%matplotlib inline"
   ]
  },
  {
   "cell_type": "code",
   "execution_count": null,
   "metadata": {},
   "outputs": [],
   "source": [
    "emp.plot(kind='scatter', x='experience', y='salary',figsize=(12,6))"
   ]
  },
  {
   "cell_type": "markdown",
   "metadata": {},
   "source": [
    "# Pandas is better at plotting summarized data (after a pivot)\n",
    "Each column is plotted independently. The index becomes the x-axis."
   ]
  },
  {
   "cell_type": "code",
   "execution_count": null,
   "metadata": {},
   "outputs": [],
   "source": [
    "rg_sal = emp.pivot_table(index='race', columns='gender', values='salary', aggfunc='mean').astype('int')\n",
    "rg_sal"
   ]
  },
  {
   "cell_type": "code",
   "execution_count": null,
   "metadata": {},
   "outputs": [],
   "source": [
    "rg_sal.plot(kind='bar', figsize=(10, 6))"
   ]
  }
 ],
 "metadata": {
  "kernelspec": {
   "display_name": "Python 3",
   "language": "python",
   "name": "python3"
  },
  "language_info": {
   "codemirror_mode": {
    "name": "ipython",
    "version": 3
   },
   "file_extension": ".py",
   "mimetype": "text/x-python",
   "name": "python",
   "nbconvert_exporter": "python",
   "pygments_lexer": "ipython3",
   "version": "3.6.4"
  }
 },
 "nbformat": 4,
 "nbformat_minor": 2
}
