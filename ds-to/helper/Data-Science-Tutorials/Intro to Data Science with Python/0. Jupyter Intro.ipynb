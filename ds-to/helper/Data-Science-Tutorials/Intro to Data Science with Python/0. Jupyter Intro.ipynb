{
 "cells": [
  {
   "cell_type": "markdown",
   "metadata": {},
   "source": [
    "# Welcome to Jupyter Notebooks\n",
    "\n",
    "Jupyter notebooks have become very popular in recent years. They allow you to combine code, text, visualizations and other web-based elements all in a single place and are great for collaboration.\n",
    "\n",
    "## All notebooks are composed of cells\n",
    "Jupyter Notebooks are composed of **cells**. Every bit of content within a Jupyter Notebook, including this text, resides within a **cell**.\n",
    "\n",
    "## Markdown and Code cells\n",
    "There are two primary types of cells - **Markdown** and **Code** cells. \n",
    "\n",
    "This current cell is a markdown cell. Markdown is a simple plain-text language that allows you to add some basic styles and links with little effort. This class will not cover markdown, but it is easy to learn.\n",
    "\n",
    "For nearly all of the class, you will be working inside a **Code** cell. Code cells are where you write and execute your Python code.\n",
    "\n",
    "![][1]\n",
    "\n",
    "\n",
    "# Executing Cells\n",
    "To execute the contents of a code cell with Python inside of it press **shift + enter**. If the last line of code in your cell produces any output, then this value will be displayed in the **`Out`** cell directly below it. If your last line of code produces no output, then there will be no **`Out`** cell. Run the following cell by pressing **shift** + **enter**\n",
    "\n",
    "[1]: images/code_cell.png"
   ]
  },
  {
   "cell_type": "code",
   "execution_count": null,
   "metadata": {},
   "outputs": [],
   "source": [
    "# press shift enter to execute this cell\n",
    "5 + 4"
   ]
  },
  {
   "cell_type": "markdown",
   "metadata": {},
   "source": [
    "## Best features of the notebook\n",
    "### Tab code completion\n",
    "Since the notebook is running directly off of IPython, it takes advantage of all it has to offer. One of the most common and popular features is tab completion. Place your cursor after the dot below and press tab. A menu should pop up of all the available methods for strings."
   ]
  },
  {
   "cell_type": "code",
   "execution_count": null,
   "metadata": {},
   "outputs": [],
   "source": [
    "# run this cell\n",
    "s = 'a random string'"
   ]
  },
  {
   "cell_type": "code",
   "execution_count": null,
   "metadata": {},
   "outputs": [],
   "source": [
    "# place your cursor after the dot and press tab\n",
    "s."
   ]
  },
  {
   "cell_type": "markdown",
   "metadata": {},
   "source": [
    "### Docstring help with `shift + tab + tab`\n",
    "Now we will pop up the docstrings. After we choose an object we can press **shift** + **tab** + **tab** to pop up the docstrings which are helpful in giving us information on how to use the object."
   ]
  },
  {
   "cell_type": "code",
   "execution_count": null,
   "metadata": {},
   "outputs": [],
   "source": [
    "# put the cursor in the word find and press 'shift + tab + tab'\n",
    "s.find"
   ]
  },
  {
   "cell_type": "markdown",
   "metadata": {},
   "source": [
    "# Python Data Science Stack\n",
    "\n",
    "The next few notebooks will cover the very basics of \n",
    "+ NumPy\n",
    "+ Pandas\n",
    "+ Seaborn\n",
    "+ Scikit-learn\n",
    "\n",
    "## Descriptions\n",
    "* **NumPy** is the foundation of scientific computing in Python. NumPy is a low-level library that does extremely fast (for Python standards) array computations. \n",
    "* **Pandas** is a higher level library that gives its users much nice data structures for manipulating and analyzing data. \n",
    "* **Seaborn** is built on top of Matplotlib and provides an easy-to-use API to produce beautiful plots in one line of code. \n",
    "* **Statsmodels** has lots of power to do a variety of statistical testing \n",
    "* **Scikit-Learn** provides machine learning tools and models that are easy to use\n",
    "\n",
    "## Other Libraries\n",
    "The above libraries are very popular and used very frequently by data scientists that use Python. There are several other libraries that are also quite popular.\n",
    "\n",
    "* **Matplotlib** - Python's primary visualization library. Gives users the ability to control every aspect of the plotting surface. Seaborn is built on top of it.\n",
    "* **Statsmodels** - Provides detailed results from a variety of statistical models and tests\n",
    "* **Scipy** - Extends NumPy to include many more functions and algorithms for scientific computing (integration, fourier transformations, linear algebra)\n",
    "* **Keras** - High level, easy to use deep learning library\n",
    "* **Tensorflow** - High performance computing, most notable for use in deep learning\n",
    "* **NLTK** - Natural language processing library\n",
    "* **Bokeh** - Visualization library built for deploying graphics to the web\n",
    "* **Plotly** - Another visualization library targeting the web - especially dashboards\n",
    "* **NetworkX** - Used for the creation, manipulation, and study of the structure, dynamics, and functions of complex networks\n",
    "* **Scikit-Image** - A collection of algorithms for image processing"
   ]
  },
  {
   "cell_type": "markdown",
   "metadata": {},
   "source": [
    "## References\n",
    "* [Jupyter official documentation][1]\n",
    "* [Tutorial part of Jupyter documentation][2]\n",
    "\n",
    "[1]: http://jupyter-notebook.readthedocs.io/en/latest/\n",
    "[2]: http://jupyter-notebook.readthedocs.io/en/latest/examples/Notebook/What%20is%20the%20Jupyter%20Notebook.html"
   ]
  }
 ],
 "metadata": {
  "kernelspec": {
   "display_name": "Python 3",
   "language": "python",
   "name": "python3"
  },
  "language_info": {
   "codemirror_mode": {
    "name": "ipython",
    "version": 3
   },
   "file_extension": ".py",
   "mimetype": "text/x-python",
   "name": "python",
   "nbconvert_exporter": "python",
   "pygments_lexer": "ipython3",
   "version": "3.6.4"
  }
 },
 "nbformat": 4,
 "nbformat_minor": 2
}
