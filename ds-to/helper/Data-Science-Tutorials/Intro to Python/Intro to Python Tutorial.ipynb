{
 "cells": [
  {
   "cell_type": "markdown",
   "metadata": {},
   "source": [
    "# Introduction to Python\n",
    "\n",
    "\n",
    "## What are Jupyter Notebooks and why are we using them?\n",
    "Jupyter Notebooks allow you to interactively write code, visualize results, and enhance the output via markdown, html, latex ($c = \\sqrt{a^2 + b^2}$), and other rich content streams (see Python image!) ![caption][1]\n",
    "\n",
    "We are using them because they provide an excellent means to iteratively and interactively explore and visualize data in one place. They are also great for showing examples and providing space for students to complete exercises.\n",
    "\n",
    "\n",
    "# Getting Started with Jupyter Notebooks - the basics\n",
    "\n",
    "## All notebooks are composed of cells\n",
    "Jupyter Notebooks are composed of **cells**. Every bit of content within a Jupyter Notebook, including this text, resides within a **cell**.\n",
    "\n",
    "## Markdown and Code cells\n",
    "There are two primary types of cells - **Markdown** and **Code** cells. \n",
    "\n",
    "This current cell is a markdown cell. Markdown is a simple plain-text language that allows you to add some basic styles and links with little effort. This class will not cover markdown, but it is easy to learn.\n",
    "\n",
    "For nearly all of the class, you will be working inside a **Code** cell. Code cells are where you write and execute your Python code.\n",
    "\n",
    "![][2]\n",
    "\n",
    "\n",
    "# Executing Cells\n",
    "To execute the contents of a code cell with Python inside of it press **shift + enter**. If the last line of code in your cell produces any output, then this value will be displayed in the **`Out`** cell directly below it. If your last line of code produces no output, then there will be no **`Out`** cell.\n",
    "\n",
    "## Execute your first cell\n",
    "Let's practice this by executing the cell directly below. It is code cell that adds two numbers together. Place your cursor in the cell so that it is in edit mode and press **shift + enter** to execute it. The statements following the hash sign (**#**) are comments and skipped.\n",
    "\n",
    "[1]: images/monte_python.jpg\n",
    "[2]: images/code_cell.png"
   ]
  },
  {
   "cell_type": "code",
   "execution_count": null,
   "metadata": {},
   "outputs": [],
   "source": [
    "# a code cell that adds two numbers together\n",
    "# press shift + enter to execute\n",
    "5 + 7"
   ]
  },
  {
   "cell_type": "markdown",
   "metadata": {},
   "source": [
    "## Executing a cell with no output"
   ]
  },
  {
   "cell_type": "code",
   "execution_count": null,
   "metadata": {},
   "outputs": [],
   "source": [
    "# This will not produce any output\n",
    "a = 7"
   ]
  },
  {
   "cell_type": "markdown",
   "metadata": {},
   "source": [
    "## For output, only the last line of the cell matters"
   ]
  },
  {
   "cell_type": "code",
   "execution_count": null,
   "metadata": {},
   "outputs": [],
   "source": [
    "# Execute three Python statements.\n",
    "# Only the last statement will result in an output\n",
    "5 + 7\n",
    "3 + 6\n",
    "4 - 2"
   ]
  },
  {
   "cell_type": "markdown",
   "metadata": {},
   "source": [
    "## An exception with the `print` statement\n",
    "It is possible to produce output from lines that are not the last with the print statement. Notice how the results of the first two statements are printed below the cell with the output of the last line still in its own **`Out`** cell."
   ]
  },
  {
   "cell_type": "code",
   "execution_count": null,
   "metadata": {},
   "outputs": [],
   "source": [
    "print(5 + 7)\n",
    "print(3 + 6)\n",
    "4 - 2"
   ]
  },
  {
   "cell_type": "markdown",
   "metadata": {},
   "source": [
    "# What actually is Python?\n",
    "For a computer, Python code is simply characters on a screen. These characters have no idea what to do with themselves unless some other computer program translates them to a language that a machine can understand. Its important to understand that Python is a programming language and that Python the programming language has many different implementations that turn those characters to executable machine code. The original implementation of Python is called **CPython** written in C by the ['Benevolent Dictator for Life'][1] Guido van Rossum who started the project in the 80's and released it in 1991.\n",
    "\n",
    "# Why use Python?\n",
    "Python is a **high-level** language. High-level as, it is a programming language that is easy to learn, with simple and compact syntax, as well as being quite powerful to complete nearly any task.\n",
    "\n",
    "It is a general purpose programming languages allowing you to develop a wide range of applications from the web to full scale data science pipelines. A small sacrifice in inefficiency allows for great productivity as a developer.\n",
    "\n",
    "# Don't use a calculator, use Python!\n",
    "To kick things off, we can start off using Python as a calculator. All the standard operators work as expected. Execute the expressions in the code cells below.\n",
    "\n",
    "[1]: https://en.wikipedia.org/wiki/Benevolent_dictator_for_life\n",
    "[2]: https://github.com/python/cpython\n",
    "[3]: https://github.com/gvanrossum"
   ]
  },
  {
   "cell_type": "code",
   "execution_count": null,
   "metadata": {},
   "outputs": [],
   "source": [
    "# add, sub, mul, divide all happen as expected\n",
    "7 * 7 - 50 + 100 / 6"
   ]
  },
  {
   "cell_type": "markdown",
   "metadata": {},
   "source": [
    "### Comments in code blocks\n",
    "To insert a comment, use the hash (#) character. Everything written after the hash will be commented out. The keyboard shortcut to comment out a line is **ctrl + /** or **cmd + /** on a mac"
   ]
  },
  {
   "cell_type": "code",
   "execution_count": null,
   "metadata": {},
   "outputs": [],
   "source": [
    "# Integer division is done with //\n",
    "12 // 7"
   ]
  },
  {
   "cell_type": "code",
   "execution_count": null,
   "metadata": {},
   "outputs": [],
   "source": [
    "# Use ** to raise to a power\n",
    "4 ** 3"
   ]
  },
  {
   "cell_type": "code",
   "execution_count": null,
   "metadata": {},
   "outputs": [],
   "source": [
    "# % is the modulus operator to get a remainder\n",
    "89 % 13"
   ]
  },
  {
   "cell_type": "markdown",
   "metadata": {},
   "source": [
    "### Problem 1\n",
    "<span style=\"color:green\">How many seconds are there in a century?</span>"
   ]
  },
  {
   "cell_type": "code",
   "execution_count": null,
   "metadata": {},
   "outputs": [],
   "source": [
    "# your code here"
   ]
  },
  {
   "cell_type": "markdown",
   "metadata": {},
   "source": [
    "## Assignment Statements - Assigning values to variable names"
   ]
  },
  {
   "cell_type": "code",
   "execution_count": null,
   "metadata": {},
   "outputs": [],
   "source": [
    "# assign values to the variables a, b, and c\n",
    "a = 10\n",
    "b = 2\n",
    "c = b ** 3"
   ]
  },
  {
   "cell_type": "code",
   "execution_count": null,
   "metadata": {},
   "outputs": [],
   "source": [
    "a"
   ]
  },
  {
   "cell_type": "code",
   "execution_count": null,
   "metadata": {},
   "outputs": [],
   "source": [
    "b"
   ]
  },
  {
   "cell_type": "code",
   "execution_count": null,
   "metadata": {},
   "outputs": [],
   "source": [
    "c"
   ]
  },
  {
   "cell_type": "markdown",
   "metadata": {},
   "source": [
    "## Outputting more than one variable at a same time"
   ]
  },
  {
   "cell_type": "code",
   "execution_count": null,
   "metadata": {},
   "outputs": [],
   "source": [
    "# output multiple variables\n",
    "a, b, c"
   ]
  },
  {
   "cell_type": "markdown",
   "metadata": {},
   "source": [
    "### Problem 2\n",
    "<span style=\"color:green\">Use three different variables to store a 15% sales tax on a $70 meal to get the total and output all of them at the same time</span>"
   ]
  },
  {
   "cell_type": "code",
   "execution_count": null,
   "metadata": {},
   "outputs": [],
   "source": [
    "# your code here"
   ]
  },
  {
   "cell_type": "markdown",
   "metadata": {},
   "source": [
    "## Every value in Python has a type\n",
    "One of the most important and fundamental concepts to internalize when learning Python is that every value that you see has a type. Before we get into Python types, it might be helpful to think about types outside the context of programming languages.\n",
    "\n",
    "Everything that we see in the world around us is also some **type** of object. For instance, when we look in our closet, we see shirts, pants, dresses, shoes, socks, belts, etc... Each one of these objects is a type. When we walk outside we see cars, roads, birds, trees, grass, people, etc... Again, each one these objects is a type. The type of an object tells you much about what it is and what it is capable of doing. A car is able to drive and a cup is useful to hold liquid that is easily consumable.\n",
    "\n",
    "### The `type` function\n",
    "When working in Python, it is extremely important to know the type of value you are working with. In the above paragraph, I used the term **object** to refer to each thing that was inside my closet or outside. Technically, everything is an **object** in Python.\n",
    "\n",
    "For now, it's important to realize that every value and variable you see in Python has a specific type. The **`type`** function is used to definitively check the type. Let's see some examples below."
   ]
  },
  {
   "cell_type": "code",
   "execution_count": null,
   "metadata": {},
   "outputs": [],
   "source": [
    "type(10)"
   ]
  },
  {
   "cell_type": "markdown",
   "metadata": {},
   "source": [
    "## Numeric types\n",
    "There are two primary numeric types - **`int`** and **`float`**. **`int`** is short for integer. Integers are whole numbers and floats are numbers with decimals. Let's see an example of a float."
   ]
  },
  {
   "cell_type": "code",
   "execution_count": null,
   "metadata": {},
   "outputs": [],
   "source": [
    "type(12.4)"
   ]
  },
  {
   "cell_type": "markdown",
   "metadata": {},
   "source": [
    "## All variables have types\n",
    "When we assign a variable a value, that variable has the same type as the value. We can use the **`type`** function directly on that variable."
   ]
  },
  {
   "cell_type": "code",
   "execution_count": null,
   "metadata": {},
   "outputs": [],
   "source": [
    "a = 10\n",
    "type(a)"
   ]
  },
  {
   "cell_type": "markdown",
   "metadata": {},
   "source": [
    "## Boolean type\n",
    "Python has two reserved words, **`True`** and **`False`**, that are used for the boolean type. **`bool`** is the official word used."
   ]
  },
  {
   "cell_type": "code",
   "execution_count": null,
   "metadata": {},
   "outputs": [],
   "source": [
    "type(True)"
   ]
  },
  {
   "cell_type": "code",
   "execution_count": null,
   "metadata": {},
   "outputs": [],
   "source": [
    "type(False)"
   ]
  },
  {
   "cell_type": "markdown",
   "metadata": {},
   "source": [
    "# Strings\n",
    "\n",
    "Previously, we briefly looked at the basic numeric types, **`int`** and **`float`**. These types are quite simple and straightforward. They behave how you would expect them. We now turn to **strings** which are a more complex type. Python uses the keyword **`str`** to represent strings.\n",
    "\n",
    "# Built-in Types\n",
    "\n",
    "* `bool`\n",
    "* `int`\n",
    "* `float`\n",
    "* `str`\n",
    "* `tuple`\n",
    "* `list`\n",
    "* `set`\n",
    "* `dict`\n",
    "\n",
    "There are several more built-in types such as **`complex`**, **`frozenset`**, **`bytes`**, and others but these are used far less frequently than the list above. To see all the built-in types see this (very long) [page from the official Python documentation][1]\n",
    "\n",
    "## The term data type\n",
    "You will often see the term **data type** used when discussing **types**. They refer to the same concept.\n",
    "\n",
    "## Back to strings - what are they?\n",
    "Technically, a Python string is a sequence of characters.\n",
    "\n",
    "## So what are characters?\n",
    "A character is the smallest possible component of text, usually a letter of an alphabet or punctuation that you can output with one key from your keyboard. There is no separate type for characters. A single character is just a string with length of one.\n",
    "\n",
    "##  Creating our first string\n",
    "Strings are created by writing a sequence of characters surrounded by either single or double quotes.\n",
    "\n",
    "[1]: https://docs.python.org/3/library/stdtypes.html\n",
    "[2]: https://docs.python.org/3/howto/unicode.html#definitions"
   ]
  },
  {
   "cell_type": "code",
   "execution_count": null,
   "metadata": {},
   "outputs": [],
   "source": [
    "# Define a string\n",
    "my_string = 'my own personal string'"
   ]
  },
  {
   "cell_type": "markdown",
   "metadata": {},
   "source": [
    "## Output the string to the notebook"
   ]
  },
  {
   "cell_type": "code",
   "execution_count": null,
   "metadata": {},
   "outputs": [],
   "source": [
    "my_string"
   ]
  },
  {
   "cell_type": "markdown",
   "metadata": {},
   "source": [
    "## Using double quotes"
   ]
  },
  {
   "cell_type": "code",
   "execution_count": null,
   "metadata": {},
   "outputs": [],
   "source": [
    "my_string2 = \"yet another string\"\n",
    "my_string2"
   ]
  },
  {
   "cell_type": "markdown",
   "metadata": {},
   "source": [
    "## Quotes inside of quotes"
   ]
  },
  {
   "cell_type": "code",
   "execution_count": null,
   "metadata": {},
   "outputs": [],
   "source": [
    "singleq = \"There's a single quote in here\"\n",
    "singleq"
   ]
  },
  {
   "cell_type": "code",
   "execution_count": null,
   "metadata": {},
   "outputs": [],
   "source": [
    "doubleq = 'Yogi Berra once said, \"We made too many wrong mistakes\"'\n",
    "doubleq"
   ]
  },
  {
   "cell_type": "markdown",
   "metadata": {},
   "source": [
    "## Multiline Strings with triple quotes"
   ]
  },
  {
   "cell_type": "code",
   "execution_count": null,
   "metadata": {},
   "outputs": [],
   "source": [
    "tripleq = \"\"\"Use triple\n",
    "quotes for some \n",
    "very long\n",
    "multiline strings\n",
    "\"\"\"\n",
    "\n",
    "tripleq"
   ]
  },
  {
   "cell_type": "markdown",
   "metadata": {},
   "source": [
    "## Single and double quotes in the same string"
   ]
  },
  {
   "cell_type": "code",
   "execution_count": null,
   "metadata": {},
   "outputs": [],
   "source": [
    "my_string_w_2_quote_types = '''My friend said, \"I'm only a mediocre pythonista\". I got mad! '''\n",
    "my_string_w_2_quote_types"
   ]
  },
  {
   "cell_type": "markdown",
   "metadata": {},
   "source": [
    "## Using the print function\n",
    "You can use the **`print`** function to output your strings. The output will have the escape characters replaced by the values they represent."
   ]
  },
  {
   "cell_type": "code",
   "execution_count": null,
   "metadata": {},
   "outputs": [],
   "source": [
    "print(tripleq)"
   ]
  },
  {
   "cell_type": "code",
   "execution_count": null,
   "metadata": {},
   "outputs": [],
   "source": [
    "print(my_string_w_2_quote_types)"
   ]
  },
  {
   "cell_type": "markdown",
   "metadata": {},
   "source": [
    "# Many more \"abilities\" with strings\n",
    "Strings have far more \"abilities\" than their numeric counterparts. Some of these abilities include the following:\n",
    "* Capitalizing the first letter of each word\n",
    "* Counting the frequency of a particular letter\n",
    "* Splitting the string into multiple other strings\n",
    "* Finding the location a particular substring\n",
    "* And much more\n",
    "\n",
    "The abilities I am referring to are called **methods**. The way methods are invoked in Python is by placing a dot at the end of the variable name followed by the method name and a set of parentheses.\n",
    "\n",
    "## Capitalizing each character in a string\n",
    "For instance, we can use the **`upper`** method to capitalize each character in a string."
   ]
  },
  {
   "cell_type": "code",
   "execution_count": null,
   "metadata": {},
   "outputs": [],
   "source": [
    "capitalize_me = \"this string will soon be all caps\""
   ]
  },
  {
   "cell_type": "code",
   "execution_count": null,
   "metadata": {},
   "outputs": [],
   "source": [
    "capitalize_me.upper()"
   ]
  },
  {
   "cell_type": "markdown",
   "metadata": {},
   "source": [
    "# Counting character occurrences\n",
    "The **`count`** method capitalizes the unique occurrences of a substring. Place the substring you would like to count inside of the parentheses."
   ]
  },
  {
   "cell_type": "code",
   "execution_count": null,
   "metadata": {},
   "outputs": [],
   "source": [
    "capitalize_me.count('i')"
   ]
  },
  {
   "cell_type": "code",
   "execution_count": null,
   "metadata": {},
   "outputs": [],
   "source": [
    "capitalize_me.count('will')"
   ]
  },
  {
   "cell_type": "markdown",
   "metadata": {},
   "source": [
    "# Calling methods with parameters\n",
    "The **`count`** method from above is an example of a method with **parameters**. A parameter is a variable whose value changes the functionality of the method. The strings **`i`** and **`will`** are both parameter values. \n",
    "\n",
    "Some methods, such as **`upper`** do not have any parameters and therefore can be called with nothing inside their parentheses. Methods and their parameters will be discussed in greater detail in future notebooks."
   ]
  },
  {
   "cell_type": "markdown",
   "metadata": {},
   "source": [
    "# Split a string into multiple substrings"
   ]
  },
  {
   "cell_type": "code",
   "execution_count": null,
   "metadata": {},
   "outputs": [],
   "source": [
    "my_string.split()"
   ]
  },
  {
   "cell_type": "markdown",
   "metadata": {},
   "source": [
    "# Splitting a string by a given value"
   ]
  },
  {
   "cell_type": "code",
   "execution_count": null,
   "metadata": {},
   "outputs": [],
   "source": [
    "my_string.split('so')"
   ]
  },
  {
   "cell_type": "markdown",
   "metadata": {},
   "source": [
    "# How do I know what methods are available?\n",
    "The above examples only covered a few of the available string methods. The official Python documentation lists all the [string methods][1]. While thorough, its not that convenient. \n",
    "\n",
    "[1]: https://docs.python.org/3/library/stdtypes.html#string-methods"
   ]
  },
  {
   "cell_type": "markdown",
   "metadata": {},
   "source": [
    "# Use tab completion to get help while coding\n",
    "An even better method for finding the available list of methods is with the tab completion functionality of IPython. To make use of tab completion, write the name of your variable followed by a dot and then press **tab**. A drop down menu will appear with a list of the methods. It will look like this: ![][1]\n",
    "\n",
    "[1]: images/string_methods.png\n",
    "\n",
    "Reproduce this drop down menu in the below cell:"
   ]
  },
  {
   "cell_type": "code",
   "execution_count": null,
   "metadata": {},
   "outputs": [],
   "source": [
    "# Place your cursor at the end of the next line and press tab\n",
    "my_string."
   ]
  },
  {
   "cell_type": "markdown",
   "metadata": {},
   "source": [
    "# Getting help while coding with `shift + tab + tab`\n",
    "One of my favorite tricks is to have the docstrings appear in a pop-up window as I am coding. It will look like this:\n",
    "\n",
    "![][1]\n",
    "\n",
    "To make the docstrings pop-up in-place, type out your method and **hold shift + tab + tab**\n",
    "\n",
    "[1]: images/string_docstring.png"
   ]
  },
  {
   "cell_type": "code",
   "execution_count": null,
   "metadata": {},
   "outputs": [],
   "source": [
    "# place the cursor at the end of the line then hold shift and press tab twice\n",
    "replace_string.replace"
   ]
  },
  {
   "cell_type": "markdown",
   "metadata": {},
   "source": [
    "### Problem 3\n",
    "<span style=\"color:green\">Replace each occurrence of 'in' with 'out' in the following string. </span>"
   ]
  },
  {
   "cell_type": "code",
   "execution_count": null,
   "metadata": {},
   "outputs": [],
   "source": [
    "replace_string = 'it is starting to rain on the inside'\n",
    "# your code here"
   ]
  },
  {
   "cell_type": "markdown",
   "metadata": {},
   "source": [
    "### Problem 4\n",
    "<span style=\"color:green\">Find and use a method that will strip away all the exclamation points from either end of the following string. </span>"
   ]
  },
  {
   "cell_type": "code",
   "execution_count": null,
   "metadata": {},
   "outputs": [],
   "source": [
    "s = '!!!!a string with a dull message!!!!'\n",
    "# your code here"
   ]
  },
  {
   "cell_type": "markdown",
   "metadata": {},
   "source": [
    "### Problem 5\n",
    "<span style=\"color:green\">Find and use a method that will find the position of the first occurrence of the letter `t` in the following string. </span>"
   ]
  },
  {
   "cell_type": "code",
   "execution_count": null,
   "metadata": {},
   "outputs": [],
   "source": [
    "s = 'a data scientist'\n",
    "# your code here"
   ]
  },
  {
   "cell_type": "markdown",
   "metadata": {},
   "source": [
    "### Getting the length of a string: Is there a method for this?\n",
    "The builtin **function** **`len`** returns the string length."
   ]
  },
  {
   "cell_type": "code",
   "execution_count": null,
   "metadata": {},
   "outputs": [],
   "source": [
    "# Getting the length of a string using the len function\n",
    "test_string = 'yet another test string'\n",
    "len(test_string)"
   ]
  },
  {
   "cell_type": "markdown",
   "metadata": {},
   "source": [
    "# Concatenating strings\n",
    "Again, there is no direct method to concatenate strings together. There isn't even a function to do this either. Instead, we use the **plus operator**. See some examples below:"
   ]
  },
  {
   "cell_type": "code",
   "execution_count": null,
   "metadata": {},
   "outputs": [],
   "source": [
    "'abcde' + 'fghijk' + 'lmnop'"
   ]
  },
  {
   "cell_type": "code",
   "execution_count": null,
   "metadata": {},
   "outputs": [],
   "source": [
    "string1 = 'mac'\n",
    "string2 = 'hine'\n",
    "\n",
    "string1 + string2"
   ]
  },
  {
   "cell_type": "markdown",
   "metadata": {},
   "source": [
    "### Repeat a string with the multiplication operator\n",
    "Interestingly, the multiplication operator is available to use with strings. Multiply any string by an integer and you will produce a new string concatenated to itself that many times. "
   ]
  },
  {
   "cell_type": "code",
   "execution_count": null,
   "metadata": {},
   "outputs": [],
   "source": [
    "# The string is repeatedly concatenated to itself via multiplication\n",
    "'some test words | ' * 5"
   ]
  },
  {
   "cell_type": "markdown",
   "metadata": {},
   "source": [
    "# String Interpolation\n",
    "**String interpolation** refers to the substitution of variable values inside of strings. Python recently upgraded its string interpolation in 3.6 to make it easier and more intuitive with something called **f-strings** which is short for formatted literal strings.\n",
    "\n",
    "## f-string basics\n",
    "Substituting variable values into strings is quite easy with f-strings. Here are the two steps that you must follow:\n",
    "* Prefix the string with the letter **`f`**\n",
    "* Surround the variable with curly braces within the string\n",
    "\n",
    "In the example below, we create three variables and replace them in the sentence with an f-string. Notice the **`f`** prefix."
   ]
  },
  {
   "cell_type": "code",
   "execution_count": null,
   "metadata": {},
   "outputs": [],
   "source": [
    "name = 'Ted'\n",
    "occupation = 'data scientist'\n",
    "salary = 3\n",
    "\n",
    "# f-string - substitute name, occupation, and salary\n",
    "f'Employee {name} is a {occupation} and earns {salary} dollars per year'"
   ]
  },
  {
   "cell_type": "markdown",
   "metadata": {},
   "source": [
    "# Selecting substrings\n",
    "We first introduce the index operator (square brackets), **`[ ]`**, which is fundamental to scientific computing in Python. The **`[ ]`** operator has the ability to select item(s) from a sequence in a wide variety of manners. Since strings are sequences of characters, the **`[ ]`** operator provides lots of functionality for strings. \n",
    "\n",
    "## The index of each character\n",
    "The **index** of each character is defined as the **integer location** of each character. The integer location starts at 0 from the beginning of the string. \n",
    "\n",
    "## Selecting a single character\n",
    "To select a single character from a string, append the index operator to the string and place the integer location of the desired character with the brackets. Let's select the first character from the following string."
   ]
  },
  {
   "cell_type": "code",
   "execution_count": null,
   "metadata": {},
   "outputs": [],
   "source": [
    "test_string = 'make sure you complete the entire precourse'\n",
    "test_string[0]"
   ]
  },
  {
   "cell_type": "markdown",
   "metadata": {},
   "source": [
    "## Selecting other characters\n",
    "All characters of the string may be selected individually in this manner. Let's select index 4."
   ]
  },
  {
   "cell_type": "code",
   "execution_count": null,
   "metadata": {},
   "outputs": [],
   "source": [
    "# An empty space\n",
    "test_string[4]"
   ]
  },
  {
   "cell_type": "markdown",
   "metadata": {},
   "source": [
    "## Using negative indices to select from the end\n",
    "It is possible to use negative integers to select from the end of a string. Let's select the last element."
   ]
  },
  {
   "cell_type": "code",
   "execution_count": null,
   "metadata": {},
   "outputs": [],
   "source": [
    "test_string[-1]"
   ]
  },
  {
   "cell_type": "code",
   "execution_count": null,
   "metadata": {},
   "outputs": [],
   "source": [
    "test_string[-9]"
   ]
  },
  {
   "cell_type": "markdown",
   "metadata": {},
   "source": [
    "## Slice notation to select a substring\n",
    "In addition to selecting single characters, we can easily select substrings (multiple characters) from our string with **slice notation**. Slice notation is composed of three integers, **start**, **stop**, and **step**. These three integers are separated by a colon. The **step** integer is optional and is always defaulted to 1. The generic form for slice notation looks like this:\n",
    "\n",
    "### `start:stop:step`\n",
    "\n",
    "Slice notation is placed within the square brackets following the string. Let's select a substring from index 5 to index 13."
   ]
  },
  {
   "cell_type": "code",
   "execution_count": null,
   "metadata": {},
   "outputs": [],
   "source": [
    "test_string[5:13]"
   ]
  },
  {
   "cell_type": "markdown",
   "metadata": {},
   "source": [
    "## The stop index is not included\n",
    "The above slice notation, **`5:13`**, begins at index 5 and selects all characters up to but NOT including index 13. Let's verify this by selecting index 12 and index 13."
   ]
  },
  {
   "cell_type": "code",
   "execution_count": null,
   "metadata": {},
   "outputs": [],
   "source": [
    "test_string[12]"
   ]
  },
  {
   "cell_type": "code",
   "execution_count": null,
   "metadata": {},
   "outputs": [],
   "source": [
    "test_string[13]"
   ]
  },
  {
   "cell_type": "markdown",
   "metadata": {},
   "source": [
    "## The step integer is optional\n",
    "We could have included the step integer 1 like so below, but it is not necessary."
   ]
  },
  {
   "cell_type": "code",
   "execution_count": null,
   "metadata": {},
   "outputs": [],
   "source": [
    "test_string[5:13:1]"
   ]
  },
  {
   "cell_type": "markdown",
   "metadata": {},
   "source": [
    "## Stepping by something other than 1\n",
    "We can step by any integer we want. Let's select every other letter from that same substring."
   ]
  },
  {
   "cell_type": "code",
   "execution_count": null,
   "metadata": {},
   "outputs": [],
   "source": [
    "test_string[5:13:2]"
   ]
  },
  {
   "cell_type": "markdown",
   "metadata": {},
   "source": [
    "## Both start and stop integers are optional as well\n",
    "Let's say we want to select the first 5 characters of the string. It is not necessary to use the integer 0 as the start position and instead it is much more common to see the following:"
   ]
  },
  {
   "cell_type": "code",
   "execution_count": null,
   "metadata": {},
   "outputs": [],
   "source": [
    "test_string[:5]"
   ]
  },
  {
   "cell_type": "markdown",
   "metadata": {},
   "source": [
    "## Omit the stop value to slice to the end\n",
    "If the stop value is not provided, then the selection will continue until the end of the string."
   ]
  },
  {
   "cell_type": "code",
   "execution_count": null,
   "metadata": {},
   "outputs": [],
   "source": [
    "test_string[10:]"
   ]
  },
  {
   "cell_type": "markdown",
   "metadata": {},
   "source": [
    "### Problem 6\n",
    "<span style=\"color:green\">Select the last three letters of the following string.</span>"
   ]
  },
  {
   "cell_type": "code",
   "execution_count": null,
   "metadata": {},
   "outputs": [],
   "source": [
    "test_string = 'make sure you complete the entire precourse'\n",
    "# your code here"
   ]
  },
  {
   "cell_type": "markdown",
   "metadata": {},
   "source": [
    "## A trick to reverse a string\n",
    "An easier, albeit unintuitive method exists to reverse a string. Use the slice notation **`::-1`**."
   ]
  },
  {
   "cell_type": "code",
   "execution_count": null,
   "metadata": {},
   "outputs": [],
   "source": [
    "test_string[::-1]"
   ]
  },
  {
   "cell_type": "markdown",
   "metadata": {},
   "source": [
    "### Problem 7\n",
    "<span style=\"color:green\">Slice this string from index 5 to the end by every 4th element</span>"
   ]
  },
  {
   "cell_type": "code",
   "execution_count": null,
   "metadata": {},
   "outputs": [],
   "source": [
    "s = 'the astros will win the world series again in 2018'\n",
    "# your code here"
   ]
  },
  {
   "cell_type": "markdown",
   "metadata": {},
   "source": [
    "### Problem 8\n",
    "<span style=\"color:green\">Select every third element starting from the last character and ending with the first. </span>"
   ]
  },
  {
   "cell_type": "code",
   "execution_count": null,
   "metadata": {},
   "outputs": [],
   "source": [
    "s = 'the astros will win the world series again in 2018'\n",
    "# your code here"
   ]
  },
  {
   "cell_type": "markdown",
   "metadata": {},
   "source": [
    "# Changing the characters of a string\n",
    "You might be surprised to find that once a string is created, nothing about it can change. Technically, strings are **immutable** and cannot be changed once created. Many objects in Python are **mutable** such as lists, which we will cover soon, but not strings.\n",
    "\n",
    "For instance, if we try and change index 7 to **`z`** we will get the following error.\n",
    "\n",
    "> `TypeError: 'str' object does not support item assignment`"
   ]
  },
  {
   "cell_type": "code",
   "execution_count": null,
   "metadata": {},
   "outputs": [],
   "source": [
    "test_string[7] = 'z'"
   ]
  },
  {
   "cell_type": "code",
   "execution_count": null,
   "metadata": {},
   "outputs": [],
   "source": [
    "test_string[7:20:-1] = 'z'"
   ]
  },
  {
   "cell_type": "markdown",
   "metadata": {},
   "source": [
    "### Mutable and Immutable Objects\n",
    "Python objects are either mutable or immutable. Mutable objects can have their value's changed after creation. Immutable objects are those whose values cannot be changed after creation.\n",
    "\n",
    "Strings, ints, floats, booleans are types of objects that are immutable (unable to be changed after creation).\n",
    "\n",
    "We will soon learn mutable types like lists, dictionaries and sets."
   ]
  },
  {
   "cell_type": "markdown",
   "metadata": {},
   "source": [
    "### Didn't we have some strings from above that were mutated?\n",
    "In some of the above examples strings were concatenated together to form a new string but the original strings were never changed. Take a look at the following which concatenates two strings and prints out that value. The original strings are left unchanged."
   ]
  },
  {
   "cell_type": "code",
   "execution_count": null,
   "metadata": {},
   "outputs": [],
   "source": [
    "# Concatenation does not mutate the underlying string\n",
    "a = 'string 1 '\n",
    "b = 'string 2'\n",
    "print(a + b)\n",
    "print(a)\n",
    "print(b)"
   ]
  },
  {
   "cell_type": "markdown",
   "metadata": {},
   "source": [
    "### Simple test whether a string contains a substring\n",
    "There is a simple test to determine whether or not one string is a substring of another. Place the **`in`** operator between two strings as follows:"
   ]
  },
  {
   "cell_type": "code",
   "execution_count": null,
   "metadata": {},
   "outputs": [],
   "source": [
    "s = \"executing a string assignment\""
   ]
  },
  {
   "cell_type": "code",
   "execution_count": null,
   "metadata": {},
   "outputs": [],
   "source": [
    "'cut' in s"
   ]
  },
  {
   "cell_type": "code",
   "execution_count": null,
   "metadata": {},
   "outputs": [],
   "source": [
    "'z' in s"
   ]
  },
  {
   "cell_type": "markdown",
   "metadata": {},
   "source": [
    "### Reversing the condition with `not`\n",
    "You can also test whether a string is not a substring with the **`not in `** operator."
   ]
  },
  {
   "cell_type": "code",
   "execution_count": null,
   "metadata": {},
   "outputs": [],
   "source": [
    "'z' not in s"
   ]
  },
  {
   "cell_type": "markdown",
   "metadata": {},
   "source": [
    "### Alternatively, use the `find` method\n",
    "The find method returns the value -1 if the passed string is not a substring, otherwise it gives the index of the first character where the substring was found."
   ]
  },
  {
   "cell_type": "code",
   "execution_count": null,
   "metadata": {},
   "outputs": [],
   "source": [
    "# you can use the index method, which gives you the position of the substring if found\n",
    "s.find('cut')"
   ]
  },
  {
   "cell_type": "code",
   "execution_count": null,
   "metadata": {},
   "outputs": [],
   "source": [
    "s.find('z')"
   ]
  },
  {
   "cell_type": "markdown",
   "metadata": {},
   "source": [
    "# Objects\n",
    "\n",
    "# Everything is an Object in Python\n",
    "\n",
    "One of the most popular sayings in Python is that **everything is an object**. While not quite literally true, any value that can be assigned to a variable is an object. All integers, floats, booleans, strings, lists, sets, dictionaries, etc... and even functions are **objects**."
   ]
  },
  {
   "cell_type": "code",
   "execution_count": null,
   "metadata": {},
   "outputs": [],
   "source": [
    "s = \"world's best data scientist\""
   ]
  },
  {
   "cell_type": "markdown",
   "metadata": {},
   "source": [
    "## The type of an object\n",
    "As we discussed previously, the type of an object is an extremely important piece of information and let's us know what is possible with it. Let's use the **`type`** function to definitively tell us what type of object we have."
   ]
  },
  {
   "cell_type": "code",
   "execution_count": null,
   "metadata": {},
   "outputs": [],
   "source": [
    "type(s)"
   ]
  },
  {
   "cell_type": "markdown",
   "metadata": {},
   "source": [
    "# Use your objects with attributes and methods\n",
    "The power and usefulness of objects in Python come from their **attributes** and **methods**. All objects in Python have **attributes** and **methods**.\n",
    "\n",
    "Attributes are descriptions of the objects and are sometimes referred to as **properties**. Typically, they are nouns or adjectives. They are a single piece of information about the object.\n",
    "\n",
    "**Methods** are actions that the objects can take and are typically verbs. Methods execute a block of code while attributes typically retrieve one specific value.\n",
    "\n",
    "![][1]\n",
    "\n",
    "[1]: images/object_diag.png"
   ]
  },
  {
   "cell_type": "markdown",
   "metadata": {},
   "source": [
    "# Use Dot Notation to access attributes and methods\n",
    "\n",
    "**Dot notation** is how you make use of your object and how you directly access the attributes and methods. Dot notation simply means placing a dot after your object followed by the attribute or method name.\n",
    "\n",
    "### No parentheses for an attribute\n",
    "\n",
    "```\n",
    ">>> type(mercedes)\n",
    "Car\n",
    "\n",
    ">>> mercedes.year  # attribute that retrieves a specific piece of information\n",
    "2011\n",
    "\n",
    ">>> mercedes.drive_forward(miles=10)  # method that drives the car forward 10 miles\n",
    "```\n",
    "\n",
    "### Are there only methods for strings?\n",
    "In the last notebook on strings, we only called methods with our strings. Strings are an example of an object that only has methods and no attributes. When we start working with Pandas, you will see that the primary object, the DataFrame, has some attributes to go along with many methods.\n",
    "\n",
    "# What isn't an object\n",
    "There are about 30 reserved words that are not objects. Some of these include **`if, return, def, except`**. A [full list][1] is available in the documentation. Take care that **`True`**, **`False`**, and **`None`** are in that list but are objects.\n",
    "\n",
    "Other symbols such as commas, parentheses, braces, and periods are not objects. Operators such as plus, minus, multiplication, and division signs, are also not objects. More formally, Python uses the terminology **`delimiters`** and **`operators`** for these two classes of symbols. A complete list is found in the [documentation][4] and printed below as well.\n",
    "\n",
    "### Delimiters\n",
    "![][2]\n",
    "\n",
    "\n",
    "### Operators\n",
    "\n",
    "![][3]\n",
    "\n",
    "\n",
    "If it can be stored as a variable then it is an object. For instance, let's try and store the keyword **`continue`** to a variable.\n",
    "\n",
    "[1]: https://docs.python.org/3/reference/lexical_analysis.html#keywords\n",
    "[2]: images/delimiters.png\n",
    "[3]: images/operators.png\n",
    "[4]: https://docs.python.org/3/reference/lexical_analysis.html#operators"
   ]
  },
  {
   "cell_type": "markdown",
   "metadata": {},
   "source": [
    "# Lists\n",
    "\n",
    "\n",
    "One of Python's most powerful built-in types is the **`list`**. In generic programming terminology, lists are considered [data structures][1], or more simply put, a collection of data. Lists are very versatile, capable of many tasks, are very popular, and something you will use frequently when writing Python. Even crude data exploration and matrix algebra can be done using lists. \n",
    "\n",
    "Lists are mutable sequences of objects. Anything can go inside lists, even other lists. Lists are declared by the brackets **`[ ]`** operator followed by comma separated values.\n",
    "\n",
    "Let's declare a list with some integer, string, and float objects.\n",
    "\n",
    "[1]: https://en.wikipedia.org/wiki/Data_structure"
   ]
  },
  {
   "cell_type": "code",
   "execution_count": null,
   "metadata": {},
   "outputs": [],
   "source": [
    "# a list object with integers, strings and floats. Each element is separated by a comma\n",
    "my_list = [1, 2, 3, 4, 'one', 'two', 4.9]\n",
    "\n",
    "my_list"
   ]
  },
  {
   "cell_type": "markdown",
   "metadata": {},
   "source": [
    "## Lists may contain heterogeneous data\n",
    "\n",
    "## Accessing list elements\n",
    "Each element of a list is accessed with the index operator, **`[ ]`**, in the same manner as strings. Lists are indexed beginning at 0."
   ]
  },
  {
   "cell_type": "code",
   "execution_count": null,
   "metadata": {},
   "outputs": [],
   "source": [
    "my_list[2]"
   ]
  },
  {
   "cell_type": "markdown",
   "metadata": {},
   "source": [
    "## Mutating Lists\n",
    "Lists are objects that are mutable, meaning that their value may be changed after creation. Each element in the list can be changed and new elements can be added and other elements can be deleted. This is in contrast to strings where no character can be modified, added, or deleted.\n",
    "\n",
    "Let's change the element at index 3 to **`changed`**."
   ]
  },
  {
   "cell_type": "code",
   "execution_count": null,
   "metadata": {},
   "outputs": [],
   "source": [
    "# Change the 4th element of the list to 'changed'\n",
    "print(my_list)\n",
    "my_list[3] = 'changed'\n",
    "my_list"
   ]
  },
  {
   "cell_type": "markdown",
   "metadata": {},
   "source": [
    "-------------\n",
    "\n",
    "# Finding List Methods"
   ]
  },
  {
   "cell_type": "code",
   "execution_count": null,
   "metadata": {},
   "outputs": [],
   "source": [
    "# like we did with strings lets see all the methods that are available to lists\n",
    "my_list = [1, 2, 3, 4, 'one', 'two', 4.9]"
   ]
  },
  {
   "cell_type": "code",
   "execution_count": null,
   "metadata": {},
   "outputs": [],
   "source": [
    "# press tab\n",
    "my_list."
   ]
  },
  {
   "cell_type": "markdown",
   "metadata": {},
   "source": [
    "## Experimenting with list methods\n",
    "A series of examples will follow that show some list methods. Remember that methods use the dot notation and always end in parentheses. Let's begin by appending an item to our list."
   ]
  },
  {
   "cell_type": "code",
   "execution_count": null,
   "metadata": {},
   "outputs": [],
   "source": [
    "my_list.append(22)"
   ]
  },
  {
   "cell_type": "markdown",
   "metadata": {},
   "source": [
    "### Why was there was no output?\n",
    "When a method returns no output in Python, it does *not* mean that nothing happened. Something almost always *happens*, but you might not see it immediately. In this case, the list was **mutated in place**. 22 was appended to the list with the object **`None`** being returned. Output the list to verify that the append took place."
   ]
  },
  {
   "cell_type": "code",
   "execution_count": null,
   "metadata": {},
   "outputs": [],
   "source": [
    "# See that 22 was appended\n",
    "my_list"
   ]
  },
  {
   "cell_type": "markdown",
   "metadata": {},
   "source": [
    "### More list methods"
   ]
  },
  {
   "cell_type": "code",
   "execution_count": null,
   "metadata": {},
   "outputs": [],
   "source": [
    "# find first occurence of an item in list\n",
    "my_list = [1, 2, 3, 4, 'one', 'fifth', 'two', 4.9]\n",
    "my_list.index('one')"
   ]
  },
  {
   "cell_type": "code",
   "execution_count": null,
   "metadata": {},
   "outputs": [],
   "source": [
    "#insert item after fifth index. operation happens in-place\n",
    "my_list.insert(5, 'fifth')\n",
    "my_list"
   ]
  },
  {
   "cell_type": "code",
   "execution_count": null,
   "metadata": {},
   "outputs": [],
   "source": [
    "# reverse a list in place\n",
    "my_list.reverse()\n",
    "my_list"
   ]
  },
  {
   "cell_type": "markdown",
   "metadata": {},
   "source": [
    "### Getting the length of a list"
   ]
  },
  {
   "cell_type": "code",
   "execution_count": null,
   "metadata": {},
   "outputs": [],
   "source": [
    "# return the number of elements in a list with the len function\n",
    "len(my_list)"
   ]
  },
  {
   "cell_type": "markdown",
   "metadata": {},
   "source": [
    "### Sorting a list\n",
    "Lists can be sorted in-place using the sort method as long the element have types that are orderable.\n",
    "\n",
    "Since `my_list` has both numeric and string types that do not have a natural ordering with respect to one another an error will be raised."
   ]
  },
  {
   "cell_type": "code",
   "execution_count": null,
   "metadata": {},
   "outputs": [],
   "source": [
    "#sort the list\n",
    "my_list.sort()"
   ]
  },
  {
   "cell_type": "markdown",
   "metadata": {},
   "source": [
    "### Lists must have objects that know how to be ordered\n",
    "Strings and numbers don't have a natural ordering so an error is produced above. A list consisting of integers and floats is orderable. See the following example:"
   ]
  },
  {
   "cell_type": "code",
   "execution_count": null,
   "metadata": {},
   "outputs": [],
   "source": [
    "# sortable list\n",
    "sortable_list = [8, 12, 90.8, -87, 0]\n",
    "sortable_list.sort() # operation happens in place so"
   ]
  },
  {
   "cell_type": "code",
   "execution_count": null,
   "metadata": {},
   "outputs": [],
   "source": [
    "# The sort method happens in place and None is returned so there is no output\n",
    "# We must use a separate line to output the updated list\n",
    "sortable_list"
   ]
  },
  {
   "cell_type": "markdown",
   "metadata": {},
   "source": [
    "# Selecting items from lists"
   ]
  },
  {
   "cell_type": "code",
   "execution_count": null,
   "metadata": {},
   "outputs": [],
   "source": [
    "# Select the first item\n",
    "my_list = [1, 2, 3, 4, 'one', 'two', 4.9]\n",
    "my_list[0]"
   ]
  },
  {
   "cell_type": "code",
   "execution_count": null,
   "metadata": {},
   "outputs": [],
   "source": [
    "# Select the last item\n",
    "my_list[-1]"
   ]
  },
  {
   "cell_type": "markdown",
   "metadata": {},
   "source": [
    "# Selecting a subset of the list with slice notation\n",
    "Slice notation also works the same with lists as it does with strings. When slicing, even if it is a one element slice, a new list will always be returned."
   ]
  },
  {
   "cell_type": "code",
   "execution_count": null,
   "metadata": {},
   "outputs": [],
   "source": [
    "# from the start up to but not including index 3\n",
    "my_list[:3]"
   ]
  },
  {
   "cell_type": "code",
   "execution_count": null,
   "metadata": {},
   "outputs": [],
   "source": [
    "# from index 3 to the end\n",
    "my_list[3:]"
   ]
  },
  {
   "cell_type": "markdown",
   "metadata": {},
   "source": [
    "### Start : Stop : Step"
   ]
  },
  {
   "cell_type": "code",
   "execution_count": null,
   "metadata": {},
   "outputs": [],
   "source": [
    "# lets first output my_list\n",
    "my_list"
   ]
  },
  {
   "cell_type": "code",
   "execution_count": null,
   "metadata": {},
   "outputs": [],
   "source": [
    "# slice from index 1 to index 5 with step size of 2\n",
    "my_list[1:5:2]"
   ]
  },
  {
   "cell_type": "code",
   "execution_count": null,
   "metadata": {},
   "outputs": [],
   "source": [
    "# Slice from index 2 up to but not including the second to last element\n",
    "my_list[2:-2]"
   ]
  },
  {
   "cell_type": "code",
   "execution_count": null,
   "metadata": {},
   "outputs": [],
   "source": [
    "# slice with defaul start, stop and step. Looks strange but is legal\n",
    "my_list[::]"
   ]
  },
  {
   "cell_type": "code",
   "execution_count": null,
   "metadata": {},
   "outputs": [],
   "source": [
    "# Same thing as above\n",
    "my_list[:]"
   ]
  },
  {
   "cell_type": "markdown",
   "metadata": {},
   "source": [
    "# List Concatenation\n",
    "There are two ways to concatenate two lists together.\n",
    "* Use the plus operator\n",
    "* Use the **`extend`** method\n",
    "\n",
    "The plus operator produces a new list object, while **`extend`** mutates the **calling list** in-place. The calling list is the one that is invoking the method, the one using dot notation.\n",
    "\n",
    "### Concatenation of multiple lists with the plus operator\n",
    "See the below examples of concatenation with the plus operator. Notice how the original lists are not mutated."
   ]
  },
  {
   "cell_type": "code",
   "execution_count": null,
   "metadata": {},
   "outputs": [],
   "source": [
    "list_1 = [1,2,3]\n",
    "list_2 = [4, 5, 6]\n",
    "list_1 + list_2"
   ]
  },
  {
   "cell_type": "code",
   "execution_count": null,
   "metadata": {},
   "outputs": [],
   "source": [
    "list_1"
   ]
  },
  {
   "cell_type": "code",
   "execution_count": null,
   "metadata": {},
   "outputs": [],
   "source": [
    "list_2"
   ]
  },
  {
   "cell_type": "code",
   "execution_count": null,
   "metadata": {},
   "outputs": [],
   "source": [
    "# add lists without first assigning to a variable\n",
    "[4, 5, 6] + [1, 2, 3]"
   ]
  },
  {
   "cell_type": "code",
   "execution_count": null,
   "metadata": {},
   "outputs": [],
   "source": [
    "# you can add any number of lists together\n",
    "[1, 4, 5] + [10] + ['a', 'b', 'c'] + [True, [1, 2, 3]]"
   ]
  },
  {
   "cell_type": "code",
   "execution_count": null,
   "metadata": {},
   "outputs": [],
   "source": [
    "# save the new list to a variable to reuse it later\n",
    "new_list = [1, 4, 5] + [10] + ['a', 'b', 'c'] + [True, [1, 2, 3]]\n",
    "new_list"
   ]
  },
  {
   "cell_type": "markdown",
   "metadata": {},
   "source": [
    "### Use the `extend` method to mutate the calling list in place\n",
    "Notice that you must pass a list (or a list-like object) to the **`extend`** method"
   ]
  },
  {
   "cell_type": "code",
   "execution_count": null,
   "metadata": {},
   "outputs": [],
   "source": [
    "# there is also the extend method, which concatenates lists in-place\n",
    "list_1 = ['a', 'b', 'c']\n",
    "list_2 = [99, 100]\n",
    "list_1.extend(list_2) # Returns None (no output) and the operation happens in-place"
   ]
  },
  {
   "cell_type": "code",
   "execution_count": null,
   "metadata": {},
   "outputs": [],
   "source": [
    "# output the list to see extend worked properly\n",
    "list_1"
   ]
  },
  {
   "cell_type": "code",
   "execution_count": null,
   "metadata": {},
   "outputs": [],
   "source": [
    "# the second list is unmodified\n",
    "list_2"
   ]
  },
  {
   "cell_type": "code",
   "execution_count": null,
   "metadata": {},
   "outputs": [],
   "source": [
    "# extend with a new list that is not assigned to a variable\n",
    "list_1 = [1, 2]\n",
    "list_1.extend(['end'])\n",
    "\n",
    "list_1"
   ]
  },
  {
   "cell_type": "markdown",
   "metadata": {},
   "source": [
    "### Problem 9\n",
    "<span style=\"color:green\">Create a list then use the `extend` method to add four elements to it</span>"
   ]
  },
  {
   "cell_type": "code",
   "execution_count": null,
   "metadata": {},
   "outputs": [],
   "source": [
    "# your code here"
   ]
  },
  {
   "cell_type": "markdown",
   "metadata": {},
   "source": [
    "### Problem 10\n",
    "<span style=\"color:green\">In words, without actually programming, what will <strong>my_list * 5</strong> do?</span>"
   ]
  },
  {
   "cell_type": "code",
   "execution_count": null,
   "metadata": {},
   "outputs": [],
   "source": [
    "#### Change this cell to markdown and answer the question here \n"
   ]
  },
  {
   "cell_type": "code",
   "execution_count": null,
   "metadata": {},
   "outputs": [],
   "source": [
    "#### verify the results in this code cell"
   ]
  },
  {
   "cell_type": "markdown",
   "metadata": {},
   "source": [
    "## Lists of Lists\n",
    "List elements may be of any type, meaning that we can create lists of lists, which are similar to n-dimensional arrays in scientific computing."
   ]
  },
  {
   "cell_type": "code",
   "execution_count": null,
   "metadata": {},
   "outputs": [],
   "source": [
    "# create a list of lists\n",
    "list_list = [[1, 2, 3], [5,6], [90, 100, 109]]"
   ]
  },
  {
   "cell_type": "code",
   "execution_count": null,
   "metadata": {},
   "outputs": [],
   "source": [
    "# What happens when we access the first element?\n",
    "list_list[0]"
   ]
  },
  {
   "cell_type": "markdown",
   "metadata": {},
   "source": [
    "### Select a single element from a list within a list\n",
    "Use two consecutive square bracket selections when selecting an element from a list of a list. The first selection below selects the list **`[1, 2, 3]`** and the second selects the integer 3."
   ]
  },
  {
   "cell_type": "code",
   "execution_count": null,
   "metadata": {},
   "outputs": [],
   "source": [
    "# How to access nested lists\n",
    "list_list[0][2]"
   ]
  },
  {
   "cell_type": "code",
   "execution_count": null,
   "metadata": {},
   "outputs": [],
   "source": [
    "# Use different indices to get the same item\n",
    "list_list[-1][-2]"
   ]
  },
  {
   "cell_type": "code",
   "execution_count": null,
   "metadata": {},
   "outputs": [],
   "source": [
    "# get a  slice of a list of a list\n",
    "list_list[2][1:]"
   ]
  },
  {
   "cell_type": "code",
   "execution_count": null,
   "metadata": {},
   "outputs": [],
   "source": [
    "# mutate this list of list\n",
    "list_list[2][1:] = [900, 909]\n",
    "list_list"
   ]
  },
  {
   "cell_type": "markdown",
   "metadata": {},
   "source": [
    "# Check item is in list\n",
    "To determine if an element is contained within a list, the **`in`** or **`not in`** operator is used. This is done in the same way as checking for a substring in a string."
   ]
  },
  {
   "cell_type": "code",
   "execution_count": null,
   "metadata": {},
   "outputs": [],
   "source": [
    "# check list membership\n",
    "my_list = [6, 'word', 2]\n",
    "6 in my_list"
   ]
  },
  {
   "cell_type": "code",
   "execution_count": null,
   "metadata": {},
   "outputs": [],
   "source": [
    "12 in my_list"
   ]
  },
  {
   "cell_type": "code",
   "execution_count": null,
   "metadata": {},
   "outputs": [],
   "source": [
    "5 not in my_list"
   ]
  },
  {
   "cell_type": "markdown",
   "metadata": {},
   "source": [
    "# Control Flow\n",
    "\n",
    "\n",
    "Control flow refers to the order that statements are executed in Python. All previous cells had statements execute one after another in the order that they were written. This part will cover **`if`** statements and iteration, the two most basic categories of how control flow gets manipulated by the programmer.\n",
    "\n",
    "### Indenting and code blocks in Python\n",
    "Python's syntax is so simple that it relies upon **indentation** (and not curly braces like in other languages) beneath code blocks to mark their beginning and end. `if, for, while, def, with` are all statements that have indented code blocks underneath them. A block is ended when the indentation for the current line returns to where it was before the indentation began."
   ]
  },
  {
   "cell_type": "markdown",
   "metadata": {},
   "source": [
    "# Booleans\n",
    "Python has a boolean type with keyword values **`True`** or **`False`**. Python has six standard comparison operators\n",
    "* **`>`** &nbsp;&nbsp;- greater than\n",
    "* **`>=`** - greater than or equal to\n",
    "* **`<`** &nbsp; -  less than\n",
    "* **`<=`** - less than or equal to\n",
    "* **`==`** - equal to\n",
    "* **`!=`** - not equal to\n",
    "\n",
    "All of these evaluate expressions as **`True`** or **`False`**. A single equals sign (**`=`**) is the assignment operator. Evaluate the following comparisons:"
   ]
  },
  {
   "cell_type": "code",
   "execution_count": null,
   "metadata": {},
   "outputs": [],
   "source": [
    "5 > 6 "
   ]
  },
  {
   "cell_type": "code",
   "execution_count": null,
   "metadata": {},
   "outputs": [],
   "source": [
    "5 >= 5"
   ]
  },
  {
   "cell_type": "code",
   "execution_count": null,
   "metadata": {},
   "outputs": [],
   "source": [
    "0 < 0"
   ]
  },
  {
   "cell_type": "code",
   "execution_count": null,
   "metadata": {},
   "outputs": [],
   "source": [
    "0 <= 0"
   ]
  },
  {
   "cell_type": "code",
   "execution_count": null,
   "metadata": {},
   "outputs": [],
   "source": [
    "9 == 9"
   ]
  },
  {
   "cell_type": "code",
   "execution_count": null,
   "metadata": {},
   "outputs": [],
   "source": [
    "10 != 10"
   ]
  },
  {
   "cell_type": "markdown",
   "metadata": {},
   "source": [
    "# `if` statements\n",
    "**`if`** statements determine whether the subsequent block of indented code will be executed or not. A boolean expression always follows the **`if`** keyword. These boolean statements are also called **conditions**.\n",
    "\n",
    "**`if`** statements use simple syntax with no parentheses or curly braces. A colon is placed at the end of the statement. Below it, are indented lines that get executed if the condition is true. The general format for **`if`** statements is as follows:\n",
    "\n",
    "```\n",
    "if condition:\n",
    "    indented code block\n",
    "    with one or\n",
    "    more lines\n",
    "```\n",
    "\n",
    "The condition must evaluate to a boolean. Below is a simple condition testing whether a number is positive. If the condition evaluates to **`True`** then the number is halved and printed out. If not, no further code is run."
   ]
  },
  {
   "cell_type": "code",
   "execution_count": null,
   "metadata": {},
   "outputs": [],
   "source": [
    "x = 90\n",
    "if x >= 0:\n",
    "    half = x / 2\n",
    "    print(f'Half of {x} is {half}')"
   ]
  },
  {
   "cell_type": "markdown",
   "metadata": {},
   "source": [
    "# `else` statements\n",
    "If the condition in the **`if`** statement evaluates to **`False`**, an alternative set of commands may be executed with the **`else`** statement. Notice that **`else`** is at the same indentation level as **`if`** and another colon and code block follow underneath. Statements resume their linear order of execution after the else block ends."
   ]
  },
  {
   "cell_type": "code",
   "execution_count": null,
   "metadata": {},
   "outputs": [],
   "source": [
    "x = -90\n",
    "if x >= 0:\n",
    "    half = x / 2\n",
    "    print(f'Half of {x} is {half}')\n",
    "else:\n",
    "    print('Cannot take the square root of a negative number')\n",
    "    \n",
    "print('The code block ends after indentation returns to previous spot. '\n",
    "      'This print statement gets executed no matter what')"
   ]
  },
  {
   "cell_type": "markdown",
   "metadata": {},
   "source": [
    "# `elif` statements\n",
    "Instead of automatically executing the **`else`** block after a false if condition, an additional condition can be tested with an **`elif`** statement. It is possible to have any number of **`elif`** statements to check any number of specific conditions. The below code checks whether an integer is divisible by several other integers using the modulus (%) operator which returns the remainder from integer division."
   ]
  },
  {
   "cell_type": "code",
   "execution_count": null,
   "metadata": {},
   "outputs": [],
   "source": [
    "x = 47\n",
    "\n",
    "if x % 2 == 0:\n",
    "    print(f'{x} is divisible by 2 and not a prime')\n",
    "elif x % 3 == 0:\n",
    "    print(f'{x} is divisible by 3 and not a prime')\n",
    "elif x % 5 == 0:\n",
    "    print(f'{x} is divisible by 5 and not a prime')\n",
    "elif x % 7 == 0:\n",
    "    print(f'{x} is divisible by 7 and not a prime')\n",
    "elif x % 11 == 0:\n",
    "    print(f'{x} is divisible by 11 and not a prime')\n",
    "else:\n",
    "    print(f'{x} is not divisible by 2,3,5,7,11. It might be prime!')"
   ]
  },
  {
   "cell_type": "markdown",
   "metadata": {},
   "source": [
    "### Multiple boolean conditions\n",
    "It is possible to have any number of boolean conditions evaluated in the same expression by combining them together with **`and`** and **`or`**. For instance, all the **`if`** and **`elif`** statements in the above code can be merged into one statement. It's good practice to wrap each condition in parentheses for readability and accuracy."
   ]
  },
  {
   "cell_type": "code",
   "execution_count": null,
   "metadata": {},
   "outputs": [],
   "source": [
    "# multiple conditions\n",
    "x = 47\n",
    "(x % 2 == 0) or (x % 3 == 0) or (x % 5 == 0) or (x % 7 == 0) or (x % 11 == 0)"
   ]
  },
  {
   "cell_type": "code",
   "execution_count": null,
   "metadata": {},
   "outputs": [],
   "source": [
    "# multiple conditions\n",
    "x = 48\n",
    "(x % 2 == 0) or (x % 3 == 0) or (x % 5 == 0) or (x % 7 == 0) or (x % 11 == 0)"
   ]
  },
  {
   "cell_type": "markdown",
   "metadata": {},
   "source": [
    "### `not`  keyword\n",
    "The `not` keyword reverses any boolean expression"
   ]
  },
  {
   "cell_type": "code",
   "execution_count": null,
   "metadata": {},
   "outputs": [],
   "source": [
    "not True"
   ]
  },
  {
   "cell_type": "code",
   "execution_count": null,
   "metadata": {},
   "outputs": [],
   "source": [
    "not 5 > 4"
   ]
  },
  {
   "cell_type": "markdown",
   "metadata": {},
   "source": [
    "### Problem 12\n",
    "<span style=\"color:green\">Create a string that will execute the second print statement.</span> "
   ]
  },
  {
   "cell_type": "code",
   "execution_count": null,
   "metadata": {},
   "outputs": [],
   "source": [
    "# your code here\n",
    "test_string = '' # change this string so the second print statement below is triggered"
   ]
  },
  {
   "cell_type": "code",
   "execution_count": null,
   "metadata": {},
   "outputs": [],
   "source": [
    "# trigger the second print statement\n",
    "if test_string.count('a') > 4:\n",
    "    print(\"There are more than 4 a's in your string\")\n",
    "elif test_string.find('k') > 10:\n",
    "    print(\"The first k occurs after the 11th element\")\n",
    "else:\n",
    "    print(\"My super intelligent responses did not find any info on your string. Please change it\")"
   ]
  },
  {
   "cell_type": "markdown",
   "metadata": {},
   "source": [
    "### Problem 13\n",
    "<span style=\"color:green\">Create a different string that will execute the third print statement from above. </span> "
   ]
  },
  {
   "cell_type": "code",
   "execution_count": null,
   "metadata": {},
   "outputs": [],
   "source": [
    "# your code here\n",
    "test_string = '' # change this string so the third print statement below is triggered"
   ]
  },
  {
   "cell_type": "code",
   "execution_count": null,
   "metadata": {},
   "outputs": [],
   "source": [
    "# trigger the third print statement\n",
    "if test_string.count('a') > 4:\n",
    "    print(\"There are more than 4 a's in your string\")\n",
    "elif test_string.find('k') > 10:\n",
    "    print(\"The first k occurs after the 11th element\")\n",
    "else:\n",
    "    print(\"My super intelligent responses did not find any info on your string. Please change it\")"
   ]
  },
  {
   "cell_type": "markdown",
   "metadata": {},
   "source": [
    "### Problem 14\n",
    "<span style=\"color:green\">Write an expression that returns true if an integer is either greater than 10 or divisible by 7.</span> "
   ]
  },
  {
   "cell_type": "code",
   "execution_count": null,
   "metadata": {},
   "outputs": [],
   "source": [
    "# your code here"
   ]
  },
  {
   "cell_type": "markdown",
   "metadata": {},
   "source": [
    "### Problem 15\n",
    "<span style=\"color:green\">Write an expression that returns true if the last character of a string is not 's'</span> "
   ]
  },
  {
   "cell_type": "code",
   "execution_count": null,
   "metadata": {},
   "outputs": [],
   "source": [
    "test_string = 'asfdaskfjsafl'\n",
    "# your code here"
   ]
  },
  {
   "cell_type": "markdown",
   "metadata": {},
   "source": [
    "# Looping\n",
    "There are two types of loops, **`for`** and **`while`**. Just as with `if` statements, `for` and `while` statements end in a colon and are followed by indented code blocks. The code block gets continually executed until all elements in the sequence have been iterated through (`for` loop) or until a condition is no longer true (`while` loop).\n",
    "\n",
    "# `for` Loops\n",
    "All **`for`** loops have the following general structure:\n",
    "```\n",
    ">>> for item in object:\n",
    "        do something\n",
    "        in this\n",
    "        code block\n",
    "```\n",
    "\n",
    "The code block gets executed for every item in the iterable object. Let's see a basic example of looping through each character in a string with a **`for`** loop.\n",
    "\n",
    "[1]: https://docs.python.org/3/glossary.html#term-iterable"
   ]
  },
  {
   "cell_type": "code",
   "execution_count": null,
   "metadata": {},
   "outputs": [],
   "source": [
    "# loop through a string\n",
    "my_string = 'data'\n",
    "\n",
    "for char in my_string:\n",
    "    print(char)"
   ]
  },
  {
   "cell_type": "markdown",
   "metadata": {},
   "source": [
    "### The loop variable\n",
    "**`char`** is known as the **loop variable** and implicitly refers to the next character in the string.\n",
    "\n",
    "### Name of loop variable\n",
    "The name of the loop variable is entirely up to you. See the following two examples where different loop variable names are used."
   ]
  },
  {
   "cell_type": "code",
   "execution_count": null,
   "metadata": {},
   "outputs": [],
   "source": [
    "# you can choose any variable name for the looping variable of your sequence\n",
    "for character in my_string:\n",
    "    print(character)"
   ]
  },
  {
   "cell_type": "markdown",
   "metadata": {},
   "source": [
    "### Looping through a list\n",
    "Loop iteration with a list happens in the exact same manner as it does with strings. The loop variable can be any name you choose and references each consecutive member of the list inside the code block."
   ]
  },
  {
   "cell_type": "code",
   "execution_count": null,
   "metadata": {},
   "outputs": [],
   "source": [
    "# looping through a list\n",
    "my_list = [1, 10, 'asf', True]\n",
    "\n",
    "for element in my_list:\n",
    "    print(element)"
   ]
  },
  {
   "cell_type": "markdown",
   "metadata": {},
   "source": [
    "## More interesting loops"
   ]
  },
  {
   "cell_type": "code",
   "execution_count": null,
   "metadata": {},
   "outputs": [],
   "source": [
    "a_list = [3, -2, 8, 5.3, 7]\n",
    "squares = []  # initialize an empty list\n",
    "for x in a_list:\n",
    "    squares.append(x * x)\n",
    "print(squares)"
   ]
  },
  {
   "cell_type": "markdown",
   "metadata": {},
   "source": [
    "### Problem 16\n",
    "<span style=\"color:green\">Calculate the total of the squared value of each of the first 100 positive integers.</span>"
   ]
  },
  {
   "cell_type": "code",
   "execution_count": null,
   "metadata": {},
   "outputs": [],
   "source": [
    "#your code here"
   ]
  },
  {
   "cell_type": "markdown",
   "metadata": {},
   "source": [
    "### Problem 17\n",
    "<span style=\"color:green\">Use a for loop to iterate over the first 10 positive integers, printing out their squared value only if the value is greater than 50</span>"
   ]
  },
  {
   "cell_type": "code",
   "execution_count": null,
   "metadata": {},
   "outputs": [],
   "source": [
    "#your code here"
   ]
  },
  {
   "cell_type": "markdown",
   "metadata": {},
   "source": [
    "# `while` Loops\n",
    "\n",
    "**`while`** loops are the other looping construct that Python provides and work with the following syntax. A code block continually executes until a boolean condition evaluates to **`False`**. The condition is re-checked at the beginning of each iteration.  A while statement ends in a colon and the code block is indented.\n",
    "\n",
    "```\n",
    ">>> while condition:\n",
    "        do something in this\n",
    "        code block as long as condition\n",
    "        evaluates as True\n",
    "```\n",
    "\n",
    "Let's see a trivial example below:"
   ]
  },
  {
   "cell_type": "code",
   "execution_count": null,
   "metadata": {},
   "outputs": [],
   "source": [
    "# Countdown from a given x\n",
    "x = 5\n",
    "while x >= 0:\n",
    "    if x == 0:\n",
    "        print(\"Launch!\")\n",
    "    else:\n",
    "        print(f'{x} seconds to launch')\n",
    "    x -= 1"
   ]
  },
  {
   "cell_type": "markdown",
   "metadata": {},
   "source": [
    "### Problem 18\n",
    "<span style=\"color:green\">Use a while loop to find the sum of all integers between a given postive integer and 0.</span>"
   ]
  },
  {
   "cell_type": "code",
   "execution_count": null,
   "metadata": {},
   "outputs": [],
   "source": [
    "x = 20\n",
    "total = 0\n",
    "# your code here"
   ]
  },
  {
   "cell_type": "markdown",
   "metadata": {},
   "source": [
    "## Infinite Loops\n",
    "**`while`** loops have the potential to run indefinitely if their condition always evaluates as true.\n",
    "\n",
    "## More looping control with `continue` and `break`\n",
    "**`continue`** forces execution to return immediately to the top of the loop for the next iteration. **`break`** exits the loop immediately without any other execution.\n",
    "\n",
    "Let's see a simple example where we sum the numbers 0 through 99 if they are not divisible by 2 or 3."
   ]
  },
  {
   "cell_type": "code",
   "execution_count": null,
   "metadata": {},
   "outputs": [],
   "source": [
    "# Add up only integers from 1 to 99 that are not divisible by 2 or 3\n",
    "total = 0\n",
    "for i in range(100):\n",
    "    if (i % 2 == 0) or (i % 3 == 0):\n",
    "        continue\n",
    "    total += i\n",
    "\n",
    "print(f\"Total is {total}\")"
   ]
  },
  {
   "cell_type": "markdown",
   "metadata": {},
   "source": [
    "## Nested Loops\n",
    "Occasionally it is necessary to execute a loop within a loop. The inner loop is indented further to denote its code block. When the outer loop execution reaches the inner loop, the inner loop will iterate completely before returning execution to the outer loop."
   ]
  },
  {
   "cell_type": "code",
   "execution_count": null,
   "metadata": {},
   "outputs": [],
   "source": [
    "# create a multiplication table\n",
    "for row in range(1, 11):\n",
    "    for col in range(1, 11):\n",
    "        print(f'{row * col:4}', end='')\n",
    "    print()"
   ]
  },
  {
   "cell_type": "markdown",
   "metadata": {},
   "source": [
    "# Functions\n",
    "Functions are fundamental to all programming languages. A function is a group of the same reusable programming statements that can be repeatedly called with a reference to the function name.\n",
    "\n",
    "### Built-in Functions\n",
    "Python comes standard with about [70 builtin functions][1] for the most common and important tasks. These are functions that are ready to use without any need to import them from other modules.\n",
    "\n",
    "### Calling Basic Functions\n",
    "Functions are referenced by their name. To execute the code they are referencing, you must append an open and close parentheses to them. Some functions have parameters that are used to modify the functionality within them. Values for these parameters must be placed within the parentheses separated by commas.\n",
    "\n",
    "[1]: https://docs.python.org/3/library/functions.html"
   ]
  },
  {
   "cell_type": "code",
   "execution_count": null,
   "metadata": {},
   "outputs": [],
   "source": [
    "# take the absolute value of a number\n",
    "abs(-5)"
   ]
  },
  {
   "cell_type": "code",
   "execution_count": null,
   "metadata": {},
   "outputs": [],
   "source": [
    "# get the max of two values\n",
    "max(5, 8)"
   ]
  },
  {
   "cell_type": "code",
   "execution_count": null,
   "metadata": {},
   "outputs": [],
   "source": [
    "# get the max value of a list\n",
    "max([11, 4, 6, 8])"
   ]
  },
  {
   "cell_type": "code",
   "execution_count": null,
   "metadata": {},
   "outputs": [],
   "source": [
    "# Get the length of a list\n",
    "my_list = [8, 0, 'asf', True]\n",
    "len(my_list)"
   ]
  },
  {
   "cell_type": "markdown",
   "metadata": {},
   "source": [
    "### Shift + tab + tab for help\n",
    "My favorite way of getting help is to write the name of the function and then press tab twice while holding down the shift key. This pops up the docstring in the cell."
   ]
  },
  {
   "cell_type": "code",
   "execution_count": null,
   "metadata": {},
   "outputs": [],
   "source": [
    "# Place the cursor at the end of the function then press shift + tab + tab\n",
    "max"
   ]
  },
  {
   "cell_type": "code",
   "execution_count": null,
   "metadata": {},
   "outputs": [],
   "source": [
    "# pass max an iterable - here a list of numbers\n",
    "max([1, 2, 5, -9])"
   ]
  },
  {
   "cell_type": "code",
   "execution_count": null,
   "metadata": {},
   "outputs": [],
   "source": [
    "# pass max a different iterable - a string\n",
    "max('lkjhweruih')"
   ]
  },
  {
   "cell_type": "markdown",
   "metadata": {},
   "source": [
    "# User defined functions\n",
    "Thus far we have only used functions built into the language. You can define your own functions as well. Functions are defined using the **`def`** keyword followed by the function name and a set of parentheses. If the function takes any parameters, their names are written separated by commas within the parentheses.\n",
    "\n",
    "The first line of a function definition always ends with a colon. The body of the function is indented. The function ends when the indentation returns to where it was before the function was defined.\n",
    "\n",
    "### Function with no parameters\n",
    "Let's begin by writing a simple user-defined function with no parameters. The **`hello`** function has a single line of code in its body. It prints a short message."
   ]
  },
  {
   "cell_type": "code",
   "execution_count": null,
   "metadata": {},
   "outputs": [],
   "source": [
    "# define function\n",
    "\n",
    "def hello():\n",
    "    print('Hello, this is a function')"
   ]
  },
  {
   "cell_type": "code",
   "execution_count": null,
   "metadata": {},
   "outputs": [],
   "source": [
    "# execute function\n",
    "hello()"
   ]
  },
  {
   "cell_type": "markdown",
   "metadata": {},
   "source": [
    "### Function that returns a value\n",
    "All functions in Python return a value. To explicitly return a value, the **`return`** statement is used. Notice how the **`hello`** function does not have a **`return`** statement. If no return statement is present, Python will return the object **`None`**.\n",
    "\n",
    "Let's assign the returned value of the **`hello`** function to a variable and verify that is indeed **`None`**."
   ]
  },
  {
   "cell_type": "code",
   "execution_count": null,
   "metadata": {},
   "outputs": [],
   "source": [
    "# capture returned value\n",
    "x = hello()"
   ]
  },
  {
   "cell_type": "code",
   "execution_count": null,
   "metadata": {},
   "outputs": [],
   "source": [
    "# verify it is None\n",
    "x is None"
   ]
  },
  {
   "cell_type": "markdown",
   "metadata": {},
   "source": [
    "### Defining a function that returns a value\n",
    "\n",
    "Below, we create a function that returns the square root of 5 using [Newton's method][1].\n",
    "\n",
    "[1]: https://en.wikipedia.org/wiki/Newton%27s_method#Square_root_of_a_number"
   ]
  },
  {
   "cell_type": "code",
   "execution_count": null,
   "metadata": {},
   "outputs": [],
   "source": [
    "def sqrt_5():\n",
    "    guess = 2\n",
    "    diff = 5 - guess ** 2\n",
    "    while abs(diff) > .0001:\n",
    "        guess = guess - (guess ** 2 - 5) / (2 * guess)\n",
    "        diff = 5 - guess ** 2\n",
    "    return guess"
   ]
  },
  {
   "cell_type": "markdown",
   "metadata": {},
   "source": [
    "### Defining a function with a parameter\n",
    "User defined functions may have any number of parameters. The following function has a single parameter **`name`**."
   ]
  },
  {
   "cell_type": "code",
   "execution_count": null,
   "metadata": {},
   "outputs": [],
   "source": [
    "def hello2(name):\n",
    "    print(f'Hello {name}, this is a function')"
   ]
  },
  {
   "cell_type": "markdown",
   "metadata": {},
   "source": [
    "### Calling a function with a parameter\n",
    "There are two separate but equal ways for calling functions with parameters. You can supply the parameter name or just the value itself. Let's take a look at both ways:"
   ]
  },
  {
   "cell_type": "code",
   "execution_count": null,
   "metadata": {},
   "outputs": [],
   "source": [
    "# Using the parameter name\n",
    "hello2(name='Penelope')"
   ]
  },
  {
   "cell_type": "code",
   "execution_count": null,
   "metadata": {},
   "outputs": [],
   "source": [
    "# Use just the value itself\n",
    "hello2('Niko')"
   ]
  },
  {
   "cell_type": "markdown",
   "metadata": {},
   "source": [
    "### Defining a function with multiple parameters"
   ]
  },
  {
   "cell_type": "code",
   "execution_count": null,
   "metadata": {},
   "outputs": [],
   "source": [
    "def sqrt_newton(num, guess, error):\n",
    "    diff = num - guess ** 2\n",
    "    while abs(diff) > error:\n",
    "        guess = guess - (guess ** 2 - num) / (2 * guess)\n",
    "        diff = num - guess ** 2\n",
    "    return guess"
   ]
  },
  {
   "cell_type": "markdown",
   "metadata": {},
   "source": [
    "### Calling a function with multiple parameters\n",
    "\n",
    "As before, let's call this function by both with and without the parameters."
   ]
  },
  {
   "cell_type": "code",
   "execution_count": null,
   "metadata": {},
   "outputs": [],
   "source": [
    "# estimate the square root of 100 with initial guess of 8.\n",
    "sqrt_newton(num=100, guess=8, error=.01)"
   ]
  },
  {
   "cell_type": "code",
   "execution_count": null,
   "metadata": {},
   "outputs": [],
   "source": [
    "# without parameter names\n",
    "sqrt_newton(100, 8, .01)"
   ]
  },
  {
   "cell_type": "markdown",
   "metadata": {},
   "source": [
    "### Default values for parameters\n",
    "It is possible to assign default values to function parameters during the definition. This allows for the function to be called without explicitly assigning that parameter a value.\n",
    "\n",
    "We redefine our square root function to have a default maximum error of .1."
   ]
  },
  {
   "cell_type": "code",
   "execution_count": null,
   "metadata": {},
   "outputs": [],
   "source": [
    "def sqrt_newton2(num, guess, error=.01):\n",
    "    diff = num - guess ** 2\n",
    "    while abs(diff) > error:\n",
    "        guess = guess - (guess ** 2 - num) / (2 * guess)\n",
    "        diff = num - guess ** 2\n",
    "    return guess"
   ]
  },
  {
   "cell_type": "code",
   "execution_count": null,
   "metadata": {},
   "outputs": [],
   "source": [
    "# We no longer have to specify the error\n",
    "sqrt_newton2(100, 8)"
   ]
  },
  {
   "cell_type": "code",
   "execution_count": null,
   "metadata": {},
   "outputs": [],
   "source": [
    "# You can still specify the error\n",
    "sqrt_newton2(100, 8, .00001)"
   ]
  },
  {
   "cell_type": "markdown",
   "metadata": {},
   "source": [
    "### Problem 19\n",
    "\n",
    "<span style=\"color:green\">Create a function that takes a string argument and returns True or False whether the string is a palindrome (spelled the same foward and backwards). Test your function on the word 'racecar'</span>"
   ]
  },
  {
   "cell_type": "code",
   "execution_count": null,
   "metadata": {},
   "outputs": [],
   "source": [
    "# your code here"
   ]
  },
  {
   "cell_type": "markdown",
   "metadata": {},
   "source": [
    "### Problem 20\n",
    "\n",
    "<span style=\"color:green\">Create a function `concat_sort_list` that takes two lists and concatenates them together, sorts the list and then returns the sorted list.</span>"
   ]
  },
  {
   "cell_type": "code",
   "execution_count": null,
   "metadata": {},
   "outputs": [],
   "source": [
    "# your code here"
   ]
  },
  {
   "cell_type": "code",
   "execution_count": null,
   "metadata": {},
   "outputs": [],
   "source": [
    "# test code with\n",
    "concat_sort_list([4, 5, 2], [9, 0, -8]) == [-8, 0, 2, 4, 5, 9]"
   ]
  },
  {
   "cell_type": "markdown",
   "metadata": {},
   "source": [
    "# General Rules of Thumb for Functions\n",
    "Generally speaking, most professional Python code is written inside of a function or a method. Functions should do one task and do it well. If you find yourself writing a function that is doing more than one task it's probably best to break it up into multiple functions. \n",
    "\n",
    "Although you can write functions with any number of lines, functions greater than about 20 lines of code can signal that they need to be broken up into multiple different functions. [Heres a good Stack Exchange answer](http://softwareengineering.stackexchange.com/questions/133404/what-is-the-ideal-length-of-a-method-for-you/133406#133406) on writing functions."
   ]
  },
  {
   "cell_type": "markdown",
   "metadata": {},
   "source": [
    "# Tuples, Sets, and Dictionaries\n",
    "\n",
    "# Tuples\n",
    "Tuples are very similar to lists. They contain any number of objects of any type. The major difference is that tuples are immutable and thus cannot be changed once created. No elements can be added, deleted or changed from them. \n",
    "\n",
    "\n",
    "## Syntax for declaring a tuple\n",
    "Tuples are declared with a sequence of objects separated by commas wrapped in **parentheses**.\n",
    "\n",
    "Let's declare some tuples below:"
   ]
  },
  {
   "cell_type": "code",
   "execution_count": null,
   "metadata": {},
   "outputs": [],
   "source": [
    "# tuple with three integers\n",
    "a = (1, 2, 10)\n",
    "\n",
    "a"
   ]
  },
  {
   "cell_type": "code",
   "execution_count": null,
   "metadata": {
    "scrolled": true
   },
   "outputs": [],
   "source": [
    "# tuple with multiple different types\n",
    "b = (1, 'one', True, [9, 10])\n",
    "\n",
    "b"
   ]
  },
  {
   "cell_type": "markdown",
   "metadata": {},
   "source": [
    "# Selecting items from a tuple\n",
    "Selecting one or more items from a tuple is done in the exact same manner as with a list. The integer location of the desired item is placed in the brackets, **`[]`**. You can also use slice notation to select multiple items that are returned in a new tuple.\n",
    "\n",
    "Let's create a tuple and then select one or more items from it."
   ]
  },
  {
   "cell_type": "code",
   "execution_count": null,
   "metadata": {},
   "outputs": [],
   "source": [
    "# create a tuple with a variety of types including other tuples\n",
    "t = ['phone', 12, 4.44, True, [3, 4, 5], (5, 4, 2)]\n",
    "t"
   ]
  },
  {
   "cell_type": "code",
   "execution_count": null,
   "metadata": {},
   "outputs": [],
   "source": [
    "# select the first element\n",
    "t[0]"
   ]
  },
  {
   "cell_type": "code",
   "execution_count": null,
   "metadata": {},
   "outputs": [],
   "source": [
    "# select elements from integer location 3 to 6\n",
    "t[3:6]"
   ]
  },
  {
   "cell_type": "code",
   "execution_count": null,
   "metadata": {},
   "outputs": [],
   "source": [
    "# select the first 4 elements\n",
    "t[:4]"
   ]
  },
  {
   "cell_type": "markdown",
   "metadata": {},
   "source": [
    "### Concatenating tuples\n",
    "Concatenating tuples happens with the plus operator. This creates a new tuple object."
   ]
  },
  {
   "cell_type": "code",
   "execution_count": null,
   "metadata": {},
   "outputs": [],
   "source": [
    "(1, 2) + (3, 4, 5)"
   ]
  },
  {
   "cell_type": "code",
   "execution_count": null,
   "metadata": {},
   "outputs": [],
   "source": [
    "a = (1, 2)\n",
    "b = ('some', 'other', 'tuple')\n",
    "\n",
    "a + b"
   ]
  },
  {
   "cell_type": "markdown",
   "metadata": {},
   "source": [
    "### Duplicating tuples\n",
    "You can duplicate each item in the tuple by multiplying it by an integer."
   ]
  },
  {
   "cell_type": "code",
   "execution_count": null,
   "metadata": {},
   "outputs": [],
   "source": [
    "(1, 2, 3) * 5"
   ]
  },
  {
   "cell_type": "markdown",
   "metadata": {},
   "source": [
    "# Sets\n",
    "Sets in Python are similar but slightly different than lists or tuples. Python sets are **unordered** sequences of objects that only contain **unique** elements. Sets are **mutable** and you may modify them after creation. \n",
    "\n",
    "### Syntax for creating a set\n",
    "Sets are created with curly braces followed by comma separated values. Let's see some examples of creating a set."
   ]
  },
  {
   "cell_type": "code",
   "execution_count": null,
   "metadata": {},
   "outputs": [],
   "source": [
    "a = {1, 2, 3, 4}\n",
    "a"
   ]
  },
  {
   "cell_type": "code",
   "execution_count": null,
   "metadata": {},
   "outputs": [],
   "source": [
    "b = {'sdf', 'er', 1, 3}\n",
    "\n",
    "b"
   ]
  },
  {
   "cell_type": "markdown",
   "metadata": {},
   "source": [
    "### Cannot have duplicates when creating a set\n",
    "Sets only contain unique elements, so if we try and create a set with repeated values, then only a single copy of the element will remain in the set."
   ]
  },
  {
   "cell_type": "code",
   "execution_count": null,
   "metadata": {},
   "outputs": [],
   "source": [
    "{1, 1, 1, 1, 2, 2, 2}"
   ]
  },
  {
   "cell_type": "markdown",
   "metadata": {},
   "source": [
    "### Sets can only contain immutable objects\n",
    "One major difference between sets and other data structures is that the elements must be immutable objects. For instance, if we try and add a list to our set we get the following error:"
   ]
  },
  {
   "cell_type": "code",
   "execution_count": null,
   "metadata": {},
   "outputs": [],
   "source": [
    "{1, 2, ['some', 'list']}"
   ]
  },
  {
   "cell_type": "markdown",
   "metadata": {},
   "source": [
    "### Accessing items in a set\n",
    "Since sets are unordered, there is no way to access a specific element within the set like with tuples/lists. You cannot use the brackets and place an integer index within. You will get the following error:"
   ]
  },
  {
   "cell_type": "code",
   "execution_count": null,
   "metadata": {},
   "outputs": [],
   "source": [
    "s = {1, 2, 3}\n",
    "\n",
    "s[0]"
   ]
  },
  {
   "cell_type": "markdown",
   "metadata": {},
   "source": [
    "### How are sets useful?\n",
    "One of the primary uses for sets is to keep a unique collection of items. For instance, you are rolling a pair of dice and want to keep track of all the unique rolls. \n",
    "\n",
    "Another primary use of sets is to quickly test membership of a particular item. For instance, if we want to test whether a particular integer is a member of a set we can do so very quickly as compared to a list.\n",
    "\n",
    "Multiple sets may be combined analogously to mathematical sets as unions, intersections, and differences.\n",
    "\n",
    "### Speed of sets\n",
    "Sets are implemented using hash tables which allow for extremely fast membership checking. This is different than checking membership in a list where all the elements must be checked one at a time.\n",
    "\n",
    "### Using %timeit magic function\n",
    "iPython comes with some nifty extra functionality called 'magic' functions. The %timeit magic function allows you to time a code block in your notebook. The example below shows how much faster membership checking is for sets than it is for lists. A list and a set are created with the exact same one million elements. The number 900,000 will be checked for membership in each object. To time a single line of code, proceed the line by `%timeit`.\n",
    "\n",
    "### Check for membership\n",
    "We will first create both a set and a list of one million integers and check for membership with one particular integer. We will time this operation on both the list and set."
   ]
  },
  {
   "cell_type": "code",
   "execution_count": null,
   "metadata": {},
   "outputs": [],
   "source": [
    "n = 1000000\n",
    "a_set = set(range(n))\n",
    "a_list = list(range(n))\n",
    "num = 900000"
   ]
  },
  {
   "cell_type": "code",
   "execution_count": null,
   "metadata": {},
   "outputs": [],
   "source": [
    "%timeit num in a_set"
   ]
  },
  {
   "cell_type": "code",
   "execution_count": null,
   "metadata": {},
   "outputs": [],
   "source": [
    "%timeit num in a_list"
   ]
  },
  {
   "cell_type": "markdown",
   "metadata": {},
   "source": [
    "### Unbelievable time difference!\n",
    "On my machine, the membership check took 65 nanoseconds (one nanosecond is a billionth of a second) vs the list's 11 milliseconds (one thousandth of a second). That is over 100,000 times faster for the set than the list.\n",
    "\n",
    "One astonishing fact about sets is that regardless of large the set becomes, membership checking will be very fast and remain just about the same amount of time."
   ]
  },
  {
   "cell_type": "markdown",
   "metadata": {},
   "source": [
    "# Set Operations\n",
    "See examples below on basic operations of sets. Let's first define two sets."
   ]
  },
  {
   "cell_type": "code",
   "execution_count": null,
   "metadata": {},
   "outputs": [],
   "source": [
    "# define two sets\n",
    "a = {1, 2, 3, 4}\n",
    "b = {3, 4, 5, 6}"
   ]
  },
  {
   "cell_type": "markdown",
   "metadata": {},
   "source": [
    "### Membership checking with `in`\n",
    "Determine whether or not a set contains an element. Use **`not in`** to reverse the condition."
   ]
  },
  {
   "cell_type": "code",
   "execution_count": null,
   "metadata": {},
   "outputs": [],
   "source": [
    "5 in a"
   ]
  },
  {
   "cell_type": "code",
   "execution_count": null,
   "metadata": {},
   "outputs": [],
   "source": [
    "6 not in b"
   ]
  },
  {
   "cell_type": "markdown",
   "metadata": {},
   "source": [
    "### Find the union of two sets\n",
    "There is no concatenation of sets, instead we use the term **union** to represent all the unique elements of two sets. You can either use the pipe symbol, **`|`**, or the method **`union`**. "
   ]
  },
  {
   "cell_type": "code",
   "execution_count": null,
   "metadata": {},
   "outputs": [],
   "source": [
    "a | b"
   ]
  },
  {
   "cell_type": "code",
   "execution_count": null,
   "metadata": {},
   "outputs": [],
   "source": [
    "a.union(b)"
   ]
  },
  {
   "cell_type": "markdown",
   "metadata": {},
   "source": [
    "### Intersection of two sets\n",
    "The intersection of two sets is all the elements they have in common. Use the ampersand symbol, **`&`**, or the **`intersection`** method."
   ]
  },
  {
   "cell_type": "code",
   "execution_count": null,
   "metadata": {},
   "outputs": [],
   "source": [
    "a & b"
   ]
  },
  {
   "cell_type": "code",
   "execution_count": null,
   "metadata": {},
   "outputs": [],
   "source": [
    "a.intersection(b)"
   ]
  },
  {
   "cell_type": "markdown",
   "metadata": {},
   "source": [
    "### Difference of two sets\n",
    "The difference between two sets is a non-commutative (meaning that the order matters) operation that removes all elements of the first second that are in common with the second. You can use the subtraction sign or the **`difference`** method. Notice how **`a - b != b - a`**"
   ]
  },
  {
   "cell_type": "code",
   "execution_count": null,
   "metadata": {},
   "outputs": [],
   "source": [
    "a - b"
   ]
  },
  {
   "cell_type": "code",
   "execution_count": null,
   "metadata": {},
   "outputs": [],
   "source": [
    "b - a"
   ]
  },
  {
   "cell_type": "code",
   "execution_count": null,
   "metadata": {},
   "outputs": [],
   "source": [
    "a.difference(b)"
   ]
  },
  {
   "cell_type": "markdown",
   "metadata": {},
   "source": [
    "### Symmetric difference\n",
    "The symmetric difference is a commutative operation that returns a set with all elements unique to each one. You can use the caret symbol, **`^`** or the **`symmetric_difference`** method."
   ]
  },
  {
   "cell_type": "code",
   "execution_count": null,
   "metadata": {},
   "outputs": [],
   "source": [
    "a ^ b"
   ]
  },
  {
   "cell_type": "code",
   "execution_count": null,
   "metadata": {},
   "outputs": [],
   "source": [
    "b ^ a"
   ]
  },
  {
   "cell_type": "code",
   "execution_count": null,
   "metadata": {},
   "outputs": [],
   "source": [
    "a.symmetric_difference(b)"
   ]
  },
  {
   "cell_type": "code",
   "execution_count": null,
   "metadata": {},
   "outputs": [],
   "source": [
    "a ^ b"
   ]
  },
  {
   "cell_type": "markdown",
   "metadata": {},
   "source": [
    "# Mutating sets\n",
    "All of the above examples created new sets but did not change the underlying sets. Sets are mutable and we can add or remove elements as we please.\n",
    "\n",
    "The **`add`** method will permanently add a new element to our set, granted it is not already there."
   ]
  },
  {
   "cell_type": "code",
   "execution_count": null,
   "metadata": {},
   "outputs": [],
   "source": [
    "# add an element to set \n",
    "a.add(10) # operation happens in place\n",
    "b.add(6) # 6 is already a member so no item is added\n",
    "print(a)\n",
    "print(b)"
   ]
  },
  {
   "cell_type": "markdown",
   "metadata": {},
   "source": [
    "### Problem 21\n",
    "\n",
    "<span style=\"color:green\">Define a set and think of a function that will output the number of elements in that set.</span>"
   ]
  },
  {
   "cell_type": "code",
   "execution_count": null,
   "metadata": {},
   "outputs": [],
   "source": [
    "# your code here"
   ]
  },
  {
   "cell_type": "markdown",
   "metadata": {},
   "source": [
    "# Dictionaries\n",
    "Dictionaries are powerful and flexible data structures similar to lists, tuples, and sets. Dictionaries consist of a **pair** of objects. Each dictionary item is a mapping from a **`key`** to a **`value`**, often called **key value pairs**. Every key has exactly one value that is associated with it.\n",
    "\n",
    "Dictionaries are very similar to their lexical counterparts where each word is mapped to a definition. In Python terms, the word would be the **`key`** and the definition the **`value`**.\n",
    "\n",
    "### Dictionary Syntax\n",
    "\n",
    "Dictionaries are defined using the same curly braces as sets, but each item in a dictionary consists of a key value pair separated by a colon. Each item in a dictionary is separated by a comma. As with sets, the keys of a dictionary must be immutable (ints, strings, tuples, etc...). The values however, may be an object of any type.\n",
    "\n",
    "Let's see some examples of dictionaries defined using curly braces"
   ]
  },
  {
   "cell_type": "code",
   "execution_count": null,
   "metadata": {},
   "outputs": [],
   "source": [
    "# Defining dictionaries\n",
    "letter_dict = {'a': 1, 'b': 2, 'z': 26}\n",
    "\n",
    "num_to_word_dict = {1:'one', 2:'two', 234:'two-hundred thirty four'}\n",
    "\n",
    "city_coord_dict = {(29, 95):'Houston', (29, 90):'New Orleans'}"
   ]
  },
  {
   "cell_type": "markdown",
   "metadata": {},
   "source": [
    "### Dictionary Values can be Anything\n",
    "Dictionaries are key value pairs where the key is a hashable object. The value can be any Python object including lists or even other dictionaries.\n",
    "\n",
    "Let's say we are teachers with students that have test score grades. A dictionary is an excellent data structure to keep track of the scores. Let's manually create some data with 3 students that each have 3 test scores"
   ]
  },
  {
   "cell_type": "code",
   "execution_count": null,
   "metadata": {},
   "outputs": [],
   "source": [
    "students = {'Sally': [87, 76, 65], 'Jane' : [45, 98, 77], 'Adeline' : [65, 22, 10]}\n",
    "students"
   ]
  },
  {
   "cell_type": "markdown",
   "metadata": {},
   "source": [
    "### Selecting values of a dictionary\n",
    "The most common dictionary operation is to select one particular value from it. To do this we place the key inside of the brackets. The associated value is returned.\n",
    "\n",
    "Let's select some values with their associated key from a few dictionaries."
   ]
  },
  {
   "cell_type": "code",
   "execution_count": null,
   "metadata": {},
   "outputs": [],
   "source": [
    "# redefine some dictionaries from above\n",
    "letter_dict = {'a': 1, 'b': 2, 'z': 26}\n",
    "\n",
    "num_to_word_dict = {1:'one', 2:'two', 234:'two-hundred thirty four'}\n",
    "\n",
    "city_coord_dict = {(29, 95):'Houston', (29, 90):'New Orleans'}"
   ]
  },
  {
   "cell_type": "code",
   "execution_count": null,
   "metadata": {},
   "outputs": [],
   "source": [
    "# retreiving items\n",
    "letter_dict['a']"
   ]
  },
  {
   "cell_type": "code",
   "execution_count": null,
   "metadata": {},
   "outputs": [],
   "source": [
    "letter_dict['z']"
   ]
  },
  {
   "cell_type": "code",
   "execution_count": null,
   "metadata": {},
   "outputs": [],
   "source": [
    "city_coord_dict[(29, 95)]"
   ]
  },
  {
   "cell_type": "code",
   "execution_count": null,
   "metadata": {},
   "outputs": [],
   "source": [
    "num_to_word_dict[234]"
   ]
  },
  {
   "cell_type": "markdown",
   "metadata": {},
   "source": [
    "### KeyError\n",
    "If you try and select a value from your dictionary with a key that does not exist, you will get a **`KeyError`**."
   ]
  },
  {
   "cell_type": "code",
   "execution_count": null,
   "metadata": {},
   "outputs": [],
   "source": [
    "# first see what happens when a key is not in the dictionary\n",
    "letter_dict['c']"
   ]
  },
  {
   "cell_type": "markdown",
   "metadata": {},
   "source": [
    "### There is no integer location in dictionaries\n",
    "Lists and tuples are ordered sequences of objects with syntax that allows you to select elements by their integer location. Technically, as of Python 3.7, dictionaries are also ordered, but you still cannot select values by integer location.\n",
    "\n",
    "Attempting to select the first value with **`0`** like with lists is going to yield a **`KeyError`** (unless the dictionary actually has **`0`** as one of its keys)."
   ]
  },
  {
   "cell_type": "code",
   "execution_count": null,
   "metadata": {},
   "outputs": [],
   "source": [
    "num_to_word_dict[0]"
   ]
  },
  {
   "cell_type": "markdown",
   "metadata": {},
   "source": [
    "### Dictionary Membership Checking\n",
    "Check membership (of the key) the same way as with sets with the `in` operator. Speed is just as fast as with sets."
   ]
  },
  {
   "cell_type": "code",
   "execution_count": null,
   "metadata": {},
   "outputs": [],
   "source": [
    "# Test whether 'Tom' is a student\n",
    "'Tom' in students"
   ]
  },
  {
   "cell_type": "markdown",
   "metadata": {},
   "source": [
    "### Get just the keys and values separately\n",
    "The below methods retrieve the keys and values."
   ]
  },
  {
   "cell_type": "code",
   "execution_count": null,
   "metadata": {},
   "outputs": [],
   "source": [
    "# Get just the keys\n",
    "students.keys()"
   ]
  },
  {
   "cell_type": "code",
   "execution_count": null,
   "metadata": {},
   "outputs": [],
   "source": [
    "# get just the values\n",
    "students.values()"
   ]
  },
  {
   "cell_type": "markdown",
   "metadata": {},
   "source": [
    "# Mutating Dictionaries\n",
    "Dictionaries are mutable and new key:value pairs can be added, deleted, and updated at any time after creation."
   ]
  },
  {
   "cell_type": "code",
   "execution_count": null,
   "metadata": {},
   "outputs": [],
   "source": [
    "# Define a dictionary\n",
    "students = {'Sally': [87, 76, 65], 'Jane' : [45, 98, 77], 'Adeline' : [65, 22, 10]}"
   ]
  },
  {
   "cell_type": "code",
   "execution_count": null,
   "metadata": {},
   "outputs": [],
   "source": [
    "# add a new student key:value pair\n",
    "students['Penelope'] = [100, 98, 90]\n",
    "\n",
    "students"
   ]
  },
  {
   "cell_type": "code",
   "execution_count": null,
   "metadata": {},
   "outputs": [],
   "source": [
    "# delete a student\n",
    "del students['Sally']\n",
    "\n",
    "students"
   ]
  },
  {
   "cell_type": "code",
   "execution_count": null,
   "metadata": {},
   "outputs": [],
   "source": [
    "# Change all of the scores of a single student\n",
    "students['Adeline'] = [87, 56, 88]\n",
    "\n",
    "students"
   ]
  },
  {
   "cell_type": "code",
   "execution_count": null,
   "metadata": {},
   "outputs": [],
   "source": [
    "# change a single test score of a student\n",
    "students['Penelope'][2] = 99\n",
    "students"
   ]
  },
  {
   "cell_type": "code",
   "execution_count": null,
   "metadata": {},
   "outputs": [],
   "source": [
    "# add a key:value pair of completely different type\n",
    "students[0] = 'zero'\n",
    "\n",
    "students"
   ]
  },
  {
   "cell_type": "markdown",
   "metadata": {},
   "source": [
    "# Iterate through dictionaries\n",
    "One of the most common operations on a dictionary is to loop (iterate) through each key, value pair. There are multiple ways to iterate through dictionaries. You can iterate through just the keys, just the values, and both the keys and the values simultaneously.\n",
    "\n",
    "Our first example will loop through only the keys. The **`for`** loop is written exactly how it is with a list or a tuple. The values are not accessible in this manner."
   ]
  },
  {
   "cell_type": "code",
   "execution_count": null,
   "metadata": {},
   "outputs": [],
   "source": [
    "# redefine dictionary\n",
    "test_dict = {'Sally': [87, 76, 65], 'Jane' : [45, 98, 77], 'Adeline' : [65, 22, 10]}\n",
    "\n",
    "for key in test_dict:\n",
    "    print(key)"
   ]
  },
  {
   "cell_type": "markdown",
   "metadata": {},
   "source": [
    "### Looping through key value pairs\n",
    "The above example is the default iteration that Python provides for dictionary. You are only given access to the **`key`**. To get access to both the key and the value we must use the **`items`** method like this:"
   ]
  },
  {
   "cell_type": "code",
   "execution_count": null,
   "metadata": {},
   "outputs": [],
   "source": [
    "for key, value in test_dict.items():\n",
    "    print(key)\n",
    "    print(value)"
   ]
  },
  {
   "cell_type": "markdown",
   "metadata": {},
   "source": [
    "### Looping to find the average score\n",
    "We can use the above example to find the average score for each student. \n",
    "\n",
    "In the below example, the variable **`student`** is assigned to the key and **`scores`** is assigned to the value (a list in this case). Remember that the loop variables can be any name of your choice."
   ]
  },
  {
   "cell_type": "code",
   "execution_count": null,
   "metadata": {},
   "outputs": [],
   "source": [
    "# define students again with test scores\n",
    "students = {'Sally': [87, 76, 65], 'Jane' : [45, 98, 77], 'Adeline' : [65, 22, 10]}\n",
    "\n",
    "for student, scores in students.items():\n",
    "    avg_score = sum(scores) / len(scores)\n",
    "    print(\"{}'s average score is {}\".format(student, avg_score))"
   ]
  },
  {
   "cell_type": "markdown",
   "metadata": {},
   "source": [
    "# Executing a Python Script\n",
    "Jupyter Notebooks are great for exploration and quickly getting feedback on your code. Real development will take place outside of the Jupyter Notebook in a different environment. Other popular environments are text editors like Visual Studio or Sublime or IDEs (interactive development environment) like PyCharm.\n",
    "\n",
    "Let's open up the file **`guess_number.py`** and examine the code within."
   ]
  },
  {
   "cell_type": "markdown",
   "metadata": {},
   "source": [
    "# Next steps\n",
    "I recommend mastering a single programming language before branching out to learn others. Going very deep into a single language will have you cover most of the important concepts in computer science. Most languages share many of the same features. Once you master a single language, you should be able to transition to others fairly quick.\n",
    "\n",
    "### Best Advice: Read Books\n",
    "It is possible to google everything and find a solution. This is especially true with Python, but will leave you with many gaps in your knowledge. A better approach is to read books cover to cover. I recommend reading all four of the following books in order.\n",
    "\n",
    "* [Think Python 2nd Edition][1] by Allen Downey (free)\n",
    "* [Automate the Boring Stuff][2] by Al Sweigart (free)\n",
    "* [Fluent Python][3] by Luciano Romalho (advanced)\n",
    "* [Python Cookbook][4] by David Beazley (advanced)\n",
    "\n",
    "### Finding a Project\n",
    "Once you read every page and work through all the examples and solutions of the first two books, you will be ready to work on a project on your own. Putting together an end-to-end project on something that you are interested in is a fantastic way to grow your Python skills.\n",
    "\n",
    "### Build a Library\n",
    "One way to learn advanced Python is to build your own 3rd-party library and put it up on [Python's package index][5].\n",
    "\n",
    "[1]: http://greenteapress.com/wp/think-python-2e/\n",
    "[2]: https://automatetheboringstuff.com/\n",
    "[3]: https://www.amazon.com/Fluent-Python-Concise-Effective-Programming/dp/1491946008\n",
    "[4]: https://www.amazon.com/Python-Cookbook-Recipes-Mastering-ebook/dp/B00DQV4GGY\n",
    "[5]: https://pypi.org/"
   ]
  }
 ],
 "metadata": {
  "anaconda-cloud": {},
  "kernelspec": {
   "display_name": "Python 3",
   "language": "python",
   "name": "python3"
  },
  "language_info": {
   "codemirror_mode": {
    "name": "ipython",
    "version": 3
   },
   "file_extension": ".py",
   "mimetype": "text/x-python",
   "name": "python",
   "nbconvert_exporter": "python",
   "pygments_lexer": "ipython3",
   "version": "3.6.4"
  }
 },
 "nbformat": 4,
 "nbformat_minor": 1
}
