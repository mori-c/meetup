{
 "cells": [
  {
   "cell_type": "markdown",
   "metadata": {},
   "source": [
    "# Solutions"
   ]
  },
  {
   "cell_type": "markdown",
   "metadata": {},
   "source": [
    "### Problem 1\n",
    "<span style=\"color:green\">How many seconds are there in a century?</span>"
   ]
  },
  {
   "cell_type": "code",
   "execution_count": 1,
   "metadata": {},
   "outputs": [
    {
     "data": {
      "text/plain": [
       "3155760000.0"
      ]
     },
     "execution_count": 1,
     "metadata": {},
     "output_type": "execute_result"
    }
   ],
   "source": [
    "# your code here\n",
    "60 * 60 * 24 * 365.25 * 100"
   ]
  },
  {
   "cell_type": "markdown",
   "metadata": {},
   "source": [
    "### Problem 2\n",
    "<span style=\"color:green\">Use three different variables to store a 15% sales tax on a $70 meal to get the total and return them all as output at the same time</span>"
   ]
  },
  {
   "cell_type": "code",
   "execution_count": 6,
   "metadata": {},
   "outputs": [
    {
     "data": {
      "text/plain": [
       "(0.15, 70, 80.5)"
      ]
     },
     "execution_count": 6,
     "metadata": {},
     "output_type": "execute_result"
    }
   ],
   "source": [
    "# your code here\n",
    "tax_rate = .15\n",
    "meal = 70\n",
    "total = (tax_rate + 1) * meal\n",
    "tax_rate, meal, total"
   ]
  },
  {
   "cell_type": "markdown",
   "metadata": {},
   "source": [
    "### Problem 3\n",
    "<span style=\"color:green\">Replace each occurrence of 'in' with 'out' in the following string. </span>"
   ]
  },
  {
   "cell_type": "code",
   "execution_count": 2,
   "metadata": {},
   "outputs": [
    {
     "data": {
      "text/plain": [
       "'it is startoutg to raout on the outside'"
      ]
     },
     "execution_count": 2,
     "metadata": {},
     "output_type": "execute_result"
    }
   ],
   "source": [
    "replace_string = 'it is starting to rain on the inside'\n",
    "# your code here\n",
    "replace_string.replace('in', 'out')"
   ]
  },
  {
   "cell_type": "markdown",
   "metadata": {},
   "source": [
    "### Problem 4\n",
    "<span style=\"color:green\">Find and use a method that will strip away all the exclamation points from either end of the following string </span>"
   ]
  },
  {
   "cell_type": "code",
   "execution_count": 3,
   "metadata": {},
   "outputs": [
    {
     "data": {
      "text/plain": [
       "'a string with a dull message'"
      ]
     },
     "execution_count": 3,
     "metadata": {},
     "output_type": "execute_result"
    }
   ],
   "source": [
    "s = '!!!!a string with a dull message!!!!'\n",
    "# your code here\n",
    "s.strip('!')"
   ]
  },
  {
   "cell_type": "markdown",
   "metadata": {},
   "source": [
    "### Problem 5\n",
    "<span style=\"color:green\">Find and use a method that will find the position of the first occurrence of the letter `t` in the following string. </span>"
   ]
  },
  {
   "cell_type": "code",
   "execution_count": 1,
   "metadata": {},
   "outputs": [
    {
     "data": {
      "text/plain": [
       "4"
      ]
     },
     "execution_count": 1,
     "metadata": {},
     "output_type": "execute_result"
    }
   ],
   "source": [
    "s = 'a data scientist'\n",
    "# your code here\n",
    "s.find('t')"
   ]
  },
  {
   "cell_type": "markdown",
   "metadata": {},
   "source": [
    "### Problem 6\n",
    "<span style=\"color:green\">Select the last three letters of the following string.</span>"
   ]
  },
  {
   "cell_type": "code",
   "execution_count": 4,
   "metadata": {},
   "outputs": [
    {
     "data": {
      "text/plain": [
       "'rse'"
      ]
     },
     "execution_count": 4,
     "metadata": {},
     "output_type": "execute_result"
    }
   ],
   "source": [
    "test_string = 'make sure you complete the entire precourse'\n",
    "# your code here\n",
    "test_string[-3:]"
   ]
  },
  {
   "cell_type": "markdown",
   "metadata": {},
   "source": [
    "### Problem 7\n",
    "<span style=\"color:green\">Slice this string from index 5 to the end by every 4th element</span>"
   ]
  },
  {
   "cell_type": "code",
   "execution_count": 6,
   "metadata": {},
   "outputs": [
    {
     "data": {
      "text/plain": [
       "'ssliho ian 8'"
      ]
     },
     "execution_count": 6,
     "metadata": {},
     "output_type": "execute_result"
    }
   ],
   "source": [
    "s = 'the astros will win the world series again in 2018'\n",
    "# your code here\n",
    "s[5::4]"
   ]
  },
  {
   "cell_type": "markdown",
   "metadata": {},
   "source": [
    "### Problem 8\n",
    "<span style=\"color:green\">Select every third element starting from the last character and ending with the first. </span>"
   ]
  },
  {
   "cell_type": "code",
   "execution_count": 7,
   "metadata": {},
   "outputs": [
    {
     "data": {
      "text/plain": [
       "'82iiaeedoe wl rah'"
      ]
     },
     "execution_count": 7,
     "metadata": {},
     "output_type": "execute_result"
    }
   ],
   "source": [
    "s = 'the astros will win the world series again in 2018'\n",
    "# your code here\n",
    "s[::-3]"
   ]
  },
  {
   "cell_type": "markdown",
   "metadata": {},
   "source": [
    "### Problem 10\n",
    "<span style=\"color:green\">Create a list then use the `extend` method to add elements to it</span>"
   ]
  },
  {
   "cell_type": "code",
   "execution_count": 1,
   "metadata": {},
   "outputs": [
    {
     "data": {
      "text/plain": [
       "[4, 10, 14, 'more', 'elements', 'to', 'add']"
      ]
     },
     "execution_count": 1,
     "metadata": {},
     "output_type": "execute_result"
    }
   ],
   "source": [
    "test_list = [4, 10, 14]\n",
    "# your code here\n",
    "test_list.extend(['more', 'elements', 'to', 'add'])\n",
    "test_list"
   ]
  },
  {
   "cell_type": "markdown",
   "metadata": {},
   "source": [
    "### Problem 11\n",
    "<span style=\"color:green\">In words, without actually programming, what will <strong>my_list * 5</strong> do?</span>"
   ]
  },
  {
   "cell_type": "markdown",
   "metadata": {},
   "source": [
    "Enter you answer (double click here to edit cell):  \n",
    "`my_list * 5` will concatenate itself to itself 5 times."
   ]
  },
  {
   "cell_type": "code",
   "execution_count": 2,
   "metadata": {},
   "outputs": [
    {
     "name": "stdout",
     "output_type": "stream",
     "text": [
      "[4, 10, 14, 'more', 'elements', 'to', 'add', 4, 10, 14, 'more', 'elements', 'to', 'add', 4, 10, 14, 'more', 'elements', 'to', 'add', 4, 10, 14, 'more', 'elements', 'to', 'add', 4, 10, 14, 'more', 'elements', 'to', 'add']\n"
     ]
    }
   ],
   "source": [
    "print(test_list * 5)"
   ]
  },
  {
   "cell_type": "markdown",
   "metadata": {},
   "source": [
    "### Problem 12\n",
    "<span style=\"color:green\">Create a different string that will trigger the second print statement from above. </span> "
   ]
  },
  {
   "cell_type": "code",
   "execution_count": 43,
   "metadata": {},
   "outputs": [
    {
     "name": "stdout",
     "output_type": "stream",
     "text": [
      "The first k occurs after the 11th element\n"
     ]
    }
   ],
   "source": [
    "# your code here\n",
    "test_string = 'asdfjhweroiuk' # change this string so the second print statement below is triggered\n",
    "\n",
    "# trigger the second print statement\n",
    "if test_string.count('a') > 4:\n",
    "    print(\"There are more than 4 a's in your string\")\n",
    "elif test_string.find('k') > 10:\n",
    "    print(\"The first k occurs after the 11th element\")\n",
    "else:\n",
    "    print(\"My super intelligent responses did not find any info on your string. Please change it\")"
   ]
  },
  {
   "cell_type": "markdown",
   "metadata": {},
   "source": [
    "### Problem 13\n",
    "<span style=\"color:green\">Create a different string that will trigger the third print statement from above. </span> "
   ]
  },
  {
   "cell_type": "code",
   "execution_count": 42,
   "metadata": {},
   "outputs": [
    {
     "name": "stdout",
     "output_type": "stream",
     "text": [
      "My super intelligent responses did not find any info on your string. Please change it\n"
     ]
    }
   ],
   "source": [
    "# your code here\n",
    "test_string = 'asdfjhweroiu' # change this string so the third print statement below is triggered\n",
    "\n",
    "# trigger the third print statement\n",
    "if test_string.count('a') > 4:\n",
    "    print(\"There are more than 4 a's in your string\")\n",
    "elif test_string.find('k') > 10:\n",
    "    print(\"The first k occurs after the 11th element\")\n",
    "else:\n",
    "    print(\"My super intelligent responses did not find any info on your string. Please change it\")"
   ]
  },
  {
   "cell_type": "markdown",
   "metadata": {},
   "source": [
    "### Problem 14\n",
    "<span style=\"color:green\">Write an expression that returns true if an integer is either greater than 10 or divisible by 7.</span> "
   ]
  },
  {
   "cell_type": "code",
   "execution_count": 45,
   "metadata": {},
   "outputs": [
    {
     "data": {
      "text/plain": [
       "True"
      ]
     },
     "execution_count": 45,
     "metadata": {},
     "output_type": "execute_result"
    }
   ],
   "source": [
    "# your code here\n",
    "x = 40\n",
    "(x > 10) or (x % 7 == 0)"
   ]
  },
  {
   "cell_type": "markdown",
   "metadata": {},
   "source": [
    "### Problem 15\n",
    "<span style=\"color:green\">Write an expression that returns true if the last character of a string is not 's'</span> "
   ]
  },
  {
   "cell_type": "code",
   "execution_count": 47,
   "metadata": {},
   "outputs": [
    {
     "data": {
      "text/plain": [
       "True"
      ]
     },
     "execution_count": 47,
     "metadata": {},
     "output_type": "execute_result"
    }
   ],
   "source": [
    "test_string = 'asfdaskfjsafl'\n",
    "# your code here\n",
    "test_string[-1] != 's'"
   ]
  },
  {
   "cell_type": "markdown",
   "metadata": {},
   "source": [
    "### Problem 16\n",
    "<span style=\"color:green\">Calculate the total of the squared value of each of the first 100 positive integers.</span>"
   ]
  },
  {
   "cell_type": "code",
   "execution_count": 13,
   "metadata": {},
   "outputs": [
    {
     "data": {
      "text/plain": [
       "338350"
      ]
     },
     "execution_count": 13,
     "metadata": {},
     "output_type": "execute_result"
    }
   ],
   "source": [
    "#your code here\n",
    "total = 0\n",
    "for i in range(101):\n",
    "    total = total + i ** 2\n",
    "\n",
    "total"
   ]
  },
  {
   "cell_type": "markdown",
   "metadata": {},
   "source": [
    "### Problem 17\n",
    "<span style=\"color:green\">Use a for loop to iterate over the first 10 positive integers, printing out their squared value only if the value is greater than 50</span>"
   ]
  },
  {
   "cell_type": "code",
   "execution_count": 5,
   "metadata": {},
   "outputs": [
    {
     "name": "stdout",
     "output_type": "stream",
     "text": [
      "64\n",
      "81\n",
      "100\n"
     ]
    }
   ],
   "source": [
    "#your code here\n",
    "for i in range(1, 11):\n",
    "    squared_value = i ** 2\n",
    "    if squared_value > 50:\n",
    "        print(squared_value)"
   ]
  },
  {
   "cell_type": "markdown",
   "metadata": {},
   "source": [
    "### Problem 18\n",
    "<span style=\"color:green\">Use a while loop to find the sum of all integers between a given postive integer and 0. Print out result.</span>"
   ]
  },
  {
   "cell_type": "code",
   "execution_count": 2,
   "metadata": {},
   "outputs": [
    {
     "name": "stdout",
     "output_type": "stream",
     "text": [
      "Total is 210\n"
     ]
    }
   ],
   "source": [
    "x = 20\n",
    "total = 0\n",
    "# your code here\n",
    "while x > 0:\n",
    "    total += x\n",
    "    x -= 1\n",
    "print(f'Total is {total}')"
   ]
  },
  {
   "cell_type": "markdown",
   "metadata": {},
   "source": [
    "### Problem 19\n",
    "\n",
    "<span style=\"color:green\">Create a function that takes a string argument and returns True or False whether the string is a palindrome (spelled the same forward and backwards)</span>"
   ]
  },
  {
   "cell_type": "code",
   "execution_count": 44,
   "metadata": {},
   "outputs": [
    {
     "data": {
      "text/plain": [
       "True"
      ]
     },
     "execution_count": 44,
     "metadata": {},
     "output_type": "execute_result"
    }
   ],
   "source": [
    "# your code here\n",
    "def is_palindrome(word):\n",
    "    return word == word[::-1]\n",
    "\n",
    "is_palindrome('racecar')"
   ]
  },
  {
   "cell_type": "markdown",
   "metadata": {},
   "source": [
    "### Problem 20\n",
    "\n",
    "<span style=\"color:green\">Create a function `concat_sort_list` that takes two lists and concatenates them together, sorts the list and then returns the sorted list.</span>"
   ]
  },
  {
   "cell_type": "code",
   "execution_count": 48,
   "metadata": {
    "collapsed": true
   },
   "outputs": [],
   "source": [
    "# your code here\n",
    "def concat_sort_list(list_1, list_2):\n",
    "    final_list = list_1 + list_2\n",
    "    final_list.sort()\n",
    "    return final_list"
   ]
  },
  {
   "cell_type": "code",
   "execution_count": 49,
   "metadata": {},
   "outputs": [
    {
     "data": {
      "text/plain": [
       "True"
      ]
     },
     "execution_count": 49,
     "metadata": {},
     "output_type": "execute_result"
    }
   ],
   "source": [
    "# test code with\n",
    "concat_sort_list([4, 5, 2], [9, 0, -8]) == [-8, 0, 2, 4, 5, 9]"
   ]
  },
  {
   "cell_type": "code",
   "execution_count": 75,
   "metadata": {},
   "outputs": [],
   "source": [
    "# theres actually a built in function to do this as well\n",
    "\n",
    "def concat_sort_list2(list_1, list_2):\n",
    "    return sorted(list_1 + list_2)"
   ]
  },
  {
   "cell_type": "code",
   "execution_count": 76,
   "metadata": {},
   "outputs": [
    {
     "data": {
      "text/plain": [
       "[1, 2, 3, 4, 5, 6]"
      ]
     },
     "execution_count": 76,
     "metadata": {},
     "output_type": "execute_result"
    }
   ],
   "source": [
    "concat_sort_list2([1, 5, 6], [2,3,4])"
   ]
  },
  {
   "cell_type": "markdown",
   "metadata": {},
   "source": [
    "### Problem 21\n",
    "\n",
    "<span style=\"color:green\">Define a set and think of a function that will output the number of elements in that set.</span>"
   ]
  },
  {
   "cell_type": "code",
   "execution_count": 124,
   "metadata": {},
   "outputs": [
    {
     "data": {
      "text/plain": [
       "3"
      ]
     },
     "execution_count": 124,
     "metadata": {},
     "output_type": "execute_result"
    }
   ],
   "source": [
    "# your code here\n",
    "a_set = {4, 5, 10}\n",
    "len(a_set)"
   ]
  }
 ],
 "metadata": {
  "anaconda-cloud": {},
  "kernelspec": {
   "display_name": "Python 3",
   "language": "python",
   "name": "python3"
  },
  "language_info": {
   "codemirror_mode": {
    "name": "ipython",
    "version": 3
   },
   "file_extension": ".py",
   "mimetype": "text/x-python",
   "name": "python",
   "nbconvert_exporter": "python",
   "pygments_lexer": "ipython3",
   "version": "3.6.4"
  }
 },
 "nbformat": 4,
 "nbformat_minor": 1
}
