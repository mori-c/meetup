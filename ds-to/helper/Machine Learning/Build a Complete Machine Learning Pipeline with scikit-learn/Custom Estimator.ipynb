{
 "cells": [
  {
   "cell_type": "code",
   "execution_count": null,
   "metadata": {},
   "outputs": [],
   "source": [
    "import pandas as pd\n",
    "import numpy as np\n",
    "\n",
    "from sklearn.base import BaseEstimator\n",
    "\n",
    "class BasicTransformer(BaseEstimator):\n",
    "    \n",
    "    def __init__(self, cat_threshold=None, num_strategy='median', return_df=False):\n",
    "        # store parameters as public attributes\n",
    "        self.cat_threshold = cat_threshold\n",
    "        \n",
    "        if num_strategy not in ['mean', 'median']:\n",
    "            raise ValueError('num_strategy must be either \"mean\" or \"median\"')\n",
    "        self.num_strategy = num_strategy\n",
    "        self.return_df = return_df\n",
    "        \n",
    "    def fit(self, X, y=None):\n",
    "        # Assumes X is a DataFrame\n",
    "        self._columns = X.columns.values\n",
    "        \n",
    "        # Split data into categorical and numeric\n",
    "        self._dtypes = X.dtypes.values\n",
    "        self._kinds = np.array([dt.kind for dt in X.dtypes])\n",
    "        self._column_dtypes = {}\n",
    "        is_cat = self._kinds == 'O'\n",
    "        self._column_dtypes['cat'] = self._columns[is_cat]\n",
    "        self._column_dtypes['num'] = self._columns[~is_cat]\n",
    "        self._feature_names = self._column_dtypes['num']\n",
    "        \n",
    "        # Create a dictionary mapping categorical column to unique values above threshold\n",
    "        self._cat_cols = {}\n",
    "        for col in self._column_dtypes['cat']:\n",
    "            vc = X[col].value_counts()\n",
    "            if self.cat_threshold is not None:\n",
    "                vc = vc[vc > self.cat_threshold]\n",
    "            vals = vc.index.values\n",
    "            self._cat_cols[col] = vals\n",
    "            self._feature_names = np.append(self._feature_names, col + '_' + vals)\n",
    "            \n",
    "        # get total number of new categorical columns    \n",
    "        self._total_cat_cols = sum([len(v) for col, v in self._cat_cols.items()])\n",
    "        \n",
    "        # get mean or median\n",
    "        self._num_fill = X[self._column_dtypes['num']].agg(self.num_strategy)\n",
    "        return self\n",
    "        \n",
    "    def transform(self, X):\n",
    "        # check that we have a DataFrame with same column names as the one we fit\n",
    "        if set(self._columns) != set(X.columns):\n",
    "            raise ValueError('Passed DataFrame has different columns than fit DataFrame')\n",
    "        elif len(self._columns) != len(X.columns):\n",
    "            raise ValueError('Passed DataFrame has different number of columns than fit DataFrame')\n",
    "            \n",
    "        # fill missing values    \n",
    "        X_num = X[self._column_dtypes['num']].fillna(self._num_fill)\n",
    "        \n",
    "        # Standardize numerics\n",
    "        std = X_num.std()\n",
    "        X_num = (X_num - X_num.mean()) / std\n",
    "        zero_std = np.where(std == 0)[0]\n",
    "        \n",
    "        # If there is 0 standard deviation, then all values are the same. Set them to 0.\n",
    "        if len(zero_std) > 0:\n",
    "            X_num.iloc[:, zero_std] = 0\n",
    "        X_num = X_num.values\n",
    "        \n",
    "        # create separate array for new encoded categoricals\n",
    "        X_cat = np.empty((len(X), self._total_cat_cols), dtype='int')\n",
    "        i = 0\n",
    "        for col in self._column_dtypes['cat']:\n",
    "            vals = self._cat_cols[col]\n",
    "            for val in vals:\n",
    "                X_cat[:, i] = X[col] == val\n",
    "                i += 1\n",
    "                \n",
    "        # concatenate transformed numeric and categorical arrays\n",
    "        data = np.column_stack((X_num, X_cat))\n",
    "        \n",
    "        # return either a DataFrame or an array\n",
    "        if self.return_df:\n",
    "            return pd.DataFrame(data=data, columns=self._feature_names)\n",
    "        else:\n",
    "            return data\n",
    "    \n",
    "    def fit_transform(self, X, y=None):\n",
    "        return self.fit(X).transform(X)\n",
    "    \n",
    "    def get_feature_names(self):\n",
    "        return self._feature_names\n",
    "        \n",
    "train = pd.read_csv('https://raw.githubusercontent.com/DunderData/Machine-Learning-Tutorials/master/data/housing/train.csv')\n",
    "train = train.drop(columns='Id')\n",
    "y = train.pop('SalePrice')\n",
    "\n",
    "from sklearn.pipeline import Pipeline\n",
    "from sklearn.linear_model import Ridge\n",
    "\n",
    "bt = BasicTransformer(cat_threshold=3, return_df=True)\n",
    "basic_pipe = Pipeline([('bt', bt), ('ridge', Ridge())])\n",
    "\n",
    "from sklearn.model_selection import KFold, cross_val_score\n",
    "kf = KFold(n_splits=5, shuffle=True, random_state=123)\n",
    "\n",
    "cross_val_score(basic_pipe, train, y, cv=kf).mean()"
   ]
  },
  {
   "cell_type": "code",
   "execution_count": null,
   "metadata": {},
   "outputs": [],
   "source": [
    "test = pd.read_csv('https://raw.githubusercontent.com/DunderData/Machine-Learning-Tutorials/master/data/housing/test.csv')"
   ]
  },
  {
   "cell_type": "code",
   "execution_count": null,
   "metadata": {},
   "outputs": [],
   "source": [
    "ids = test.pop('Id')"
   ]
  },
  {
   "cell_type": "code",
   "execution_count": null,
   "metadata": {},
   "outputs": [],
   "source": [
    "bt = BasicTransformer(cat_threshold=3)\n",
    "basic_pipe = Pipeline([('bt', bt), ('ridge', Ridge())])\n",
    "basic_pipe.fit(train, y)"
   ]
  },
  {
   "cell_type": "code",
   "execution_count": null,
   "metadata": {},
   "outputs": [],
   "source": [
    "y_pred = basic_pipe.predict(test)"
   ]
  },
  {
   "cell_type": "code",
   "execution_count": null,
   "metadata": {},
   "outputs": [],
   "source": [
    "df_pred = pd.DataFrame({'id': ids.values, 'SalePrice': y_pred})\n",
    "df_pred.head()"
   ]
  },
  {
   "cell_type": "code",
   "execution_count": null,
   "metadata": {},
   "outputs": [],
   "source": [
    "mkdir data/housing/submissions"
   ]
  },
  {
   "cell_type": "code",
   "execution_count": null,
   "metadata": {},
   "outputs": [],
   "source": [
    "df_pred.to_csv('data/housing/submissions/sub1.csv', index=False)"
   ]
  },
  {
   "cell_type": "code",
   "execution_count": null,
   "metadata": {},
   "outputs": [],
   "source": [
    "!kaggle competitions submit house-prices-advanced-regression-techniques -f data/housing/submissions/sub1.csv -m \"basictransformer cat_threshold 5\""
   ]
  },
  {
   "cell_type": "code",
   "execution_count": null,
   "metadata": {},
   "outputs": [],
   "source": [
    "!kaggle competitions submissions house-prices-advanced-regression-techniques"
   ]
  },
  {
   "cell_type": "code",
   "execution_count": null,
   "metadata": {},
   "outputs": [],
   "source": [
    "!kaggle competitions list"
   ]
  },
  {
   "cell_type": "code",
   "execution_count": null,
   "metadata": {},
   "outputs": [],
   "source": [
    "from sklearn.feature_extraction.text import CountVectorizer"
   ]
  },
  {
   "cell_type": "code",
   "execution_count": null,
   "metadata": {},
   "outputs": [],
   "source": [
    "cv = CountVectorizer()"
   ]
  },
  {
   "cell_type": "code",
   "execution_count": null,
   "metadata": {},
   "outputs": [],
   "source": [
    "a = cv.fit_transform(train['HouseStyle']).todense()"
   ]
  },
  {
   "cell_type": "code",
   "execution_count": null,
   "metadata": {},
   "outputs": [],
   "source": [
    "cv.vocabulary_"
   ]
  },
  {
   "cell_type": "code",
   "execution_count": null,
   "metadata": {},
   "outputs": [],
   "source": [
    "a.sum(0)"
   ]
  },
  {
   "cell_type": "code",
   "execution_count": null,
   "metadata": {},
   "outputs": [],
   "source": [
    "train['HouseStyle'].value_counts().sort_index()"
   ]
  },
  {
   "cell_type": "code",
   "execution_count": null,
   "metadata": {},
   "outputs": [],
   "source": []
  }
 ],
 "metadata": {
  "kernelspec": {
   "display_name": "Python 3",
   "language": "python",
   "name": "python3"
  },
  "language_info": {
   "codemirror_mode": {
    "name": "ipython",
    "version": 3
   },
   "file_extension": ".py",
   "mimetype": "text/x-python",
   "name": "python",
   "nbconvert_exporter": "python",
   "pygments_lexer": "ipython3",
   "version": "3.7.3"
  }
 },
 "nbformat": 4,
 "nbformat_minor": 2
}
